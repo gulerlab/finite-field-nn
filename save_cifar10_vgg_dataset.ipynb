{
 "cells": [
  {
   "cell_type": "code",
   "execution_count": 15,
   "metadata": {},
   "outputs": [],
   "source": [
    "import numpy as np\n",
    "from numpy import ndarray\n",
    "\n",
    "import torch\n",
    "from torch.utils.data import DataLoader\n",
    "from torchvision.datasets import CIFAR10\n",
    "from torchvision.transforms import Compose, ToTensor, Lambda\n",
    "from torchvision.models import vgg16_bn, VGG16_BN_Weights\n",
    "\n",
    "from utils_numpy import collect_augment_aggregate_data, create_batch_data"
   ]
  },
  {
   "cell_type": "code",
   "execution_count": 16,
   "metadata": {},
   "outputs": [
    {
     "name": "stdout",
     "output_type": "stream",
     "text": [
      "Files already downloaded and verified\n",
      "Files already downloaded and verified\n"
     ]
    }
   ],
   "source": [
    "num_of_clients = 64\n",
    "device = 'cuda' if torch.cuda.is_available() else 'cpu'\n",
    "transform = Compose([\n",
    "    ToTensor(),\n",
    "])\n",
    "\n",
    "target_transform = Compose([\n",
    "    Lambda(lambda y: torch.zeros(10, dtype=torch.float).scatter_(0, torch.tensor(y), 1))\n",
    "])\n",
    "\n",
    "# load data\n",
    "train_dataset = CIFAR10('./data', train=True, transform=transform, target_transform=target_transform,\n",
    "                        download=True)\n",
    "train_loader = DataLoader(train_dataset, batch_size=train_dataset.data.shape[0], shuffle=False)\n",
    "test_dataset = CIFAR10('./data', train=False, transform=transform, download=True)\n",
    "test_loader = DataLoader(test_dataset, batch_size=test_dataset.data.shape[0], shuffle=False)\n",
    "\n",
    "\n",
    "all_train_data, all_train_labels = collect_augment_aggregate_data(train_dataset, train_loader, num_of_clients, 10)\n",
    "all_test_data, all_test_labels = collect_augment_aggregate_data(test_dataset, test_loader, num_of_clients, 10)\n",
    "all_train_data, all_train_labels, all_test_data, all_test_labels = create_batch_data(all_train_data, all_train_labels, all_test_data, all_test_labels, 256)\n",
    "\n",
    "vgg_backbone = vgg16_bn(weights=VGG16_BN_Weights.DEFAULT).eval()\n",
    "vgg_backbone = torch.nn.Sequential(*(list(vgg_backbone.children())[:-1])).to(device)\n",
    "\n",
    "\n",
    "with torch.no_grad():\n",
    "    train_data_all, train_label_all, test_data_all, test_label_all = [], [], [], []\n",
    "    for train_data, train_label in zip(all_train_data, all_train_labels):\n",
    "        train_data = torch.tensor(train_data)\n",
    "        train_data = train_data.to(device)\n",
    "        train_data = vgg_backbone(train_data).reshape(train_data.size(0), -1).to('cpu').numpy()\n",
    "\n",
    "        train_data_all.append(train_data)\n",
    "        train_label_all.append(train_label)\n",
    "\n",
    "    for test_data, test_label in zip(all_test_data, all_test_labels):\n",
    "        test_label_all.append(test_label)\n",
    "        test_data = torch.tensor(test_data)\n",
    "        test_data = test_data.to(device)\n",
    "        test_data = vgg_backbone(test_data).reshape(test_data.size(0), -1).to('cpu').numpy()\n",
    "        test_data_all.append(test_data)\n",
    "\n",
    "\n",
    "\n",
    "train_data_all, train_label_all = np.concatenate(train_data_all, axis=0), np.concatenate(train_label_all, axis=0)\n",
    "test_data_all, test_label_all = np.concatenate(test_data_all, axis=0), np.concatenate(test_label_all, axis=0)"
   ]
  },
  {
   "cell_type": "code",
   "execution_count": 17,
   "metadata": {},
   "outputs": [],
   "source": [
    "import os\n",
    "root_path = './data/cifar10-vgg-64/'\n",
    "if not os.path.exists(root_path):\n",
    "    os.makedirs(root_path)"
   ]
  },
  {
   "cell_type": "code",
   "execution_count": 18,
   "metadata": {},
   "outputs": [],
   "source": [
    "with open(os.path.join(root_path, 'train_data.npy'), 'wb') as fp:\n",
    "    np.save(fp, train_data_all)\n",
    "\n",
    "with open(os.path.join(root_path, 'train_label.npy'), 'wb') as fp:\n",
    "    np.save(fp, train_label_all)\n",
    "\n",
    "with open(os.path.join(root_path, 'test_data.npy'), 'wb') as fp:\n",
    "    np.save(fp, test_data_all)\n",
    "\n",
    "with open(os.path.join(root_path, 'test_label.npy'), 'wb') as fp:\n",
    "    np.save(fp, test_label_all)"
   ]
  },
  {
   "cell_type": "code",
   "execution_count": 19,
   "metadata": {},
   "outputs": [],
   "source": [
    "with open(os.path.join(root_path, 'train_data.npy'), 'rb') as fp:\n",
    "    train_data_all = np.load(fp)\n",
    "\n",
    "with open(os.path.join(root_path, 'train_label.npy'), 'rb') as fp:\n",
    "    train_label_all = np.load(fp)\n",
    "\n",
    "with open(os.path.join(root_path, 'test_data.npy'), 'rb') as fp:\n",
    "    test_data_all = np.load(fp)\n",
    "\n",
    "with open(os.path.join(root_path, 'test_label.npy'), 'rb') as fp:\n",
    "    test_label_all = np.load(fp)"
   ]
  }
 ],
 "metadata": {
  "kernelspec": {
   "display_name": "pytorch-stable",
   "language": "python",
   "name": "python3"
  },
  "language_info": {
   "codemirror_mode": {
    "name": "ipython",
    "version": 3
   },
   "file_extension": ".py",
   "mimetype": "text/x-python",
   "name": "python",
   "nbconvert_exporter": "python",
   "pygments_lexer": "ipython3",
   "version": "3.9.18"
  }
 },
 "nbformat": 4,
 "nbformat_minor": 2
}
