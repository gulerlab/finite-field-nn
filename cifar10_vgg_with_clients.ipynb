{
 "cells": [
  {
   "cell_type": "code",
   "execution_count": 1,
   "metadata": {},
   "outputs": [],
   "source": [
    "import logging\n",
    "from datetime import datetime\n",
    "from ff_clover import FiniteFieldClover\n",
    "import os\n",
    "\n",
    "experiment_now = datetime.now()\n",
    "year, month, day, hour, minute, second = experiment_now.year, experiment_now.month, experiment_now.day, \\\n",
    "    experiment_now.hour, experiment_now.minute, experiment_now.second\n",
    "\n",
    "log_file_name = '{}{}{}-{}{}{}-{}-ff-clover.log'.format(experiment_now.year, experiment_now.month,\n",
    "                                                        experiment_now.day, experiment_now.hour,\n",
    "                                                        experiment_now.minute, experiment_now.second, 'cifar10-vgg')\n",
    "log_file_path = os.path.join('./logs', log_file_name)\n",
    "logging.basicConfig(filename=log_file_path, encoding='utf-8', level=logging.DEBUG)"
   ]
  },
  {
   "cell_type": "code",
   "execution_count": 2,
   "metadata": {},
   "outputs": [
    {
     "name": "stdout",
     "output_type": "stream",
     "text": [
      "weights are initialized\n",
      "Files already downloaded and verified\n",
      "Files already downloaded and verified\n",
      "train data is handled\n",
      "test data is handled\n",
      "datasets and loaders are initialized\n",
      "epoch: 0, iter: 1, loss: 1.160130500793457\n",
      "epoch: 0, loss: 1.160130500793457, acc: 0.1464853514648535\n",
      "epoch: 0, iter: 2, loss: 1.046806275844574\n",
      "epoch: 0, iter: 3, loss: 0.9953312873840331\n",
      "epoch: 0, iter: 4, loss: 0.9326995611190797\n",
      "epoch: 0, iter: 5, loss: 0.8893783688545228\n",
      "epoch: 0, iter: 6, loss: 0.8545281291007996\n",
      "epoch: 0, iter: 7, loss: 0.8566458821296691\n",
      "epoch: 0, iter: 8, loss: 0.8472175598144532\n",
      "epoch: 0, iter: 9, loss: 0.813795804977417\n"
     ]
    }
   ],
   "source": [
    "scaled_input, scale_weight, learning_rate, prime = 8, 8, 10, 2 ** 26 - 5\n",
    "feature_size, hidden_layer_size, num_class = 25088, 128, 10\n",
    "num_epoch, batch_size = 1, 256\n",
    "net = FiniteFieldClover(scaled_input, scale_weight, learning_rate, prime,\n",
    "                        feature_size=feature_size, hidden_layer_size=hidden_layer_size, num_classes=num_class)\n",
    "net.train_vgg_cifar10(num_epoch, batch_size)"
   ]
  }
 ],
 "metadata": {
  "kernelspec": {
   "display_name": "pytorch-stable",
   "language": "python",
   "name": "python3"
  },
  "language_info": {
   "codemirror_mode": {
    "name": "ipython",
    "version": 3
   },
   "file_extension": ".py",
   "mimetype": "text/x-python",
   "name": "python",
   "nbconvert_exporter": "python",
   "pygments_lexer": "ipython3",
   "version": "3.9.18"
  }
 },
 "nbformat": 4,
 "nbformat_minor": 2
}
