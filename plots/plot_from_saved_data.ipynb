{
 "cells": [
  {
   "cell_type": "code",
   "execution_count": 5,
   "metadata": {
    "collapsed": true,
    "ExecuteTime": {
     "end_time": "2023-05-23T06:24:17.897993483Z",
     "start_time": "2023-05-23T06:24:17.304998380Z"
    }
   },
   "outputs": [],
   "source": [
    "import numpy as np\n",
    "import matplotlib.pyplot as plt\n",
    "import torch"
   ]
  },
  {
   "cell_type": "code",
   "execution_count": 3,
   "outputs": [],
   "source": [
    "# # np load tmp\n",
    "# with open('../params/2023520-213027-scaled-int-numpy-vgg-cifar10/running_acc.npy', 'rb') as fp:\n",
    "#     running_acc = np.load(fp)\n",
    "#\n",
    "# with open('../params/2023520-213027-scaled-int-numpy-vgg-cifar10/running_loss.npy', 'rb') as fp:\n",
    "#     running_loss = np.load(fp)\n",
    "#\n",
    "# with open('../params/2023520-213027-scaled-int-numpy-vgg-cifar10/running_curr_loss.npy', 'rb') as fp:\n",
    "#     running_curr_loss = np.load(fp)\n",
    "#\n",
    "# # torch load tmp\n",
    "# checkpoint = torch.load('../params/torch-vgg-cifar10.pth')\n",
    "# running_acc = checkpoint['running_acc']\n",
    "# running_loss = checkpoint['running_loss']\n",
    "# running_curr_loss = checkpoint['running_curr_loss']\n",
    "\n",
    "# plot tmp\n",
    "# plt.figure(figsize=(10, 5))\n",
    "# plt.plot(list(range(len(running_loss_relu))), running_loss_relu)\n",
    "# plt.plot(list(range(len(running_loss_net))), running_loss_net)\n",
    "# plt.plot(list(range(len(running_loss_ff))), running_loss_ff)\n",
    "# plt.ylabel('Average loss in 10 iterations')\n",
    "# plt.xlabel('Number of iterations / 10')\n",
    "# plt.title('Average Loss vs. Number of Iterations\\nBatch Size: 256')\n",
    "# plt.legend(['Real Domain - ReLU', 'Real Domain', 'Finite Field Domain'], loc='upper right')\n",
    "# plt.savefig('avg_loss_batch_256_vgg_cifar10.jpg', dpi=300)\n",
    "# plt.show()\n",
    "#\n",
    "# plt.figure(figsize=(10, 5))\n",
    "# plt.plot(list(range(len(running_curr_loss_relu))), running_curr_loss_relu)\n",
    "# plt.plot(list(range(len(running_curr_loss_net))), running_curr_loss_net)\n",
    "# plt.plot(list(range(len(running_curr_loss_ff))), running_curr_loss_ff)\n",
    "# plt.ylabel('Loss')\n",
    "# plt.xlabel('Number of iterations')\n",
    "# plt.title('Loss vs. Number of Iterations\\nBatch Size: 256')\n",
    "# plt.legend(['Real Domain - ReLU', 'Real Domain', 'Finite Field Domain'], loc='upper right')\n",
    "# plt.savefig('loss_batch_256_vgg_cifar10.jpg', dpi=300)\n",
    "# plt.show()\n",
    "#\n",
    "# plt.figure(figsize=(10, 5))\n",
    "# plt.plot(list(range(len(running_acc_relu))), running_acc_relu)\n",
    "# plt.plot(list(range(len(running_acc_net))), running_acc_net)\n",
    "# plt.plot(list(range(len(running_acc_ff))), running_acc_ff)\n",
    "# plt.ylabel('Accuracy')\n",
    "# plt.xlabel('Number of iterations')\n",
    "# locs, labels = plt.xticks()\n",
    "# plt.xticks(locs[1:-1], [str(int(x * 10)) for x in locs[1:-1]])\n",
    "# plt.title('Accuracy vs. Number of Iterations\\nBatch Size: 256')\n",
    "# plt.legend(['Real Domain - ReLU', 'Real Domain', 'Finite Field Domain'], loc='lower right')\n",
    "# plt.savefig('acc_batch_256_vgg_cifar10.jpg', dpi=300)\n",
    "# plt.show()"
   ],
   "metadata": {
    "collapsed": false,
    "ExecuteTime": {
     "end_time": "2023-05-21T20:32:33.399011824Z",
     "start_time": "2023-05-21T20:32:33.397716353Z"
    }
   }
  }
 ],
 "metadata": {
  "kernelspec": {
   "display_name": "Python 3",
   "language": "python",
   "name": "python3"
  },
  "language_info": {
   "codemirror_mode": {
    "name": "ipython",
    "version": 2
   },
   "file_extension": ".py",
   "mimetype": "text/x-python",
   "name": "python",
   "nbconvert_exporter": "python",
   "pygments_lexer": "ipython2",
   "version": "2.7.6"
  }
 },
 "nbformat": 4,
 "nbformat_minor": 0
}
