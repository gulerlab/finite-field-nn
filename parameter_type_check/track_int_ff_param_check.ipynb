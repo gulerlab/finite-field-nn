{
 "cells": [
  {
   "cell_type": "code",
   "execution_count": 1,
   "metadata": {
    "collapsed": true,
    "ExecuteTime": {
     "end_time": "2023-05-16T00:35:05.696592724Z",
     "start_time": "2023-05-16T00:35:04.956924315Z"
    }
   },
   "outputs": [],
   "source": [
    "import sys\n",
    "sys.path.append('..')\n",
    "\n",
    "import torch\n",
    "from utils import from_finite_field_to_int_domain"
   ]
  },
  {
   "cell_type": "code",
   "execution_count": 2,
   "outputs": [],
   "source": [
    "int_res_dict = torch.load('../params/5_iterations_int.tar.gz')\n",
    "ff_res_dict = torch.load('../params/5_iterations_ff.tar.gz')"
   ],
   "metadata": {
    "collapsed": false,
    "ExecuteTime": {
     "end_time": "2023-05-16T00:35:06.724814080Z",
     "start_time": "2023-05-16T00:35:06.716085337Z"
    }
   }
  },
  {
   "cell_type": "code",
   "execution_count": 3,
   "outputs": [],
   "source": [
    "# 'data': self.__saved_data,\n",
    "# 'weight_1': self.__saved_weight_1,\n",
    "# 'weight_2': self.__saved_weight_2,\n",
    "# 'label': self.__saved_label,\n",
    "# 'gradients': self.__saved_gradients,\n",
    "# 'forward': self.__saved_forward\n",
    "prime = 2 ** 26 - 5"
   ],
   "metadata": {
    "collapsed": false,
    "ExecuteTime": {
     "end_time": "2023-05-16T00:35:07.632447926Z",
     "start_time": "2023-05-16T00:35:07.628997853Z"
    }
   }
  },
  {
   "cell_type": "code",
   "execution_count": 4,
   "outputs": [
    {
     "name": "stdout",
     "output_type": "stream",
     "text": [
      "tensor([0, 0, 0, 0, 0])\n"
     ]
    }
   ],
   "source": [
    "# data comparison\n",
    "print(torch.sum(torch.abs(int_res_dict['data'] - from_finite_field_to_int_domain(ff_res_dict['data'], prime)), dim=1))"
   ],
   "metadata": {
    "collapsed": false,
    "ExecuteTime": {
     "end_time": "2023-05-16T00:35:09.013658213Z",
     "start_time": "2023-05-16T00:35:09.010597244Z"
    }
   }
  },
  {
   "cell_type": "code",
   "execution_count": 5,
   "outputs": [
    {
     "name": "stdout",
     "output_type": "stream",
     "text": [
      "tensor([0, 0, 0, 0, 0])\n"
     ]
    }
   ],
   "source": [
    "# label comparison\n",
    "print(torch.sum(torch.abs(int_res_dict['label'] - from_finite_field_to_int_domain(ff_res_dict['label'], prime)), dim=1))"
   ],
   "metadata": {
    "collapsed": false,
    "ExecuteTime": {
     "end_time": "2023-05-16T00:35:12.639524747Z",
     "start_time": "2023-05-16T00:35:12.637277659Z"
    }
   }
  },
  {
   "cell_type": "code",
   "execution_count": 16,
   "outputs": [
    {
     "name": "stdout",
     "output_type": "stream",
     "text": [
      "tensor([ 5, -1,  0,  2,  6,  8, -7, -4,  4,  8,  8,  8,  2, -8,  1, -6, -9,  8,\n",
      "         7, -9,  2, -1, -2, -4,  4, -5,  3,  5,  7,  3, -9, -6,  5,  2, -7, -5,\n",
      "         9,  6, -4, -2, -9,  0, -7, -7, -1,  1, -4,  5, -6,  8,  6, -8, -2,  0,\n",
      "         1,  3,  4,  1, -4,  4, -9, -4, -2, -4])\n",
      "tensor([       5, 67108858,        0,        2,        6,        9, 67108852,\n",
      "        67108855,        4,        8,        8,        8,        2, 67108851,\n",
      "               1, 67108853, 67108850,        8,        7, 67108850,        2,\n",
      "        67108858, 67108857, 67108855,        4, 67108854,        3,        5,\n",
      "               7,        3, 67108850, 67108853,        5,        2, 67108852,\n",
      "        67108854,        9,        6, 67108855, 67108857, 67108850,        0,\n",
      "        67108852, 67108852, 67108858,        1, 67108855,        5, 67108853,\n",
      "               8,        6, 67108851, 67108857,        0,        1,        3,\n",
      "               4,        1, 67108855,        4, 67108850, 67108855, 67108857,\n",
      "        67108855])\n",
      "tensor([ 0,  0,  0,  0,  0, -1,  0,  0,  0,  0,  0,  0,  0,  0,  0,  0,  0,  0,\n",
      "         0,  0,  0,  0,  0,  0,  0,  0,  0,  0,  0,  0,  0,  0,  0,  0,  0,  0,\n",
      "         0,  0,  0,  0,  0,  0,  0,  0,  0,  0,  0,  0,  0,  0,  0,  0,  0,  0,\n",
      "         0,  0,  0,  0,  0,  0,  0,  0,  0,  0])\n",
      "tensor([ 1,  1, -7,  1,  6,  8,  5,  1,  4, -4, -8, -8,  9,  6, -6,  4,  7,  9,\n",
      "         8,  7, -2, -3,  8,  5, -6,  8,  4,  5, -6,  3, -3,  7, -2,  4,  2,  4,\n",
      "        -3,  4, -6,  2, -6, -9, -7,  7,  5,  9,  7, -8, -6, -1, -6,  6, -7, -4,\n",
      "        -9, -4,  8,  7,  7,  7,  8, -2,  4,  8])\n",
      "tensor([       1,        1, 67108852,        1,        6,        8,        5,\n",
      "               1,        4, 67108855, 67108851, 67108851,        9,        6,\n",
      "        67108853,        4,        7,        9,        8,        7, 67108857,\n",
      "        67108857,        8,        5, 67108853,        8,        4,        5,\n",
      "        67108853,        3, 67108856,        7, 67108857,        4,        2,\n",
      "               4, 67108856,        4, 67108853,        2, 67108853, 67108850,\n",
      "        67108852,        7,        5,        9,        7, 67108851, 67108853,\n",
      "        67108858, 67108853,        6, 67108852, 67108855, 67108850, 67108855,\n",
      "               8,        7,        7,        7,        8, 67108857,        4,\n",
      "               8])\n",
      "tensor([ 0,  0,  0,  0,  0,  0,  0,  0,  0,  0,  0,  0,  0,  0,  0,  0,  0,  0,\n",
      "         0,  0,  0, -1,  0,  0,  0,  0,  0,  0,  0,  0,  0,  0,  0,  0,  0,  0,\n",
      "         0,  0,  0,  0,  0,  0,  0,  0,  0,  0,  0,  0,  0,  0,  0,  0,  0,  0,\n",
      "         0,  0,  0,  0,  0,  0,  0,  0,  0,  0])\n",
      "tensor([ -3,  -3,   1,   3,  -4,   1,   5,  -1,   3,  -1,   3,  -7,  -5,  -5,\n",
      "          8,  -2,   0,  -4,   9,   9,  -7,  -7,  -7,   0,  -2,  -6,  -3,   2,\n",
      "         -5,   2,  -2,  -4,   1,   8,  -6,   0,  -3,   9,  -8, -10,   9,  -6,\n",
      "          2,  -1,  -2,  -2,   6,   0,  -9,  -5,  -3,   5,  -6,   9,  -2,  -1,\n",
      "          7,   4,   8,   5,  -3,  -6,  -1,   8])\n",
      "tensor([67108856, 67108856,        1,        3, 67108855,        1,        5,\n",
      "        67108858,        3, 67108858,        3, 67108852, 67108854, 67108854,\n",
      "               8, 67108857,        0, 67108855,        9,        9, 67108852,\n",
      "        67108852, 67108852,        0, 67108857, 67108853, 67108856,        2,\n",
      "        67108854,        2, 67108857, 67108855,        1,        8, 67108853,\n",
      "               0, 67108856,        9, 67108851, 67108850,        9, 67108853,\n",
      "               2, 67108858, 67108857, 67108857,        6,        0, 67108850,\n",
      "        67108854, 67108856,        5, 67108853,        9, 67108857, 67108858,\n",
      "               7,        4,        8,        5, 67108856, 67108853, 67108858,\n",
      "               8])\n",
      "tensor([ 0,  0,  0,  0,  0,  0,  0,  0,  0,  0,  0,  0,  0,  0,  0,  0,  0,  0,\n",
      "         0,  0,  0,  0,  0,  0,  0,  0,  0,  0,  0,  0,  0,  0,  0,  0,  0,  0,\n",
      "         0,  0,  0, -1,  0,  0,  0,  0,  0,  0,  0,  0,  0,  0,  0,  0,  0,  0,\n",
      "         0,  0,  0,  0,  0,  0,  0,  0,  0,  0])\n"
     ]
    }
   ],
   "source": [
    "iter = 0\n",
    "for idx, row in enumerate(int_res_dict['weight_1'][2] - from_finite_field_to_int_domain(ff_res_dict['weight_1'][2], prime)):\n",
    "    if torch.count_nonzero(row) != 0:\n",
    "        print(int_res_dict['weight_1'][2][idx])\n",
    "        print(ff_res_dict['weight_1'][2][idx])\n",
    "        print(row)\n",
    "        iter += 1\n",
    "\n",
    "        if iter == 3:\n",
    "            break"
   ],
   "metadata": {
    "collapsed": false,
    "ExecuteTime": {
     "end_time": "2023-05-16T00:43:09.420161876Z",
     "start_time": "2023-05-16T00:43:09.413804375Z"
    }
   }
  },
  {
   "cell_type": "code",
   "execution_count": 8,
   "outputs": [
    {
     "data": {
      "text/plain": "67108859"
     },
     "execution_count": 8,
     "metadata": {},
     "output_type": "execute_result"
    }
   ],
   "source": [
    "2**26 -5"
   ],
   "metadata": {
    "collapsed": false,
    "ExecuteTime": {
     "end_time": "2023-05-16T00:36:27.625719048Z",
     "start_time": "2023-05-16T00:36:27.623711988Z"
    }
   }
  },
  {
   "cell_type": "code",
   "execution_count": 26,
   "outputs": [
    {
     "name": "stdout",
     "output_type": "stream",
     "text": [
      "tensor(0)\n",
      "tensor(82)\n",
      "tensor(126)\n",
      "tensor(258)\n",
      "tensor(305)\n",
      "tensor(359)\n"
     ]
    }
   ],
   "source": [
    "# weight comparison\n",
    "for idx in range(int_res_dict['weight_1'].size(0)):\n",
    "    print(torch.sum(torch.abs(int_res_dict['weight_1'][idx] - from_finite_field_to_int_domain(ff_res_dict['weight_1'][idx], prime))))"
   ],
   "metadata": {
    "collapsed": false,
    "ExecuteTime": {
     "end_time": "2023-05-10T22:01:28.033261276Z",
     "start_time": "2023-05-10T22:01:28.022811693Z"
    }
   }
  },
  {
   "cell_type": "code",
   "execution_count": 27,
   "outputs": [
    {
     "name": "stdout",
     "output_type": "stream",
     "text": [
      "tensor(0)\n",
      "tensor(0)\n",
      "tensor(0)\n",
      "tensor(5)\n",
      "tensor(6)\n",
      "tensor(10)\n"
     ]
    }
   ],
   "source": [
    "for idx in range(int_res_dict['weight_2'].size(0)):\n",
    "    print(torch.sum(torch.abs(int_res_dict['weight_2'][idx] - from_finite_field_to_int_domain(ff_res_dict['weight_2'][idx], prime))))"
   ],
   "metadata": {
    "collapsed": false,
    "ExecuteTime": {
     "end_time": "2023-05-10T22:01:30.154972471Z",
     "start_time": "2023-05-10T22:01:30.149723628Z"
    }
   }
  },
  {
   "cell_type": "code",
   "execution_count": 32,
   "outputs": [
    {
     "data": {
      "text/plain": "tensor([[0],\n        [0],\n        [0],\n        [0],\n        [0],\n        [0],\n        [0],\n        [0],\n        [0],\n        [0],\n        [0],\n        [0],\n        [0],\n        [0],\n        [0],\n        [0],\n        [0],\n        [0],\n        [0],\n        [0],\n        [0],\n        [0],\n        [0],\n        [0],\n        [0],\n        [0],\n        [0],\n        [0],\n        [0],\n        [0],\n        [0],\n        [0],\n        [0],\n        [0],\n        [0],\n        [0],\n        [0],\n        [0],\n        [0],\n        [0],\n        [0],\n        [0],\n        [0],\n        [0],\n        [0],\n        [0],\n        [0],\n        [0],\n        [0],\n        [0],\n        [0],\n        [0],\n        [0],\n        [0],\n        [0],\n        [0],\n        [0],\n        [0],\n        [0],\n        [0],\n        [0],\n        [0],\n        [0],\n        [0],\n        [0],\n        [0],\n        [0],\n        [0],\n        [0],\n        [0],\n        [0],\n        [0],\n        [0],\n        [0],\n        [0],\n        [0],\n        [0],\n        [0],\n        [0],\n        [0],\n        [0],\n        [0],\n        [0],\n        [0],\n        [0],\n        [0],\n        [0],\n        [0],\n        [0],\n        [0],\n        [0],\n        [0],\n        [0],\n        [0],\n        [0],\n        [0],\n        [0],\n        [0],\n        [0],\n        [0],\n        [0],\n        [0],\n        [0],\n        [0],\n        [0],\n        [0],\n        [0],\n        [0],\n        [0],\n        [0],\n        [0],\n        [0],\n        [0],\n        [0],\n        [0],\n        [0],\n        [0],\n        [0],\n        [0],\n        [0],\n        [0],\n        [0],\n        [0],\n        [0],\n        [0],\n        [0],\n        [0],\n        [0],\n        [0],\n        [0],\n        [0],\n        [0],\n        [0],\n        [0],\n        [0],\n        [0],\n        [0],\n        [0],\n        [0],\n        [0],\n        [0],\n        [0],\n        [0],\n        [0],\n        [0],\n        [0],\n        [0],\n        [0],\n        [0],\n        [0],\n        [0],\n        [0],\n        [0],\n        [0],\n        [0],\n        [0],\n        [0],\n        [0],\n        [0],\n        [0],\n        [0],\n        [0],\n        [0],\n        [0],\n        [0],\n        [0],\n        [0],\n        [0],\n        [0],\n        [0],\n        [0],\n        [0],\n        [0],\n        [0],\n        [0],\n        [0],\n        [0],\n        [0],\n        [0],\n        [0],\n        [0],\n        [0],\n        [0],\n        [0],\n        [0],\n        [0],\n        [0],\n        [0],\n        [0],\n        [0],\n        [0],\n        [0],\n        [0],\n        [0],\n        [0],\n        [0],\n        [0],\n        [0],\n        [0],\n        [0],\n        [0],\n        [0],\n        [0],\n        [0],\n        [0],\n        [0],\n        [0],\n        [0],\n        [0],\n        [0],\n        [0],\n        [0],\n        [0],\n        [0],\n        [0],\n        [0],\n        [0],\n        [0],\n        [0],\n        [0],\n        [0],\n        [0],\n        [0],\n        [0],\n        [0],\n        [0],\n        [0],\n        [0],\n        [0],\n        [0],\n        [0],\n        [0],\n        [0],\n        [0],\n        [0],\n        [0],\n        [0],\n        [0],\n        [0],\n        [0],\n        [0],\n        [0],\n        [0],\n        [0],\n        [0],\n        [0],\n        [0],\n        [0],\n        [0],\n        [0],\n        [0],\n        [0],\n        [0],\n        [0],\n        [0],\n        [0],\n        [0],\n        [0],\n        [0],\n        [0],\n        [0],\n        [0],\n        [0],\n        [0],\n        [0],\n        [0],\n        [0],\n        [0],\n        [0],\n        [0],\n        [0],\n        [0],\n        [0],\n        [0],\n        [0],\n        [0],\n        [0],\n        [0],\n        [0],\n        [0],\n        [0],\n        [0],\n        [0],\n        [0],\n        [0],\n        [0],\n        [0],\n        [0],\n        [0],\n        [0],\n        [0],\n        [0],\n        [0],\n        [0],\n        [0],\n        [0],\n        [0],\n        [0],\n        [0],\n        [0],\n        [0],\n        [0],\n        [0],\n        [0],\n        [0],\n        [0],\n        [0],\n        [0],\n        [0],\n        [0],\n        [0],\n        [0],\n        [0],\n        [0],\n        [0],\n        [0],\n        [0],\n        [0],\n        [0],\n        [0],\n        [0],\n        [0],\n        [0],\n        [0],\n        [0],\n        [0],\n        [0],\n        [0],\n        [0],\n        [0],\n        [0],\n        [0],\n        [0],\n        [0],\n        [0],\n        [0],\n        [0],\n        [0],\n        [0],\n        [0],\n        [0],\n        [0],\n        [0],\n        [0],\n        [0],\n        [0],\n        [0],\n        [0],\n        [0],\n        [0],\n        [0],\n        [0],\n        [0],\n        [0],\n        [0],\n        [0],\n        [0],\n        [0],\n        [0],\n        [0],\n        [0],\n        [0],\n        [0],\n        [0],\n        [0],\n        [0],\n        [0],\n        [0],\n        [0],\n        [0],\n        [0],\n        [0],\n        [0],\n        [0],\n        [0],\n        [0],\n        [0],\n        [0],\n        [0],\n        [0],\n        [0],\n        [0],\n        [0],\n        [0],\n        [0],\n        [0],\n        [0],\n        [0],\n        [0],\n        [0],\n        [0],\n        [0],\n        [0],\n        [0],\n        [0],\n        [0],\n        [0],\n        [0],\n        [0],\n        [0],\n        [0],\n        [0],\n        [0],\n        [0],\n        [0],\n        [0],\n        [0],\n        [0],\n        [0],\n        [0],\n        [0],\n        [0],\n        [0],\n        [0],\n        [0],\n        [0],\n        [0],\n        [0],\n        [0],\n        [0],\n        [0],\n        [0],\n        [0],\n        [0],\n        [0],\n        [0],\n        [0],\n        [0],\n        [0],\n        [0],\n        [0],\n        [0],\n        [0],\n        [0],\n        [0],\n        [0],\n        [0],\n        [0],\n        [0],\n        [0],\n        [0],\n        [0],\n        [0],\n        [0],\n        [0],\n        [0],\n        [0],\n        [0],\n        [0],\n        [0],\n        [0],\n        [0],\n        [0],\n        [0],\n        [0],\n        [0],\n        [0],\n        [0],\n        [0],\n        [0],\n        [0],\n        [0],\n        [0],\n        [0],\n        [0],\n        [0],\n        [0],\n        [0],\n        [0],\n        [0],\n        [0],\n        [0],\n        [0],\n        [0],\n        [0],\n        [0],\n        [0],\n        [0],\n        [0],\n        [0],\n        [0],\n        [0],\n        [0],\n        [0],\n        [0],\n        [0],\n        [0],\n        [0],\n        [0],\n        [0],\n        [0],\n        [0],\n        [0],\n        [0],\n        [0],\n        [0],\n        [0],\n        [0],\n        [0],\n        [0],\n        [0],\n        [0],\n        [0],\n        [0],\n        [0],\n        [0],\n        [0],\n        [0],\n        [0],\n        [0],\n        [0],\n        [0],\n        [0],\n        [0],\n        [0],\n        [0],\n        [0],\n        [0],\n        [0],\n        [0],\n        [0],\n        [0],\n        [0],\n        [0],\n        [0],\n        [0],\n        [0],\n        [0],\n        [0],\n        [0],\n        [0],\n        [0],\n        [0],\n        [0],\n        [0],\n        [0],\n        [0],\n        [0],\n        [0],\n        [0],\n        [0],\n        [0],\n        [0],\n        [0],\n        [0],\n        [0],\n        [0],\n        [0],\n        [0],\n        [0],\n        [0],\n        [0],\n        [0],\n        [0],\n        [0],\n        [0],\n        [0],\n        [0],\n        [0],\n        [0],\n        [0],\n        [0],\n        [0],\n        [0],\n        [0],\n        [0],\n        [0],\n        [0],\n        [0],\n        [0],\n        [0],\n        [0],\n        [0],\n        [0],\n        [0],\n        [0],\n        [0],\n        [0],\n        [0],\n        [0],\n        [0],\n        [0],\n        [0],\n        [0],\n        [0],\n        [0],\n        [0],\n        [0],\n        [0],\n        [0],\n        [0],\n        [0],\n        [0],\n        [0],\n        [0],\n        [0],\n        [0],\n        [0],\n        [0],\n        [0],\n        [0],\n        [0],\n        [0],\n        [0],\n        [0],\n        [0],\n        [0],\n        [0],\n        [0],\n        [0],\n        [0],\n        [0],\n        [0],\n        [0],\n        [0],\n        [0],\n        [0],\n        [0],\n        [0],\n        [0],\n        [0],\n        [0],\n        [0],\n        [0],\n        [0],\n        [0],\n        [0],\n        [0],\n        [0],\n        [0],\n        [0],\n        [0],\n        [0],\n        [0],\n        [0],\n        [0],\n        [0],\n        [0],\n        [0],\n        [0],\n        [0],\n        [0],\n        [0],\n        [0],\n        [0],\n        [0],\n        [0],\n        [0],\n        [0],\n        [0],\n        [0],\n        [0],\n        [0],\n        [0],\n        [0],\n        [0],\n        [0],\n        [0],\n        [0],\n        [0],\n        [0],\n        [0],\n        [0],\n        [0],\n        [0],\n        [0],\n        [0],\n        [0],\n        [0],\n        [0],\n        [0],\n        [0],\n        [0],\n        [0],\n        [0],\n        [0],\n        [0],\n        [0],\n        [0],\n        [0],\n        [0],\n        [0],\n        [0],\n        [0],\n        [0],\n        [0],\n        [0],\n        [0],\n        [0],\n        [0],\n        [0],\n        [0],\n        [0],\n        [0],\n        [0],\n        [0],\n        [0],\n        [0],\n        [0],\n        [0],\n        [0],\n        [0],\n        [0],\n        [0],\n        [0],\n        [0],\n        [0],\n        [0],\n        [0],\n        [0],\n        [0],\n        [0],\n        [0],\n        [0],\n        [0],\n        [0],\n        [0],\n        [0],\n        [0],\n        [0],\n        [0],\n        [0],\n        [0],\n        [0],\n        [0],\n        [0],\n        [0],\n        [0],\n        [0],\n        [0],\n        [0],\n        [0],\n        [0],\n        [0],\n        [0],\n        [0],\n        [0],\n        [0],\n        [0],\n        [0],\n        [0],\n        [0],\n        [0],\n        [0],\n        [0],\n        [0],\n        [0],\n        [0],\n        [0],\n        [0],\n        [0],\n        [0],\n        [0],\n        [0],\n        [0],\n        [0],\n        [0],\n        [0],\n        [0],\n        [0],\n        [0],\n        [0],\n        [0],\n        [0],\n        [0],\n        [0],\n        [0],\n        [0],\n        [0],\n        [0],\n        [0],\n        [0],\n        [0],\n        [0],\n        [0],\n        [0],\n        [0],\n        [0],\n        [0],\n        [0],\n        [0],\n        [0],\n        [0],\n        [0]])"
     },
     "execution_count": 32,
     "metadata": {},
     "output_type": "execute_result"
    }
   ],
   "source": [
    "int_res_dict['forward'][0]['input_vector'] - from_finite_field_to_int_domain(ff_res_dict['forward'][0]['input_vector'], prime)"
   ],
   "metadata": {
    "collapsed": false,
    "ExecuteTime": {
     "end_time": "2023-05-10T22:39:46.420740368Z",
     "start_time": "2023-05-10T22:39:46.403516745Z"
    }
   }
  },
  {
   "cell_type": "code",
   "execution_count": 21,
   "outputs": [
    {
     "data": {
      "text/plain": "tensor([[ 2, -1,  1,  ...,  1,  3,  8],\n        [ 2, -1,  1,  ...,  1,  3,  8],\n        [ 2, -1,  1,  ...,  1,  3,  8],\n        ...,\n        [ 2, -1,  1,  ...,  1,  3,  8],\n        [ 2, -1,  1,  ...,  1,  3,  8],\n        [ 2, -1,  1,  ...,  1,  3,  8]])"
     },
     "execution_count": 21,
     "metadata": {},
     "output_type": "execute_result"
    }
   ],
   "source": [
    "int_res_dict['gradients'][0]['weight_1_grad'] - from_finite_field_to_int_domain(ff_res_dict['gradients'][0]['weight_1_grad'], prime)"
   ],
   "metadata": {
    "collapsed": false,
    "ExecuteTime": {
     "end_time": "2023-05-16T00:46:11.438757846Z",
     "start_time": "2023-05-16T00:46:11.436502719Z"
    }
   }
  }
 ],
 "metadata": {
  "kernelspec": {
   "display_name": "Python 3",
   "language": "python",
   "name": "python3"
  },
  "language_info": {
   "codemirror_mode": {
    "name": "ipython",
    "version": 2
   },
   "file_extension": ".py",
   "mimetype": "text/x-python",
   "name": "python",
   "nbconvert_exporter": "python",
   "pygments_lexer": "ipython2",
   "version": "2.7.6"
  }
 },
 "nbformat": 4,
 "nbformat_minor": 0
}
