{
 "cells": [
  {
   "cell_type": "code",
   "execution_count": 1,
   "metadata": {
    "collapsed": true,
    "ExecuteTime": {
     "end_time": "2023-06-16T23:17:08.800723681Z",
     "start_time": "2023-06-16T23:17:08.068167650Z"
    }
   },
   "outputs": [],
   "source": [
    "import numpy as np\n",
    "\n",
    "from real_networks import RealNetworkLinearTest, RealNetworkLinearTest_v2\n",
    "from real_criterion import RealMSELoss\n",
    "from real_dataset import load_all_data_mnist, create_batch_data"
   ]
  },
  {
   "cell_type": "code",
   "execution_count": 2,
   "outputs": [],
   "source": [
    "BATCH_SIZE = 256\n",
    "EPOCH = 1\n",
    "LR = 0.00001\n",
    "PRINT = 10\n",
    "MODE = 2"
   ],
   "metadata": {
    "collapsed": false,
    "ExecuteTime": {
     "end_time": "2023-06-16T23:17:09.141672820Z",
     "start_time": "2023-06-16T23:17:09.139932198Z"
    }
   }
  },
  {
   "cell_type": "code",
   "execution_count": 3,
   "outputs": [],
   "source": [
    "# data fetching\n",
    "load_path = '../data'\n",
    "train_data, train_label, test_data, test_label = load_all_data_mnist(load_path)\n",
    "train_data, train_label, test_data, test_label = create_batch_data(train_data, train_label, test_data, test_label, BATCH_SIZE)"
   ],
   "metadata": {
    "collapsed": false,
    "ExecuteTime": {
     "end_time": "2023-06-16T23:17:14.152693960Z",
     "start_time": "2023-06-16T23:17:10.040214518Z"
    }
   }
  },
  {
   "cell_type": "code",
   "execution_count": 4,
   "outputs": [],
   "source": [
    "if MODE == 1:\n",
    "    model = RealNetworkLinearTest()\n",
    "elif MODE == 2:\n",
    "    model = RealNetworkLinearTest_v2()\n",
    "else:\n",
    "    model = None\n",
    "criterion = RealMSELoss()"
   ],
   "metadata": {
    "collapsed": false,
    "ExecuteTime": {
     "end_time": "2023-06-16T23:17:14.156960089Z",
     "start_time": "2023-06-16T23:17:14.153561964Z"
    }
   }
  },
  {
   "cell_type": "code",
   "execution_count": 5,
   "outputs": [
    {
     "name": "stdout",
     "output_type": "stream",
     "text": [
      "epoch: 1, idx: 1, accuracy: 0.09801666666666667, loss: 1.0000095585832052\n",
      "epoch: 1, idx: 10, accuracy: 0.09801666666666667, loss: 0.9000192611256326\n",
      "epoch: 1, idx: 20, accuracy: 0.09801666666666667, loss: 0.9999946864093154\n",
      "epoch: 1, idx: 30, accuracy: 0.09801666666666667, loss: 0.9998970177701875\n"
     ]
    },
    {
     "ename": "KeyboardInterrupt",
     "evalue": "",
     "output_type": "error",
     "traceback": [
      "\u001B[0;31m---------------------------------------------------------------------------\u001B[0m",
      "\u001B[0;31mKeyboardInterrupt\u001B[0m                         Traceback (most recent call last)",
      "Cell \u001B[0;32mIn[5], line 18\u001B[0m\n\u001B[1;32m     15\u001B[0m tot_sample \u001B[38;5;241m=\u001B[39m \u001B[38;5;241m0\u001B[39m\n\u001B[1;32m     16\u001B[0m \u001B[38;5;28;01mfor\u001B[39;00m train_acc_idx, (train_acc_data_batch, train_acc_label_batch) \u001B[38;5;129;01min\u001B[39;00m \u001B[38;5;28menumerate\u001B[39m(\u001B[38;5;28mzip\u001B[39m(train_data, train_label)):\n\u001B[1;32m     17\u001B[0m     \u001B[38;5;66;03m# train accuracy\u001B[39;00m\n\u001B[0;32m---> 18\u001B[0m     preds \u001B[38;5;241m=\u001B[39m \u001B[43mmodel\u001B[49m\u001B[38;5;241;43m.\u001B[39;49m\u001B[43mforward\u001B[49m\u001B[43m(\u001B[49m\u001B[43mtrain_acc_data_batch\u001B[49m\u001B[43m)\u001B[49m\n\u001B[1;32m     20\u001B[0m     pred_args \u001B[38;5;241m=\u001B[39m np\u001B[38;5;241m.\u001B[39margmax(preds, axis\u001B[38;5;241m=\u001B[39m\u001B[38;5;241m1\u001B[39m)\n\u001B[1;32m     21\u001B[0m     train_label_args \u001B[38;5;241m=\u001B[39m np\u001B[38;5;241m.\u001B[39margmax(train_acc_label_batch, axis\u001B[38;5;241m=\u001B[39m\u001B[38;5;241m1\u001B[39m)\n",
      "File \u001B[0;32m~/Desktop/umityigitbsrn/research/repos/finite-field-nn/real_custom_net/real_networks.py:59\u001B[0m, in \u001B[0;36mRealNetworkLinearTest_v2.forward\u001B[0;34m(self, input_data)\u001B[0m\n\u001B[1;32m     57\u001B[0m curr_data \u001B[38;5;241m=\u001B[39m \u001B[38;5;28mself\u001B[39m\u001B[38;5;241m.\u001B[39m_input_data\n\u001B[1;32m     58\u001B[0m \u001B[38;5;28;01mfor\u001B[39;00m layer \u001B[38;5;129;01min\u001B[39;00m \u001B[38;5;28mself\u001B[39m\u001B[38;5;241m.\u001B[39m__model:\n\u001B[0;32m---> 59\u001B[0m     curr_data \u001B[38;5;241m=\u001B[39m \u001B[43mlayer\u001B[49m\u001B[38;5;241;43m.\u001B[39;49m\u001B[43mforward\u001B[49m\u001B[43m(\u001B[49m\u001B[43mcurr_data\u001B[49m\u001B[43m)\u001B[49m\n\u001B[1;32m     60\u001B[0m \u001B[38;5;28;01mreturn\u001B[39;00m curr_data\n",
      "\u001B[0;31mKeyboardInterrupt\u001B[0m: "
     ]
    }
   ],
   "source": [
    "for epoch in range(EPOCH):\n",
    "    tot_loss = 0\n",
    "    for train_idx, (train_data_batch, train_label_batch) in enumerate(zip(train_data, train_label)):\n",
    "        # train\n",
    "        preds = model.forward(train_data_batch)\n",
    "\n",
    "        tot_loss += criterion.forward(preds, train_label_batch)\n",
    "        propagated_error = criterion.error_derivative()\n",
    "\n",
    "        model.backprop(propagated_error)\n",
    "        model.optimize(LR)\n",
    "\n",
    "        if train_idx == 0 or (train_idx + 1) % PRINT == 0:\n",
    "            tot_acc = 0\n",
    "            tot_sample = 0\n",
    "            for train_acc_idx, (train_acc_data_batch, train_acc_label_batch) in enumerate(zip(train_data, train_label)):\n",
    "                # train accuracy\n",
    "                preds = model.forward(train_acc_data_batch)\n",
    "\n",
    "                pred_args = np.argmax(preds, axis=1)\n",
    "                train_label_args = np.argmax(train_acc_label_batch, axis=1)\n",
    "                tot_acc += np.count_nonzero(pred_args == train_label_args)\n",
    "                tot_sample += train_acc_data_batch.shape[0]\n",
    "            accuracy = tot_acc / tot_sample\n",
    "            if train_idx != 0:\n",
    "                tot_loss = tot_loss / PRINT\n",
    "            print('epoch: {}, idx: {}, accuracy: {}, loss: {}'.format(epoch + 1, train_idx + 1, accuracy, tot_loss))\n",
    "            tot_loss = 0"
   ],
   "metadata": {
    "collapsed": false,
    "ExecuteTime": {
     "end_time": "2023-06-16T23:17:16.847670943Z",
     "start_time": "2023-06-16T23:17:14.158564515Z"
    }
   }
  }
 ],
 "metadata": {
  "kernelspec": {
   "display_name": "Python 3",
   "language": "python",
   "name": "python3"
  },
  "language_info": {
   "codemirror_mode": {
    "name": "ipython",
    "version": 2
   },
   "file_extension": ".py",
   "mimetype": "text/x-python",
   "name": "python",
   "nbconvert_exporter": "python",
   "pygments_lexer": "ipython2",
   "version": "2.7.6"
  }
 },
 "nbformat": 4,
 "nbformat_minor": 0
}
