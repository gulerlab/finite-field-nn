{
 "cells": [
  {
   "cell_type": "code",
   "execution_count": 31,
   "metadata": {
    "collapsed": true,
    "ExecuteTime": {
     "end_time": "2023-06-15T01:54:09.628208941Z",
     "start_time": "2023-06-15T01:54:09.587887940Z"
    }
   },
   "outputs": [],
   "source": [
    "import numpy as np\n",
    "\n",
    "from real_networks import RealNetworkLinearTest\n",
    "from real_criterion import RealMSELoss\n",
    "from real_dataset import load_all_data_mnist, create_batch_data"
   ]
  },
  {
   "cell_type": "code",
   "execution_count": 39,
   "outputs": [],
   "source": [
    "BATCH_SIZE = 128\n",
    "EPOCH = 1\n",
    "LR = 0.001\n",
    "PRINT = 20"
   ],
   "metadata": {
    "collapsed": false,
    "ExecuteTime": {
     "end_time": "2023-06-15T01:55:06.367699189Z",
     "start_time": "2023-06-15T01:55:06.362948688Z"
    }
   }
  },
  {
   "cell_type": "code",
   "execution_count": 40,
   "outputs": [],
   "source": [
    "# data fetching\n",
    "load_path = '../data'\n",
    "train_data, train_label, test_data, test_label = load_all_data_mnist(load_path)\n",
    "train_data, train_label, test_data, test_label = create_batch_data(train_data, train_label, test_data, test_label, BATCH_SIZE)"
   ],
   "metadata": {
    "collapsed": false,
    "ExecuteTime": {
     "end_time": "2023-06-15T01:55:11.035435568Z",
     "start_time": "2023-06-15T01:55:07.490270156Z"
    }
   }
  },
  {
   "cell_type": "code",
   "execution_count": 37,
   "outputs": [],
   "source": [
    "model = RealNetworkLinearTest()\n",
    "criterion = RealMSELoss()"
   ],
   "metadata": {
    "collapsed": false,
    "ExecuteTime": {
     "end_time": "2023-06-15T01:54:53.044650102Z",
     "start_time": "2023-06-15T01:54:53.040780771Z"
    }
   }
  },
  {
   "cell_type": "code",
   "execution_count": 41,
   "outputs": [
    {
     "name": "stdout",
     "output_type": "stream",
     "text": [
      "epoch: 1, idx: 1, accuracy: 0.5385, loss: 1.7287706178749038\n",
      "epoch: 1, idx: 20, accuracy: 0.5472166666666667, loss: 1.6990478310355335\n",
      "epoch: 1, idx: 40, accuracy: 0.5590666666666667, loss: 1.7906268129146425\n",
      "epoch: 1, idx: 60, accuracy: 0.5735666666666667, loss: 1.6804172805981203\n",
      "epoch: 1, idx: 80, accuracy: 0.5844, loss: 1.676219226143078\n",
      "epoch: 1, idx: 100, accuracy: 0.5899166666666666, loss: 1.5568866849462015\n",
      "epoch: 1, idx: 120, accuracy: 0.6014, loss: 1.6172376447063517\n",
      "epoch: 1, idx: 140, accuracy: 0.6165833333333334, loss: 1.5284456637547423\n",
      "epoch: 1, idx: 160, accuracy: 0.6225333333333334, loss: 1.4277116158094127\n",
      "epoch: 1, idx: 180, accuracy: 0.6256666666666667, loss: 1.3913125217686266\n",
      "epoch: 1, idx: 200, accuracy: 0.6336833333333334, loss: 1.3334045302932884\n",
      "epoch: 1, idx: 220, accuracy: 0.6415833333333333, loss: 1.3073363599655192\n",
      "epoch: 1, idx: 240, accuracy: 0.6511, loss: 1.2488409364107547\n",
      "epoch: 1, idx: 260, accuracy: 0.6613166666666667, loss: 1.2598964417304832\n",
      "epoch: 1, idx: 280, accuracy: 0.6685, loss: 1.17999659417606\n",
      "epoch: 1, idx: 300, accuracy: 0.6771, loss: 1.2275227862684017\n",
      "epoch: 1, idx: 320, accuracy: 0.68075, loss: 1.139925771219342\n",
      "epoch: 1, idx: 340, accuracy: 0.69075, loss: 1.1418582340467065\n",
      "epoch: 1, idx: 360, accuracy: 0.6979, loss: 1.113005208148354\n",
      "epoch: 1, idx: 380, accuracy: 0.6995, loss: 1.12455744064748\n",
      "epoch: 1, idx: 400, accuracy: 0.7064833333333334, loss: 1.09865435529282\n",
      "epoch: 1, idx: 420, accuracy: 0.7113, loss: 1.012277966551613\n",
      "epoch: 1, idx: 440, accuracy: 0.7152166666666666, loss: 0.9795604344433686\n",
      "epoch: 1, idx: 460, accuracy: 0.7243666666666667, loss: 0.9853324321228254\n"
     ]
    }
   ],
   "source": [
    "for epoch in range(EPOCH):\n",
    "    tot_loss = 0\n",
    "    for train_idx, (train_data_batch, train_label_batch) in enumerate(zip(train_data, train_label)):\n",
    "        # train\n",
    "        preds = model.forward(train_data_batch)\n",
    "\n",
    "        tot_loss += criterion.forward(preds, train_label_batch)\n",
    "        propagated_error = criterion.error_derivative()\n",
    "\n",
    "        model.backprop(propagated_error)\n",
    "        model.optimize(LR)\n",
    "\n",
    "        if train_idx == 0 or (train_idx + 1) % PRINT == 0:\n",
    "            tot_acc = 0\n",
    "            tot_sample = 0\n",
    "            for train_acc_idx, (train_acc_data_batch, train_acc_label_batch) in enumerate(zip(train_data, train_label)):\n",
    "                # train accuracy\n",
    "                preds = model.forward(train_acc_data_batch)\n",
    "\n",
    "                pred_args = np.argmax(preds, axis=1)\n",
    "                train_label_args = np.argmax(train_acc_label_batch, axis=1)\n",
    "                tot_acc += np.count_nonzero(pred_args == train_label_args)\n",
    "                tot_sample += train_acc_data_batch.shape[0]\n",
    "            accuracy = tot_acc / tot_sample\n",
    "            if train_idx != 0:\n",
    "                tot_loss = tot_loss / PRINT\n",
    "            print('epoch: {}, idx: {}, accuracy: {}, loss: {}'.format(epoch + 1, train_idx + 1, accuracy, tot_loss))\n",
    "            tot_loss = 0"
   ],
   "metadata": {
    "collapsed": false,
    "ExecuteTime": {
     "end_time": "2023-06-15T01:55:14.636036912Z",
     "start_time": "2023-06-15T01:55:11.075953664Z"
    }
   }
  }
 ],
 "metadata": {
  "kernelspec": {
   "display_name": "Python 3",
   "language": "python",
   "name": "python3"
  },
  "language_info": {
   "codemirror_mode": {
    "name": "ipython",
    "version": 2
   },
   "file_extension": ".py",
   "mimetype": "text/x-python",
   "name": "python",
   "nbconvert_exporter": "python",
   "pygments_lexer": "ipython2",
   "version": "2.7.6"
  }
 },
 "nbformat": 4,
 "nbformat_minor": 0
}
