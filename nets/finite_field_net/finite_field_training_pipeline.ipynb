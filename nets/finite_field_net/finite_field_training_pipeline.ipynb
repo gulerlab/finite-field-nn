{
 "cells": [
  {
   "cell_type": "code",
   "execution_count": 2,
   "metadata": {
    "ExecuteTime": {
     "end_time": "2023-06-23T02:23:24.291017906Z",
     "start_time": "2023-06-23T02:23:23.459488172Z"
    },
    "collapsed": true,
    "pycharm": {
     "name": "#%%\n"
    }
   },
   "outputs": [],
   "source": [
    "import sys\n",
    "sys.path.append('../../')\n",
    "\n",
    "import numpy as np\n",
    "from datasets import load_all_data_mnist, load_all_data_cifar10, load_all_data_fashion_mnist, load_all_data_apply_vgg_cifar10\n",
    "from utils import create_batch_data, to_finite_field_domain, to_real_domain\n",
    "import modules\n",
    "import layers\n",
    "from criterions import FiniteFieldMSELoss\n",
    "from sklearn.datasets import make_classification"
   ]
  },
  {
   "cell_type": "code",
   "execution_count": 3,
   "metadata": {
    "ExecuteTime": {
     "end_time": "2023-06-23T02:23:24.352035118Z",
     "start_time": "2023-06-23T02:23:24.351754172Z"
    },
    "collapsed": false,
    "pycharm": {
     "name": "#%%\n"
    }
   },
   "outputs": [],
   "source": [
    "BATCH_SIZE = 100\n",
    "EPOCH = 100\n",
    "PRINT = 1\n",
    "FLATTEN = False\n",
    "# 0, MNIST; 1, FashionMNIST; 2, CIFAR10; 3, VGG-CIFAR10; 4 RANDOM\n",
    "DATASET_MODE = 4\n",
    "PRIME = 2**26 - 5\n",
    "QUANTIZATION_WEIGHT = 8\n",
    "QUANTIZATION_INPUT = 8\n",
    "QUANTIZATION_BATCH_SIZE = 8\n",
    "LR = 4"
   ]
  },
  {
   "cell_type": "code",
   "execution_count": 4,
   "metadata": {
    "ExecuteTime": {
     "end_time": "2023-06-23T02:23:38.034717327Z",
     "start_time": "2023-06-23T02:23:38.032017982Z"
    },
    "collapsed": false,
    "pycharm": {
     "name": "#%%\n"
    }
   },
   "outputs": [],
   "source": [
    "# data fetching\n",
    "load_path = '../../data'\n",
    "if DATASET_MODE == 0:\n",
    "    train_data, train_label, test_data, test_label = load_all_data_mnist(load_path, QUANTIZATION_INPUT, QUANTIZATION_WEIGHT, PRIME, flatten=FLATTEN)\n",
    "elif DATASET_MODE == 1:\n",
    "    train_data, train_label, test_data, test_label = load_all_data_fashion_mnist(load_path, QUANTIZATION_INPUT, QUANTIZATION_WEIGHT, PRIME, flatten=FLATTEN)\n",
    "elif DATASET_MODE == 2:\n",
    "    train_data, train_label, test_data, test_label = load_all_data_cifar10(load_path, QUANTIZATION_INPUT, QUANTIZATION_WEIGHT, PRIME, flatten=FLATTEN)\n",
    "elif DATASET_MODE == 3:\n",
    "    train_data, train_label, test_data, test_label = load_all_data_apply_vgg_cifar10(load_path, QUANTIZATION_INPUT, QUANTIZATION_WEIGHT, PRIME, flatten=FLATTEN)\n",
    "elif DATASET_MODE == 4:\n",
    "    train_data, train_label = make_classification(n_samples=10, n_features=100, n_classes=10, n_clusters_per_class=1, n_informative=10)\n",
    "    train_data = train_data.reshape((-1, 4, 5, 5))\n",
    "    test_data, test_label = train_data, train_label\n",
    "    train_label = np.zeros((10, 10))\n",
    "    for idx, label in enumerate(test_label):\n",
    "        train_label[idx][label] = 1\n",
    "    train_data, train_label, test_data = to_finite_field_domain(train_data, QUANTIZATION_INPUT, PRIME), to_finite_field_domain(train_label, QUANTIZATION_WEIGHT, PRIME), to_finite_field_domain(test_data, QUANTIZATION_INPUT, PRIME)\n",
    "else:\n",
    "    train_data, train_label, test_data, test_label = None, None, None, None\n",
    "train_data, train_label, test_data, test_label = create_batch_data(train_data, train_label, test_data, test_label, BATCH_SIZE)"
   ]
  },
  {
   "cell_type": "code",
   "execution_count": 5,
   "metadata": {
    "ExecuteTime": {
     "end_time": "2023-06-23T02:23:38.942384912Z",
     "start_time": "2023-06-23T02:23:38.937744805Z"
    },
    "collapsed": false,
    "pycharm": {
     "name": "#%%\n"
    }
   },
   "outputs": [],
   "source": [
    "model_arr = [\n",
    "    layers.FiniteFieldPiNetSecondOrderConvLayer(4, 6, (3, 3), QUANTIZATION_WEIGHT, PRIME, first_layer=True, padding=(2, 2, 2, 2), quantization_bit_input=QUANTIZATION_INPUT),\n",
    "    layers.FiniteFieldPiNetSecondOrderConvLayer(6, 6, (5, 5), QUANTIZATION_WEIGHT, PRIME, padding=(2, 2, 2, 2)),\n",
    "    layers.FiniteFieldPiNetSecondOrderConvLayer(6, 6, (3, 3), QUANTIZATION_WEIGHT, PRIME),\n",
    "    modules.Flatten(),\n",
    "    layers.FiniteFieldPiNetSecondOrderLinearLayer(150, 64, QUANTIZATION_WEIGHT, PRIME),\n",
    "    layers.FiniteFieldLinearLayer(64, 10, QUANTIZATION_WEIGHT, PRIME)\n",
    "]\n",
    "\n",
    "model = modules.Network(model_arr)\n",
    "criterion = FiniteFieldMSELoss(PRIME, QUANTIZATION_WEIGHT, QUANTIZATION_BATCH_SIZE)"
   ]
  },
  {
   "cell_type": "code",
   "execution_count": 6,
   "metadata": {
    "ExecuteTime": {
     "end_time": "2023-06-23T02:23:58.908548661Z",
     "start_time": "2023-06-23T02:23:39.786927805Z"
    },
    "collapsed": false,
    "pycharm": {
     "name": "#%%\n"
    }
   },
   "outputs": [
    {
     "ename": "TypeError",
     "evalue": "ufunc 'right_shift' not supported for the input types, and the inputs could not be safely coerced to any supported types according to the casting rule ''safe''",
     "output_type": "error",
     "traceback": [
      "\u001b[0;31m---------------------------------------------------------------------------\u001b[0m",
      "\u001b[0;31mTypeError\u001b[0m                                 Traceback (most recent call last)",
      "Cell \u001b[0;32mIn[6], line 5\u001b[0m\n\u001b[1;32m      2\u001b[0m tot_loss \u001b[38;5;241m=\u001b[39m \u001b[38;5;241m0\u001b[39m\n\u001b[1;32m      3\u001b[0m \u001b[38;5;28;01mfor\u001b[39;00m train_idx, (train_data_batch, train_label_batch) \u001b[38;5;129;01min\u001b[39;00m \u001b[38;5;28menumerate\u001b[39m(\u001b[38;5;28mzip\u001b[39m(train_data, train_label)):\n\u001b[1;32m      4\u001b[0m     \u001b[38;5;66;03m# train\u001b[39;00m\n\u001b[0;32m----> 5\u001b[0m     preds \u001b[38;5;241m=\u001b[39m model\u001b[38;5;241m.\u001b[39mforward(train_data_batch)\n\u001b[1;32m      7\u001b[0m     loss \u001b[38;5;241m=\u001b[39m criterion\u001b[38;5;241m.\u001b[39mforward(preds, train_label_batch)\n\u001b[1;32m      8\u001b[0m     tot_loss \u001b[38;5;241m+\u001b[39m\u001b[38;5;241m=\u001b[39m loss\n",
      "File \u001b[0;32m~/Desktop/umityigitbsrn/finite-field-nn/nets/finite_field_net/../../modules.py:48\u001b[0m, in \u001b[0;36mNetwork.forward\u001b[0;34m(self, input_data)\u001b[0m\n\u001b[1;32m     46\u001b[0m curr_data \u001b[38;5;241m=\u001b[39m \u001b[38;5;28mself\u001b[39m\u001b[38;5;241m.\u001b[39m_input_data\n\u001b[1;32m     47\u001b[0m \u001b[38;5;28;01mfor\u001b[39;00m layer \u001b[38;5;129;01min\u001b[39;00m \u001b[38;5;28mself\u001b[39m\u001b[38;5;241m.\u001b[39m_model:\n\u001b[0;32m---> 48\u001b[0m     curr_data \u001b[38;5;241m=\u001b[39m layer\u001b[38;5;241m.\u001b[39mforward(curr_data)\n\u001b[1;32m     49\u001b[0m \u001b[38;5;28;01mreturn\u001b[39;00m curr_data\n",
      "File \u001b[0;32m~/Desktop/umityigitbsrn/finite-field-nn/nets/finite_field_net/layers.py:316\u001b[0m, in \u001b[0;36mFiniteFieldPiNetSecondOrderConvLayer.forward\u001b[0;34m(self, input_data)\u001b[0m\n\u001b[1;32m    314\u001b[0m \u001b[38;5;28;01mdef\u001b[39;00m \u001b[38;5;21mforward\u001b[39m(\u001b[38;5;28mself\u001b[39m, input_data):\n\u001b[1;32m    315\u001b[0m     \u001b[38;5;28mself\u001b[39m\u001b[38;5;241m.\u001b[39m_input_data \u001b[38;5;241m=\u001b[39m input_data\n\u001b[0;32m--> 316\u001b[0m     first_out \u001b[38;5;241m=\u001b[39m \u001b[38;5;28mself\u001b[39m\u001b[38;5;241m.\u001b[39m__first_conv\u001b[38;5;241m.\u001b[39mforward(input_data)\n\u001b[1;32m    317\u001b[0m     second_out \u001b[38;5;241m=\u001b[39m \u001b[38;5;28mself\u001b[39m\u001b[38;5;241m.\u001b[39m__second_conv\u001b[38;5;241m.\u001b[39mforward(input_data)\n\u001b[1;32m    318\u001b[0m     \u001b[38;5;28mself\u001b[39m\u001b[38;5;241m.\u001b[39m__inner_forward[\u001b[38;5;124m'\u001b[39m\u001b[38;5;124mout_1\u001b[39m\u001b[38;5;124m'\u001b[39m] \u001b[38;5;241m=\u001b[39m first_out\n",
      "File \u001b[0;32m~/Desktop/umityigitbsrn/finite-field-nn/nets/finite_field_net/layers.py:235\u001b[0m, in \u001b[0;36mFiniteFieldConvLayer.forward\u001b[0;34m(self, input_data)\u001b[0m\n\u001b[1;32m    233\u001b[0m output_data \u001b[38;5;241m=\u001b[39m output_data \u001b[38;5;241m%\u001b[39m \u001b[38;5;28mself\u001b[39m\u001b[38;5;241m.\u001b[39m_prime\n\u001b[1;32m    234\u001b[0m \u001b[38;5;28;01mif\u001b[39;00m \u001b[38;5;28mself\u001b[39m\u001b[38;5;241m.\u001b[39m_first_layer:\n\u001b[0;32m--> 235\u001b[0m     output_data \u001b[38;5;241m=\u001b[39m finite_field_truncation_object(output_data, \u001b[38;5;28mself\u001b[39m\u001b[38;5;241m.\u001b[39m_quantization_bit_input, \u001b[38;5;28mself\u001b[39m\u001b[38;5;241m.\u001b[39m_prime)\n\u001b[1;32m    236\u001b[0m \u001b[38;5;28;01melse\u001b[39;00m:\n\u001b[1;32m    237\u001b[0m     output_data \u001b[38;5;241m=\u001b[39m finite_field_truncation_object(output_data, \u001b[38;5;28mself\u001b[39m\u001b[38;5;241m.\u001b[39m_quantization_bit_weight, \u001b[38;5;28mself\u001b[39m\u001b[38;5;241m.\u001b[39m_prime)\n",
      "File \u001b[0;32m~/Desktop/umityigitbsrn/finite-field-nn/nets/finite_field_net/../../utils.py:340\u001b[0m, in \u001b[0;36mfinite_field_truncation_object\u001b[0;34m(finite_field, scale_down, prime)\u001b[0m\n\u001b[1;32m    338\u001b[0m negative_mask \u001b[38;5;241m=\u001b[39m finite_field \u001b[38;5;241m>\u001b[39m threshold\n\u001b[1;32m    339\u001b[0m neg_to_pos \u001b[38;5;241m=\u001b[39m (\u001b[38;5;241m-\u001b[39m\u001b[38;5;241m1\u001b[39m \u001b[38;5;241m*\u001b[39m finite_field[negative_mask]) \u001b[38;5;241m%\u001b[39m prime\n\u001b[0;32m--> 340\u001b[0m neg_to_pos \u001b[38;5;241m=\u001b[39m int_truncation_object(neg_to_pos, scale_down)\n\u001b[1;32m    341\u001b[0m neg_to_pos \u001b[38;5;241m=\u001b[39m (\u001b[38;5;241m-\u001b[39m\u001b[38;5;241m1\u001b[39m \u001b[38;5;241m*\u001b[39m neg_to_pos) \u001b[38;5;241m%\u001b[39m prime\n\u001b[1;32m    342\u001b[0m pos \u001b[38;5;241m=\u001b[39m finite_field[\u001b[38;5;241m~\u001b[39mnegative_mask]\n",
      "File \u001b[0;32m~/Desktop/umityigitbsrn/finite-field-nn/nets/finite_field_net/../../utils.py:299\u001b[0m, in \u001b[0;36mint_truncation_object\u001b[0;34m(int_domain, scale_down)\u001b[0m\n\u001b[1;32m    298\u001b[0m \u001b[38;5;28;01mdef\u001b[39;00m \u001b[38;5;21mint_truncation_object\u001b[39m(int_domain: ndarray, scale_down: \u001b[38;5;28mint\u001b[39m) \u001b[38;5;241m-\u001b[39m\u001b[38;5;241m>\u001b[39m ndarray:\n\u001b[0;32m--> 299\u001b[0m     real_domain_floor \u001b[38;5;241m=\u001b[39m int_domain \u001b[38;5;241m>>\u001b[39m scale_down\n\u001b[1;32m    300\u001b[0m     remainders \u001b[38;5;241m=\u001b[39m int_domain \u001b[38;5;241m%\u001b[39m (\u001b[38;5;241m2\u001b[39m \u001b[38;5;241m*\u001b[39m\u001b[38;5;241m*\u001b[39m scale_down)\n\u001b[1;32m    301\u001b[0m     zero_distributions_fnc \u001b[38;5;241m=\u001b[39m np\u001b[38;5;241m.\u001b[39mvectorize(\u001b[38;5;28;01mlambda\u001b[39;00m x: int_remainder_to_decimal_scalar(x, scale_down))\n",
      "\u001b[0;31mTypeError\u001b[0m: ufunc 'right_shift' not supported for the input types, and the inputs could not be safely coerced to any supported types according to the casting rule ''safe''"
     ]
    }
   ],
   "source": [
    "for epoch in range(EPOCH):\n",
    "    tot_loss = 0\n",
    "    for train_idx, (train_data_batch, train_label_batch) in enumerate(zip(train_data, train_label)):\n",
    "        # train\n",
    "        preds = model.forward(train_data_batch)\n",
    "\n",
    "        loss = criterion.forward(preds, train_label_batch)\n",
    "        tot_loss += loss\n",
    "        propagated_error = criterion.error_derivative()\n",
    "\n",
    "        model.backprop(propagated_error)\n",
    "        model.optimize(LR)\n",
    "\n",
    "        if (train_idx + 1) % PRINT == 0:\n",
    "            tot_acc = 0\n",
    "            tot_sample = 0\n",
    "            for train_acc_idx, (test_data_batch, test_label_batch) in enumerate(zip(test_data, test_label)):\n",
    "                # train accuracy\n",
    "                preds = model.forward(test_data_batch)\n",
    "                preds = to_real_domain(preds, QUANTIZATION_WEIGHT, PRIME)\n",
    "                pred_args = np.argmax(preds, axis=1)\n",
    "\n",
    "                tot_acc += np.count_nonzero(pred_args == test_label_batch)\n",
    "                tot_sample += test_data_batch.shape[0]\n",
    "            accuracy = tot_acc / tot_sample\n",
    "            if train_idx != 0:\n",
    "                tot_loss = tot_loss / PRINT\n",
    "            print('epoch: {}, idx: {}, accuracy: {}, loss: {}'.format(epoch + 1, train_idx + 1, accuracy, tot_loss))\n",
    "            tot_loss = 0"
   ]
  }
 ],
 "metadata": {
  "kernelspec": {
   "display_name": "Python 3",
   "language": "python",
   "name": "python3"
  },
  "language_info": {
   "codemirror_mode": {
    "name": "ipython",
    "version": 3
   },
   "file_extension": ".py",
   "mimetype": "text/x-python",
   "name": "python",
   "nbconvert_exporter": "python",
   "pygments_lexer": "ipython3",
   "version": "3.11.4"
  }
 },
 "nbformat": 4,
 "nbformat_minor": 0
}
