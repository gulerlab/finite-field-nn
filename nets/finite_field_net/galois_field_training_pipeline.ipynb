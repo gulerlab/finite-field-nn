{
 "cells": [
  {
   "cell_type": "code",
   "execution_count": 1,
   "metadata": {
    "collapsed": true,
    "ExecuteTime": {
     "end_time": "2023-06-23T10:37:09.936515162Z",
     "start_time": "2023-06-23T10:37:08.883599534Z"
    }
   },
   "outputs": [
    {
     "name": "stderr",
     "output_type": "stream",
     "text": [
      "/home/umityigitbsrn/miniconda3/envs/pytorch-stable/lib/python3.10/site-packages/scipy/__init__.py:146: UserWarning: A NumPy version >=1.16.5 and <1.23.0 is required for this version of SciPy (detected version 1.23.5\n",
      "  warnings.warn(f\"A NumPy version >={np_minversion} and <{np_maxversion}\"\n"
     ]
    }
   ],
   "source": [
    "import numpy as np\n",
    "from galois_datasets import load_all_data_mnist, load_all_data_cifar10, load_all_data_fashion_mnist\n",
    "from utils import create_batch_data, to_finite_field_domain, from_galois_to_real_domain\n",
    "import modules\n",
    "import galois_layers\n",
    "from galois_criterions import GaloisFieldMSELoss\n",
    "from sklearn.datasets import make_classification\n",
    "import galois"
   ]
  },
  {
   "cell_type": "code",
   "execution_count": 2,
   "outputs": [],
   "source": [
    "BATCH_SIZE = 256\n",
    "EPOCH = 100\n",
    "PRINT = 1\n",
    "FLATTEN = False\n",
    "# 0, MNIST; 1, FashionMNIST; 2, CIFAR10; 3 RANDOM\n",
    "DATASET_MODE = 3\n",
    "PRIME = 2**26 - 5\n",
    "QUANTIZATION_WEIGHT = 8\n",
    "QUANTIZATION_INPUT = 8\n",
    "QUANTIZATION_BATCH_SIZE = 8\n",
    "LR = 1"
   ],
   "metadata": {
    "collapsed": false,
    "ExecuteTime": {
     "end_time": "2023-06-23T10:37:10.618206652Z",
     "start_time": "2023-06-23T10:37:10.615683040Z"
    }
   }
  },
  {
   "cell_type": "code",
   "execution_count": 3,
   "outputs": [
    {
     "name": "stderr",
     "output_type": "stream",
     "text": [
      "OMP: Info #276: omp_set_nested routine deprecated, please use omp_set_max_active_levels instead.\n"
     ]
    }
   ],
   "source": [
    "field = galois.GF(PRIME)"
   ],
   "metadata": {
    "collapsed": false,
    "ExecuteTime": {
     "end_time": "2023-06-23T10:37:11.863134381Z",
     "start_time": "2023-06-23T10:37:11.341611192Z"
    }
   }
  },
  {
   "cell_type": "code",
   "execution_count": 4,
   "outputs": [],
   "source": [
    "# data fetching\n",
    "load_path = '../../data'\n",
    "if DATASET_MODE == 0:\n",
    "    train_data, train_label, test_data, test_label = load_all_data_mnist(load_path, QUANTIZATION_INPUT, QUANTIZATION_WEIGHT, PRIME, field, flatten=FLATTEN)\n",
    "elif DATASET_MODE == 1:\n",
    "    train_data, train_label, test_data, test_label = load_all_data_fashion_mnist(load_path, QUANTIZATION_INPUT, QUANTIZATION_WEIGHT, PRIME, field, flatten=FLATTEN)\n",
    "elif DATASET_MODE == 2:\n",
    "    train_data, train_label, test_data, test_label = load_all_data_cifar10(load_path, QUANTIZATION_INPUT, QUANTIZATION_WEIGHT, PRIME, field, flatten=FLATTEN)\n",
    "elif DATASET_MODE == 3:\n",
    "    train_data, train_label = make_classification(n_samples=25, n_features=28*28*3, n_classes=10, n_clusters_per_class=1, n_informative=120)\n",
    "    train_data = train_data.reshape((-1, 3, 28, 28))\n",
    "    test_data, test_label = train_data, train_label\n",
    "    train_label = np.zeros((25, 10))\n",
    "    for idx, label in enumerate(test_label):\n",
    "        train_label[idx][label] = 1\n",
    "    train_data, train_label, test_data = to_finite_field_domain(train_data, QUANTIZATION_INPUT, PRIME), to_finite_field_domain(train_label, QUANTIZATION_WEIGHT, PRIME), to_finite_field_domain(test_data, QUANTIZATION_INPUT, PRIME)\n",
    "    train_data, train_label, test_data = field(train_data), field(train_label), field(test_data)\n",
    "else:\n",
    "    train_data, train_label, test_data, test_label = None, None, None, None\n",
    "train_data, train_label, test_data, test_label = create_batch_data(train_data, train_label, test_data, test_label, BATCH_SIZE)"
   ],
   "metadata": {
    "collapsed": false,
    "ExecuteTime": {
     "end_time": "2023-06-23T10:37:13.352533638Z",
     "start_time": "2023-06-23T10:37:13.335334847Z"
    }
   }
  },
  {
   "cell_type": "code",
   "execution_count": 5,
   "outputs": [],
   "source": [
    "model_arr = [\n",
    "    galois_layers.GaloisFieldPiNetSecondOrderConvLayer(3, 6, (5, 5), QUANTIZATION_WEIGHT, PRIME, field, first_layer=True, padding=(2, 2, 2, 2), quantization_bit_input=QUANTIZATION_INPUT),\n",
    "    galois_layers.GaloisFieldPiNetSecondOrderConvLayer(6, 16, (5, 5), QUANTIZATION_WEIGHT, PRIME, field, first_layer=True, quantization_bit_input=QUANTIZATION_INPUT),\n",
    "    modules.Flatten(),\n",
    "    galois_layers.GaloisFieldPiNetSecondOrderLinearLayer(9216, 128, QUANTIZATION_WEIGHT, PRIME, field),\n",
    "    galois_layers.GaloisFieldLinearLayer(128, 10, QUANTIZATION_WEIGHT, PRIME, field)\n",
    "]\n",
    "\n",
    "model = modules.Network(model_arr)\n",
    "criterion = GaloisFieldMSELoss(PRIME, QUANTIZATION_WEIGHT, QUANTIZATION_BATCH_SIZE, field)"
   ],
   "metadata": {
    "collapsed": false,
    "ExecuteTime": {
     "end_time": "2023-06-23T10:37:15.061473750Z",
     "start_time": "2023-06-23T10:37:14.991862786Z"
    }
   }
  },
  {
   "cell_type": "code",
   "execution_count": 6,
   "outputs": [
    {
     "name": "stdout",
     "output_type": "stream",
     "text": [
      "15651.882026977539\n",
      "505690.41200073244\n"
     ]
    },
    {
     "ename": "KeyboardInterrupt",
     "evalue": "",
     "output_type": "error",
     "traceback": [
      "\u001B[0;31m---------------------------------------------------------------------------\u001B[0m",
      "\u001B[0;31mKeyboardInterrupt\u001B[0m                         Traceback (most recent call last)",
      "Cell \u001B[0;32mIn[6], line 11\u001B[0m\n\u001B[1;32m      8\u001B[0m tot_loss \u001B[38;5;241m+\u001B[39m\u001B[38;5;241m=\u001B[39m loss\n\u001B[1;32m      9\u001B[0m propagated_error \u001B[38;5;241m=\u001B[39m criterion\u001B[38;5;241m.\u001B[39merror_derivative()\n\u001B[0;32m---> 11\u001B[0m \u001B[43mmodel\u001B[49m\u001B[38;5;241;43m.\u001B[39;49m\u001B[43mbackprop\u001B[49m\u001B[43m(\u001B[49m\u001B[43mpropagated_error\u001B[49m\u001B[43m)\u001B[49m\n\u001B[1;32m     12\u001B[0m model\u001B[38;5;241m.\u001B[39moptimize(LR)\n\u001B[1;32m     13\u001B[0m \u001B[38;5;28mprint\u001B[39m(loss)\n",
      "File \u001B[0;32m~/Desktop/umityigitbsrn/research/repos/finite-field-nn/modules.py:56\u001B[0m, in \u001B[0;36mNetwork.backprop\u001B[0;34m(self, propagated_error)\u001B[0m\n\u001B[1;32m     54\u001B[0m \u001B[38;5;28;01mfor\u001B[39;00m layer \u001B[38;5;129;01min\u001B[39;00m \u001B[38;5;28mreversed\u001B[39m(\u001B[38;5;28mself\u001B[39m\u001B[38;5;241m.\u001B[39m_model):\n\u001B[1;32m     55\u001B[0m     layer\u001B[38;5;241m.\u001B[39mbackprop(curr_error)\n\u001B[0;32m---> 56\u001B[0m     curr_error \u001B[38;5;241m=\u001B[39m \u001B[43mlayer\u001B[49m\u001B[38;5;241;43m.\u001B[39;49m\u001B[43mloss\u001B[49m\u001B[43m(\u001B[49m\u001B[43m)\u001B[49m\n",
      "File \u001B[0;32m~/Desktop/umityigitbsrn/research/repos/finite-field-nn/nets/finite_field_net/galois_layers.py:390\u001B[0m, in \u001B[0;36mGaloisFieldPiNetSecondOrderConvLayer.loss\u001B[0;34m(self)\u001B[0m\n\u001B[1;32m    389\u001B[0m \u001B[38;5;28;01mdef\u001B[39;00m \u001B[38;5;21mloss\u001B[39m(\u001B[38;5;28mself\u001B[39m):\n\u001B[0;32m--> 390\u001B[0m     \u001B[38;5;28;01mreturn\u001B[39;00m \u001B[38;5;28;43mself\u001B[39;49m\u001B[38;5;241;43m.\u001B[39;49m\u001B[43m__first_conv\u001B[49m\u001B[38;5;241;43m.\u001B[39;49m\u001B[43mloss\u001B[49m\u001B[43m(\u001B[49m\u001B[43m)\u001B[49m \u001B[38;5;241m+\u001B[39m \u001B[38;5;28mself\u001B[39m\u001B[38;5;241m.\u001B[39m__second_conv\u001B[38;5;241m.\u001B[39mloss()\n",
      "File \u001B[0;32m~/Desktop/umityigitbsrn/research/repos/finite-field-nn/nets/finite_field_net/galois_layers.py:320\u001B[0m, in \u001B[0;36mGaloisFieldConvLayer.loss\u001B[0;34m(self)\u001B[0m\n\u001B[1;32m    316\u001B[0m resulting_error \u001B[38;5;241m=\u001B[39m resulting_error[:, :, padding_top:(image_height \u001B[38;5;241m-\u001B[39m\n\u001B[1;32m    317\u001B[0m                                                      padding_bottom), padding_left:(image_width \u001B[38;5;241m-\u001B[39m\n\u001B[1;32m    318\u001B[0m                                                                                     padding_right)]\n\u001B[1;32m    319\u001B[0m resulting_error \u001B[38;5;241m=\u001B[39m from_galois_to_finite_field(resulting_error)\n\u001B[0;32m--> 320\u001B[0m resulting_error \u001B[38;5;241m=\u001B[39m \u001B[43mfinite_field_truncation\u001B[49m\u001B[43m(\u001B[49m\u001B[43mresulting_error\u001B[49m\u001B[43m,\u001B[49m\u001B[43m \u001B[49m\u001B[38;5;28;43mself\u001B[39;49m\u001B[38;5;241;43m.\u001B[39;49m\u001B[43m_quantization_bit_weight\u001B[49m\u001B[43m,\u001B[49m\u001B[43m \u001B[49m\u001B[38;5;28;43mself\u001B[39;49m\u001B[38;5;241;43m.\u001B[39;49m\u001B[43m_prime\u001B[49m\u001B[43m)\u001B[49m\n\u001B[1;32m    321\u001B[0m resulting_error \u001B[38;5;241m=\u001B[39m \u001B[38;5;28mself\u001B[39m\u001B[38;5;241m.\u001B[39m_field(resulting_error)\n\u001B[1;32m    322\u001B[0m \u001B[38;5;28;01mreturn\u001B[39;00m resulting_error\n",
      "File \u001B[0;32m~/Desktop/umityigitbsrn/research/repos/finite-field-nn/utils.py:78\u001B[0m, in \u001B[0;36mfinite_field_truncation\u001B[0;34m(finite_field, scale_down, prime)\u001B[0m\n\u001B[1;32m     76\u001B[0m \u001B[38;5;28;01mdef\u001B[39;00m \u001B[38;5;21mfinite_field_truncation\u001B[39m(finite_field: ndarray, scale_down: \u001B[38;5;28mint\u001B[39m, prime: \u001B[38;5;28mint\u001B[39m) \u001B[38;5;241m-\u001B[39m\u001B[38;5;241m>\u001B[39m ndarray:\n\u001B[1;32m     77\u001B[0m     int_domain \u001B[38;5;241m=\u001B[39m from_finite_field_to_int_domain(finite_field, prime)\n\u001B[0;32m---> 78\u001B[0m     int_domain \u001B[38;5;241m=\u001B[39m \u001B[43mint_truncation\u001B[49m\u001B[43m(\u001B[49m\u001B[43mint_domain\u001B[49m\u001B[43m,\u001B[49m\u001B[43m \u001B[49m\u001B[43mscale_down\u001B[49m\u001B[43m)\u001B[49m\n\u001B[1;32m     79\u001B[0m     finite_field_domain \u001B[38;5;241m=\u001B[39m from_int_to_finite_field_domain(int_domain, prime)\n\u001B[1;32m     80\u001B[0m     \u001B[38;5;28;01mreturn\u001B[39;00m finite_field_domain\n",
      "File \u001B[0;32m~/Desktop/umityigitbsrn/research/repos/finite-field-nn/utils.py:53\u001B[0m, in \u001B[0;36mint_truncation\u001B[0;34m(int_domain, scale_down)\u001B[0m\n\u001B[1;32m     51\u001B[0m zero_distributions \u001B[38;5;241m=\u001B[39m real_domain \u001B[38;5;241m-\u001B[39m real_domain_floor\n\u001B[1;32m     52\u001B[0m stochastic_fnc \u001B[38;5;241m=\u001B[39m np\u001B[38;5;241m.\u001B[39mvectorize(\u001B[38;5;28;01mlambda\u001B[39;00m x: np\u001B[38;5;241m.\u001B[39mrandom\u001B[38;5;241m.\u001B[39mchoice([\u001B[38;5;241m0\u001B[39m, \u001B[38;5;241m1\u001B[39m], \u001B[38;5;241m1\u001B[39m, p\u001B[38;5;241m=\u001B[39m[\u001B[38;5;241m1\u001B[39m \u001B[38;5;241m-\u001B[39m x, x])[\u001B[38;5;241m0\u001B[39m])\n\u001B[0;32m---> 53\u001B[0m zero_distributions \u001B[38;5;241m=\u001B[39m \u001B[43mstochastic_fnc\u001B[49m\u001B[43m(\u001B[49m\u001B[43mzero_distributions\u001B[49m\u001B[43m)\u001B[49m\n\u001B[1;32m     55\u001B[0m truncated_int_domain \u001B[38;5;241m=\u001B[39m (real_domain_floor \u001B[38;5;241m+\u001B[39m zero_distributions)\u001B[38;5;241m.\u001B[39mastype(np\u001B[38;5;241m.\u001B[39mint64)\n\u001B[1;32m     56\u001B[0m \u001B[38;5;28;01mreturn\u001B[39;00m truncated_int_domain\n",
      "File \u001B[0;32m~/miniconda3/envs/pytorch-stable/lib/python3.10/site-packages/numpy/lib/function_base.py:2328\u001B[0m, in \u001B[0;36mvectorize.__call__\u001B[0;34m(self, *args, **kwargs)\u001B[0m\n\u001B[1;32m   2325\u001B[0m     vargs \u001B[38;5;241m=\u001B[39m [args[_i] \u001B[38;5;28;01mfor\u001B[39;00m _i \u001B[38;5;129;01min\u001B[39;00m inds]\n\u001B[1;32m   2326\u001B[0m     vargs\u001B[38;5;241m.\u001B[39mextend([kwargs[_n] \u001B[38;5;28;01mfor\u001B[39;00m _n \u001B[38;5;129;01min\u001B[39;00m names])\n\u001B[0;32m-> 2328\u001B[0m \u001B[38;5;28;01mreturn\u001B[39;00m \u001B[38;5;28;43mself\u001B[39;49m\u001B[38;5;241;43m.\u001B[39;49m\u001B[43m_vectorize_call\u001B[49m\u001B[43m(\u001B[49m\u001B[43mfunc\u001B[49m\u001B[38;5;241;43m=\u001B[39;49m\u001B[43mfunc\u001B[49m\u001B[43m,\u001B[49m\u001B[43m \u001B[49m\u001B[43margs\u001B[49m\u001B[38;5;241;43m=\u001B[39;49m\u001B[43mvargs\u001B[49m\u001B[43m)\u001B[49m\n",
      "File \u001B[0;32m~/miniconda3/envs/pytorch-stable/lib/python3.10/site-packages/numpy/lib/function_base.py:2411\u001B[0m, in \u001B[0;36mvectorize._vectorize_call\u001B[0;34m(self, func, args)\u001B[0m\n\u001B[1;32m   2408\u001B[0m \u001B[38;5;66;03m# Convert args to object arrays first\u001B[39;00m\n\u001B[1;32m   2409\u001B[0m inputs \u001B[38;5;241m=\u001B[39m [asanyarray(a, dtype\u001B[38;5;241m=\u001B[39m\u001B[38;5;28mobject\u001B[39m) \u001B[38;5;28;01mfor\u001B[39;00m a \u001B[38;5;129;01min\u001B[39;00m args]\n\u001B[0;32m-> 2411\u001B[0m outputs \u001B[38;5;241m=\u001B[39m \u001B[43mufunc\u001B[49m\u001B[43m(\u001B[49m\u001B[38;5;241;43m*\u001B[39;49m\u001B[43minputs\u001B[49m\u001B[43m)\u001B[49m\n\u001B[1;32m   2413\u001B[0m \u001B[38;5;28;01mif\u001B[39;00m ufunc\u001B[38;5;241m.\u001B[39mnout \u001B[38;5;241m==\u001B[39m \u001B[38;5;241m1\u001B[39m:\n\u001B[1;32m   2414\u001B[0m     res \u001B[38;5;241m=\u001B[39m asanyarray(outputs, dtype\u001B[38;5;241m=\u001B[39motypes[\u001B[38;5;241m0\u001B[39m])\n",
      "File \u001B[0;32m~/Desktop/umityigitbsrn/research/repos/finite-field-nn/utils.py:52\u001B[0m, in \u001B[0;36mint_truncation.<locals>.<lambda>\u001B[0;34m(x)\u001B[0m\n\u001B[1;32m     49\u001B[0m real_domain_floor \u001B[38;5;241m=\u001B[39m np\u001B[38;5;241m.\u001B[39mfloor(real_domain)\n\u001B[1;32m     51\u001B[0m zero_distributions \u001B[38;5;241m=\u001B[39m real_domain \u001B[38;5;241m-\u001B[39m real_domain_floor\n\u001B[0;32m---> 52\u001B[0m stochastic_fnc \u001B[38;5;241m=\u001B[39m np\u001B[38;5;241m.\u001B[39mvectorize(\u001B[38;5;28;01mlambda\u001B[39;00m x: \u001B[43mnp\u001B[49m\u001B[38;5;241;43m.\u001B[39;49m\u001B[43mrandom\u001B[49m\u001B[38;5;241;43m.\u001B[39;49m\u001B[43mchoice\u001B[49m\u001B[43m(\u001B[49m\u001B[43m[\u001B[49m\u001B[38;5;241;43m0\u001B[39;49m\u001B[43m,\u001B[49m\u001B[43m \u001B[49m\u001B[38;5;241;43m1\u001B[39;49m\u001B[43m]\u001B[49m\u001B[43m,\u001B[49m\u001B[43m \u001B[49m\u001B[38;5;241;43m1\u001B[39;49m\u001B[43m,\u001B[49m\u001B[43m \u001B[49m\u001B[43mp\u001B[49m\u001B[38;5;241;43m=\u001B[39;49m\u001B[43m[\u001B[49m\u001B[38;5;241;43m1\u001B[39;49m\u001B[43m \u001B[49m\u001B[38;5;241;43m-\u001B[39;49m\u001B[43m \u001B[49m\u001B[43mx\u001B[49m\u001B[43m,\u001B[49m\u001B[43m \u001B[49m\u001B[43mx\u001B[49m\u001B[43m]\u001B[49m\u001B[43m)\u001B[49m[\u001B[38;5;241m0\u001B[39m])\n\u001B[1;32m     53\u001B[0m zero_distributions \u001B[38;5;241m=\u001B[39m stochastic_fnc(zero_distributions)\n\u001B[1;32m     55\u001B[0m truncated_int_domain \u001B[38;5;241m=\u001B[39m (real_domain_floor \u001B[38;5;241m+\u001B[39m zero_distributions)\u001B[38;5;241m.\u001B[39mastype(np\u001B[38;5;241m.\u001B[39mint64)\n",
      "File \u001B[0;32mmtrand.pyx:946\u001B[0m, in \u001B[0;36mnumpy.random.mtrand.RandomState.choice\u001B[0;34m()\u001B[0m\n",
      "File \u001B[0;32m<__array_function__ internals>:180\u001B[0m, in \u001B[0;36mprod\u001B[0;34m(*args, **kwargs)\u001B[0m\n",
      "File \u001B[0;32m~/miniconda3/envs/pytorch-stable/lib/python3.10/site-packages/numpy/core/fromnumeric.py:3045\u001B[0m, in \u001B[0;36mprod\u001B[0;34m(a, axis, dtype, out, keepdims, initial, where)\u001B[0m\n\u001B[1;32m   2927\u001B[0m \u001B[38;5;129m@array_function_dispatch\u001B[39m(_prod_dispatcher)\n\u001B[1;32m   2928\u001B[0m \u001B[38;5;28;01mdef\u001B[39;00m \u001B[38;5;21mprod\u001B[39m(a, axis\u001B[38;5;241m=\u001B[39m\u001B[38;5;28;01mNone\u001B[39;00m, dtype\u001B[38;5;241m=\u001B[39m\u001B[38;5;28;01mNone\u001B[39;00m, out\u001B[38;5;241m=\u001B[39m\u001B[38;5;28;01mNone\u001B[39;00m, keepdims\u001B[38;5;241m=\u001B[39mnp\u001B[38;5;241m.\u001B[39m_NoValue,\n\u001B[1;32m   2929\u001B[0m          initial\u001B[38;5;241m=\u001B[39mnp\u001B[38;5;241m.\u001B[39m_NoValue, where\u001B[38;5;241m=\u001B[39mnp\u001B[38;5;241m.\u001B[39m_NoValue):\n\u001B[1;32m   2930\u001B[0m     \u001B[38;5;124;03m\"\"\"\u001B[39;00m\n\u001B[1;32m   2931\u001B[0m \u001B[38;5;124;03m    Return the product of array elements over a given axis.\u001B[39;00m\n\u001B[1;32m   2932\u001B[0m \n\u001B[0;32m   (...)\u001B[0m\n\u001B[1;32m   3043\u001B[0m \u001B[38;5;124;03m    10\u001B[39;00m\n\u001B[1;32m   3044\u001B[0m \u001B[38;5;124;03m    \"\"\"\u001B[39;00m\n\u001B[0;32m-> 3045\u001B[0m     \u001B[38;5;28;01mreturn\u001B[39;00m \u001B[43m_wrapreduction\u001B[49m\u001B[43m(\u001B[49m\u001B[43ma\u001B[49m\u001B[43m,\u001B[49m\u001B[43m \u001B[49m\u001B[43mnp\u001B[49m\u001B[38;5;241;43m.\u001B[39;49m\u001B[43mmultiply\u001B[49m\u001B[43m,\u001B[49m\u001B[43m \u001B[49m\u001B[38;5;124;43m'\u001B[39;49m\u001B[38;5;124;43mprod\u001B[39;49m\u001B[38;5;124;43m'\u001B[39;49m\u001B[43m,\u001B[49m\u001B[43m \u001B[49m\u001B[43maxis\u001B[49m\u001B[43m,\u001B[49m\u001B[43m \u001B[49m\u001B[43mdtype\u001B[49m\u001B[43m,\u001B[49m\u001B[43m \u001B[49m\u001B[43mout\u001B[49m\u001B[43m,\u001B[49m\n\u001B[1;32m   3046\u001B[0m \u001B[43m                          \u001B[49m\u001B[43mkeepdims\u001B[49m\u001B[38;5;241;43m=\u001B[39;49m\u001B[43mkeepdims\u001B[49m\u001B[43m,\u001B[49m\u001B[43m \u001B[49m\u001B[43minitial\u001B[49m\u001B[38;5;241;43m=\u001B[39;49m\u001B[43minitial\u001B[49m\u001B[43m,\u001B[49m\u001B[43m \u001B[49m\u001B[43mwhere\u001B[49m\u001B[38;5;241;43m=\u001B[39;49m\u001B[43mwhere\u001B[49m\u001B[43m)\u001B[49m\n",
      "File \u001B[0;32m~/miniconda3/envs/pytorch-stable/lib/python3.10/site-packages/numpy/core/fromnumeric.py:69\u001B[0m, in \u001B[0;36m_wrapreduction\u001B[0;34m(obj, ufunc, method, axis, dtype, out, **kwargs)\u001B[0m\n\u001B[1;32m     58\u001B[0m     \u001B[38;5;28;01mexcept\u001B[39;00m \u001B[38;5;167;01mTypeError\u001B[39;00m:\n\u001B[1;32m     59\u001B[0m         \u001B[38;5;66;03m# A TypeError occurs if the object does have such a method in its\u001B[39;00m\n\u001B[1;32m     60\u001B[0m         \u001B[38;5;66;03m# class, but its signature is not identical to that of NumPy's. This\u001B[39;00m\n\u001B[0;32m   (...)\u001B[0m\n\u001B[1;32m     64\u001B[0m         \u001B[38;5;66;03m# Call _wrapit from within the except clause to ensure a potential\u001B[39;00m\n\u001B[1;32m     65\u001B[0m         \u001B[38;5;66;03m# exception has a traceback chain.\u001B[39;00m\n\u001B[1;32m     66\u001B[0m         \u001B[38;5;28;01mreturn\u001B[39;00m _wrapit(obj, method, \u001B[38;5;241m*\u001B[39margs, \u001B[38;5;241m*\u001B[39m\u001B[38;5;241m*\u001B[39mkwds)\n\u001B[0;32m---> 69\u001B[0m \u001B[38;5;28;01mdef\u001B[39;00m \u001B[38;5;21m_wrapreduction\u001B[39m(obj, ufunc, method, axis, dtype, out, \u001B[38;5;241m*\u001B[39m\u001B[38;5;241m*\u001B[39mkwargs):\n\u001B[1;32m     70\u001B[0m     passkwargs \u001B[38;5;241m=\u001B[39m {k: v \u001B[38;5;28;01mfor\u001B[39;00m k, v \u001B[38;5;129;01min\u001B[39;00m kwargs\u001B[38;5;241m.\u001B[39mitems()\n\u001B[1;32m     71\u001B[0m                   \u001B[38;5;28;01mif\u001B[39;00m v \u001B[38;5;129;01mis\u001B[39;00m \u001B[38;5;129;01mnot\u001B[39;00m np\u001B[38;5;241m.\u001B[39m_NoValue}\n\u001B[1;32m     73\u001B[0m     \u001B[38;5;28;01mif\u001B[39;00m \u001B[38;5;28mtype\u001B[39m(obj) \u001B[38;5;129;01mis\u001B[39;00m \u001B[38;5;129;01mnot\u001B[39;00m mu\u001B[38;5;241m.\u001B[39mndarray:\n",
      "\u001B[0;31mKeyboardInterrupt\u001B[0m: "
     ]
    }
   ],
   "source": [
    "for epoch in range(EPOCH):\n",
    "    tot_loss = 0\n",
    "    for train_idx, (train_data_batch, train_label_batch) in enumerate(zip(train_data, train_label)):\n",
    "        # train\n",
    "        preds = model.forward(train_data_batch)\n",
    "\n",
    "        loss = criterion.forward(preds, train_label_batch)\n",
    "        tot_loss += loss\n",
    "        propagated_error = criterion.error_derivative()\n",
    "\n",
    "        model.backprop(propagated_error)\n",
    "        model.optimize(LR)\n",
    "        print(loss)\n",
    "        # if (train_idx + 1) % PRINT == 0:\n",
    "        #     tot_acc = 0\n",
    "        #     tot_sample = 0\n",
    "        #     for train_acc_idx, (test_data_batch, test_label_batch) in enumerate(zip(test_data, test_label)):\n",
    "        #         # train accuracy\n",
    "        #         preds = model.forward(test_data_batch)\n",
    "        #         preds = from_galois_to_real_domain(preds, QUANTIZATION_WEIGHT, PRIME)\n",
    "        #         pred_args = np.argmax(preds, axis=1)\n",
    "        #\n",
    "        #         tot_acc += np.count_nonzero(pred_args == test_label_batch)\n",
    "        #         tot_sample += test_data_batch.shape[0]\n",
    "        #     accuracy = tot_acc / tot_sample\n",
    "        #     if train_idx != 0:\n",
    "        #         tot_loss = tot_loss / PRINT\n",
    "        #     print('epoch: {}, idx: {}, accuracy: {}, loss: {}'.format(epoch + 1, train_idx + 1, accuracy, tot_loss))\n",
    "        #     tot_loss = 0"
   ],
   "metadata": {
    "collapsed": false,
    "ExecuteTime": {
     "end_time": "2023-06-23T10:41:20.967941367Z",
     "start_time": "2023-06-23T10:37:15.878486213Z"
    }
   }
  }
 ],
 "metadata": {
  "kernelspec": {
   "display_name": "Python 3",
   "language": "python",
   "name": "python3"
  },
  "language_info": {
   "codemirror_mode": {
    "name": "ipython",
    "version": 2
   },
   "file_extension": ".py",
   "mimetype": "text/x-python",
   "name": "python",
   "nbconvert_exporter": "python",
   "pygments_lexer": "ipython2",
   "version": "2.7.6"
  }
 },
 "nbformat": 4,
 "nbformat_minor": 0
}
