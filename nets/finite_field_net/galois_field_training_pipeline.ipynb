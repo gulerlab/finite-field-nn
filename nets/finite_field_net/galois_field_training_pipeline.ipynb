{
 "cells": [
  {
   "cell_type": "code",
   "execution_count": 2,
   "metadata": {
    "ExecuteTime": {
     "end_time": "2023-06-23T11:38:42.017217095Z",
     "start_time": "2023-06-23T11:38:40.967468871Z"
    },
    "collapsed": true
   },
   "outputs": [],
   "source": [
    "import sys\n",
    "sys.path.append('../..')\n",
    "\n",
    "import numpy as np\n",
    "from galois_datasets import load_all_data_mnist, load_all_data_cifar10, load_all_data_fashion_mnist\n",
    "from utils import create_batch_data, to_finite_field_domain, from_galois_to_real_domain\n",
    "import modules\n",
    "import galois_layers\n",
    "from galois_criterions import GaloisFieldMSELoss\n",
    "from sklearn.datasets import make_classification\n",
    "import galois"
   ]
  },
  {
   "cell_type": "code",
   "execution_count": 3,
   "metadata": {
    "ExecuteTime": {
     "end_time": "2023-06-23T11:38:42.019549983Z",
     "start_time": "2023-06-23T11:38:42.018499848Z"
    },
    "collapsed": false
   },
   "outputs": [],
   "source": [
    "BATCH_SIZE = 256\n",
    "EPOCH = 1\n",
    "PRINT = 1\n",
    "FLATTEN = False\n",
    "# 0, MNIST; 1, FashionMNIST; 2, CIFAR10; 3 RANDOM\n",
    "DATASET_MODE = 0\n",
    "\n",
    "QUANTIZATION_INPUT = 8\n",
    "QUANTIZATION_WEIGHT = 16\n",
    "QUANTIZATION_BATCH_SIZE = 8\n",
    "LR = 7\n",
    "PRIME = 684502462494449"
   ]
  },
  {
   "cell_type": "code",
   "execution_count": 4,
   "metadata": {
    "ExecuteTime": {
     "end_time": "2023-06-23T11:38:43.271300923Z",
     "start_time": "2023-06-23T11:38:42.754454712Z"
    },
    "collapsed": false
   },
   "outputs": [],
   "source": [
    "field = galois.GF(PRIME)"
   ]
  },
  {
   "cell_type": "code",
   "execution_count": 5,
   "metadata": {
    "ExecuteTime": {
     "end_time": "2023-06-23T11:38:43.517528143Z",
     "start_time": "2023-06-23T11:38:43.512054166Z"
    },
    "collapsed": false
   },
   "outputs": [],
   "source": [
    "# data fetching\n",
    "load_path = '../../data'\n",
    "if DATASET_MODE == 0:\n",
    "    train_data, train_label, test_data, test_label = load_all_data_mnist(load_path, QUANTIZATION_INPUT, QUANTIZATION_WEIGHT, PRIME, field, flatten=FLATTEN)\n",
    "elif DATASET_MODE == 1:\n",
    "    train_data, train_label, test_data, test_label = load_all_data_fashion_mnist(load_path, QUANTIZATION_INPUT, QUANTIZATION_WEIGHT, PRIME, field, flatten=FLATTEN)\n",
    "elif DATASET_MODE == 2:\n",
    "    train_data, train_label, test_data, test_label = load_all_data_cifar10(load_path, QUANTIZATION_INPUT, QUANTIZATION_WEIGHT, PRIME, field, flatten=FLATTEN)\n",
    "elif DATASET_MODE == 3:\n",
    "    train_data, train_label = make_classification(n_samples=10, n_features=100, n_classes=10, n_clusters_per_class=1, n_informative=10)\n",
    "    train_data = train_data.reshape((-1, 4, 5, 5))\n",
    "    test_data, test_label = train_data, train_label\n",
    "    train_label = np.zeros((10, 10))\n",
    "    for idx, label in enumerate(test_label):\n",
    "        train_label[idx][label] = 1\n",
    "    train_data, train_label, test_data = to_finite_field_domain(train_data, QUANTIZATION_INPUT, PRIME), to_finite_field_domain(train_label, QUANTIZATION_WEIGHT, PRIME), to_finite_field_domain(test_data, QUANTIZATION_INPUT, PRIME)\n",
    "    train_data, train_label, test_data = field(train_data), field(train_label), field(test_data)\n",
    "else:\n",
    "    train_data, train_label, test_data, test_label = None, None, None, None\n",
    "train_data, train_label, test_data, test_label = create_batch_data(train_data, train_label, test_data, test_label, BATCH_SIZE)"
   ]
  },
  {
   "cell_type": "code",
   "execution_count": 6,
   "metadata": {
    "ExecuteTime": {
     "end_time": "2023-06-23T11:38:44.174933932Z",
     "start_time": "2023-06-23T11:38:44.172059964Z"
    },
    "collapsed": false
   },
   "outputs": [],
   "source": [
    "model_arr = [\n",
    "    galois_layers.GaloisFieldPiNetSecondOrderConvLayer(4, 6, (3, 3), QUANTIZATION_WEIGHT, PRIME, field, first_layer=True, padding=(2, 2, 2, 2), quantization_bit_input=QUANTIZATION_INPUT),\n",
    "    galois_layers.GaloisFieldPiNetSecondOrderConvLayer(6, 6, (5, 5), QUANTIZATION_WEIGHT, PRIME, field, padding=(2, 2, 2, 2)),\n",
    "    galois_layers.GaloisFieldPiNetSecondOrderConvLayer(6, 6, (3, 3), QUANTIZATION_WEIGHT, PRIME, field),\n",
    "    modules.Flatten(),\n",
    "    galois_layers.GaloisFieldPiNetSecondOrderLinearLayer(150, 64, QUANTIZATION_WEIGHT, PRIME, field),\n",
    "    galois_layers.GaloisFieldLinearLayer(64, 10, QUANTIZATION_WEIGHT, PRIME, field)\n",
    "]\n",
    "\n",
    "model = modules.Network(model_arr)\n",
    "criterion = GaloisFieldMSELoss(PRIME, QUANTIZATION_WEIGHT, QUANTIZATION_BATCH_SIZE, field)"
   ]
  },
  {
   "cell_type": "code",
   "execution_count": 7,
   "metadata": {
    "ExecuteTime": {
     "end_time": "2023-06-23T11:41:20.925984317Z",
     "start_time": "2023-06-23T11:38:45.014257135Z"
    },
    "collapsed": false
   },
   "outputs": [
    {
     "name": "stdout",
     "output_type": "stream",
     "text": [
      "epoch: 1, idx: 1, accuracy: 0.0, loss: 1.1489303588867188\n",
      "epoch: 2, idx: 1, accuracy: 0.0, loss: 1.1250595092773437\n",
      "epoch: 3, idx: 1, accuracy: 0.0, loss: 1.1168151855468749\n",
      "epoch: 4, idx: 1, accuracy: 0.0, loss: 1.0937347412109375\n",
      "epoch: 5, idx: 1, accuracy: 0.0, loss: 1.0674896240234373\n",
      "epoch: 6, idx: 1, accuracy: 0.0, loss: 1.039500427246094\n",
      "epoch: 7, idx: 1, accuracy: 0.3, loss: 1.0040740966796875\n",
      "epoch: 8, idx: 1, accuracy: 0.2, loss: 0.9877960205078123\n",
      "epoch: 9, idx: 1, accuracy: 0.1, loss: 0.9959915161132813\n",
      "epoch: 10, idx: 1, accuracy: 0.2, loss: 0.9797683715820314\n",
      "epoch: 11, idx: 1, accuracy: 0.3, loss: 0.9596908569335938\n",
      "epoch: 12, idx: 1, accuracy: 0.3, loss: 0.9365142822265625\n",
      "epoch: 13, idx: 1, accuracy: 0.5, loss: 0.9221817016601562\n",
      "epoch: 14, idx: 1, accuracy: 0.6, loss: 0.8920333862304686\n",
      "epoch: 15, idx: 1, accuracy: 0.6, loss: 0.8736770629882811\n",
      "epoch: 16, idx: 1, accuracy: 0.6, loss: 0.8635589599609375\n",
      "epoch: 17, idx: 1, accuracy: 0.6, loss: 0.8335647583007812\n",
      "epoch: 18, idx: 1, accuracy: 0.6, loss: 0.817974853515625\n"
     ]
    },
    {
     "ename": "KeyboardInterrupt",
     "evalue": "",
     "output_type": "error",
     "traceback": [
      "\u001b[0;31m---------------------------------------------------------------------------\u001b[0m",
      "\u001b[0;31mKeyboardInterrupt\u001b[0m                         Traceback (most recent call last)",
      "Cell \u001b[0;32mIn[7], line 19\u001b[0m\n\u001b[1;32m     16\u001b[0m tot_sample \u001b[38;5;241m=\u001b[39m \u001b[38;5;241m0\u001b[39m\n\u001b[1;32m     17\u001b[0m \u001b[38;5;28;01mfor\u001b[39;00m train_acc_idx, (test_data_batch, test_label_batch) \u001b[38;5;129;01min\u001b[39;00m \u001b[38;5;28menumerate\u001b[39m(\u001b[38;5;28mzip\u001b[39m(test_data, test_label)):\n\u001b[1;32m     18\u001b[0m     \u001b[38;5;66;03m# train accuracy\u001b[39;00m\n\u001b[0;32m---> 19\u001b[0m     preds \u001b[38;5;241m=\u001b[39m model\u001b[38;5;241m.\u001b[39mforward(test_data_batch)\n\u001b[1;32m     20\u001b[0m     preds \u001b[38;5;241m=\u001b[39m from_galois_to_real_domain(preds, QUANTIZATION_WEIGHT, PRIME)\n\u001b[1;32m     21\u001b[0m     pred_args \u001b[38;5;241m=\u001b[39m np\u001b[38;5;241m.\u001b[39margmax(preds, axis\u001b[38;5;241m=\u001b[39m\u001b[38;5;241m1\u001b[39m)\n",
      "File \u001b[0;32m~/Desktop/umityigitbsrn/finite-field-nn/nets/finite_field_net/../../modules.py:48\u001b[0m, in \u001b[0;36mNetwork.forward\u001b[0;34m(self, input_data)\u001b[0m\n\u001b[1;32m     46\u001b[0m curr_data \u001b[38;5;241m=\u001b[39m \u001b[38;5;28mself\u001b[39m\u001b[38;5;241m.\u001b[39m_input_data\n\u001b[1;32m     47\u001b[0m \u001b[38;5;28;01mfor\u001b[39;00m layer \u001b[38;5;129;01min\u001b[39;00m \u001b[38;5;28mself\u001b[39m\u001b[38;5;241m.\u001b[39m_model:\n\u001b[0;32m---> 48\u001b[0m     curr_data \u001b[38;5;241m=\u001b[39m layer\u001b[38;5;241m.\u001b[39mforward(curr_data)\n\u001b[1;32m     49\u001b[0m \u001b[38;5;28;01mreturn\u001b[39;00m curr_data\n",
      "File \u001b[0;32m~/Desktop/umityigitbsrn/finite-field-nn/nets/finite_field_net/galois_layers.py:356\u001b[0m, in \u001b[0;36mGaloisFieldPiNetSecondOrderConvLayer.forward\u001b[0;34m(self, input_data)\u001b[0m\n\u001b[1;32m    354\u001b[0m \u001b[38;5;28mself\u001b[39m\u001b[38;5;241m.\u001b[39m_input_data \u001b[38;5;241m=\u001b[39m input_data\n\u001b[1;32m    355\u001b[0m first_out \u001b[38;5;241m=\u001b[39m \u001b[38;5;28mself\u001b[39m\u001b[38;5;241m.\u001b[39m__first_conv\u001b[38;5;241m.\u001b[39mforward(input_data)\n\u001b[0;32m--> 356\u001b[0m second_out \u001b[38;5;241m=\u001b[39m \u001b[38;5;28mself\u001b[39m\u001b[38;5;241m.\u001b[39m__second_conv\u001b[38;5;241m.\u001b[39mforward(input_data)\n\u001b[1;32m    357\u001b[0m \u001b[38;5;28mself\u001b[39m\u001b[38;5;241m.\u001b[39m__inner_forward[\u001b[38;5;124m'\u001b[39m\u001b[38;5;124mout_1\u001b[39m\u001b[38;5;124m'\u001b[39m] \u001b[38;5;241m=\u001b[39m first_out\n\u001b[1;32m    358\u001b[0m \u001b[38;5;28mself\u001b[39m\u001b[38;5;241m.\u001b[39m__inner_forward[\u001b[38;5;124m'\u001b[39m\u001b[38;5;124mout_2\u001b[39m\u001b[38;5;124m'\u001b[39m] \u001b[38;5;241m=\u001b[39m second_out\n",
      "File \u001b[0;32m~/Desktop/umityigitbsrn/finite-field-nn/nets/finite_field_net/galois_layers.py:266\u001b[0m, in \u001b[0;36mGaloisFieldConvLayer.forward\u001b[0;34m(self, input_data)\u001b[0m\n\u001b[1;32m    264\u001b[0m     output_data \u001b[38;5;241m=\u001b[39m finite_field_truncation(output_data, \u001b[38;5;28mself\u001b[39m\u001b[38;5;241m.\u001b[39m_quantization_bit_input, \u001b[38;5;28mself\u001b[39m\u001b[38;5;241m.\u001b[39m_prime)\n\u001b[1;32m    265\u001b[0m \u001b[38;5;28;01melse\u001b[39;00m:\n\u001b[0;32m--> 266\u001b[0m     output_data \u001b[38;5;241m=\u001b[39m finite_field_truncation(output_data, \u001b[38;5;28mself\u001b[39m\u001b[38;5;241m.\u001b[39m_quantization_bit_weight, \u001b[38;5;28mself\u001b[39m\u001b[38;5;241m.\u001b[39m_prime)\n\u001b[1;32m    267\u001b[0m output_data \u001b[38;5;241m=\u001b[39m \u001b[38;5;28mself\u001b[39m\u001b[38;5;241m.\u001b[39m_field(output_data)\n\u001b[1;32m    268\u001b[0m \u001b[38;5;28;01mreturn\u001b[39;00m output_data\n",
      "File \u001b[0;32m~/Desktop/umityigitbsrn/finite-field-nn/nets/finite_field_net/../../utils.py:78\u001b[0m, in \u001b[0;36mfinite_field_truncation\u001b[0;34m(finite_field, scale_down, prime)\u001b[0m\n\u001b[1;32m     76\u001b[0m \u001b[38;5;28;01mdef\u001b[39;00m \u001b[38;5;21mfinite_field_truncation\u001b[39m(finite_field: ndarray, scale_down: \u001b[38;5;28mint\u001b[39m, prime: \u001b[38;5;28mint\u001b[39m) \u001b[38;5;241m-\u001b[39m\u001b[38;5;241m>\u001b[39m ndarray:\n\u001b[1;32m     77\u001b[0m     int_domain \u001b[38;5;241m=\u001b[39m from_finite_field_to_int_domain(finite_field, prime)\n\u001b[0;32m---> 78\u001b[0m     int_domain \u001b[38;5;241m=\u001b[39m int_truncation(int_domain, scale_down)\n\u001b[1;32m     79\u001b[0m     finite_field_domain \u001b[38;5;241m=\u001b[39m from_int_to_finite_field_domain(int_domain, prime)\n\u001b[1;32m     80\u001b[0m     \u001b[38;5;28;01mreturn\u001b[39;00m finite_field_domain\n",
      "File \u001b[0;32m~/Desktop/umityigitbsrn/finite-field-nn/nets/finite_field_net/../../utils.py:53\u001b[0m, in \u001b[0;36mint_truncation\u001b[0;34m(int_domain, scale_down)\u001b[0m\n\u001b[1;32m     51\u001b[0m zero_distributions \u001b[38;5;241m=\u001b[39m real_domain \u001b[38;5;241m-\u001b[39m real_domain_floor\n\u001b[1;32m     52\u001b[0m stochastic_fnc \u001b[38;5;241m=\u001b[39m np\u001b[38;5;241m.\u001b[39mvectorize(\u001b[38;5;28;01mlambda\u001b[39;00m x: np\u001b[38;5;241m.\u001b[39mrandom\u001b[38;5;241m.\u001b[39mchoice([\u001b[38;5;241m0\u001b[39m, \u001b[38;5;241m1\u001b[39m], \u001b[38;5;241m1\u001b[39m, p\u001b[38;5;241m=\u001b[39m[\u001b[38;5;241m1\u001b[39m \u001b[38;5;241m-\u001b[39m x, x])[\u001b[38;5;241m0\u001b[39m])\n\u001b[0;32m---> 53\u001b[0m zero_distributions \u001b[38;5;241m=\u001b[39m stochastic_fnc(zero_distributions)\n\u001b[1;32m     55\u001b[0m truncated_int_domain \u001b[38;5;241m=\u001b[39m (real_domain_floor \u001b[38;5;241m+\u001b[39m zero_distributions)\u001b[38;5;241m.\u001b[39mastype(np\u001b[38;5;241m.\u001b[39mint64)\n\u001b[1;32m     56\u001b[0m \u001b[38;5;28;01mreturn\u001b[39;00m truncated_int_domain\n",
      "File \u001b[0;32m~/miniconda3/envs/ff-net/lib/python3.11/site-packages/numpy/lib/function_base.py:2329\u001b[0m, in \u001b[0;36mvectorize.__call__\u001b[0;34m(self, *args, **kwargs)\u001b[0m\n\u001b[1;32m   2326\u001b[0m     vargs \u001b[38;5;241m=\u001b[39m [args[_i] \u001b[38;5;28;01mfor\u001b[39;00m _i \u001b[38;5;129;01min\u001b[39;00m inds]\n\u001b[1;32m   2327\u001b[0m     vargs\u001b[38;5;241m.\u001b[39mextend([kwargs[_n] \u001b[38;5;28;01mfor\u001b[39;00m _n \u001b[38;5;129;01min\u001b[39;00m names])\n\u001b[0;32m-> 2329\u001b[0m \u001b[38;5;28;01mreturn\u001b[39;00m \u001b[38;5;28mself\u001b[39m\u001b[38;5;241m.\u001b[39m_vectorize_call(func\u001b[38;5;241m=\u001b[39mfunc, args\u001b[38;5;241m=\u001b[39mvargs)\n",
      "File \u001b[0;32m~/miniconda3/envs/ff-net/lib/python3.11/site-packages/numpy/lib/function_base.py:2412\u001b[0m, in \u001b[0;36mvectorize._vectorize_call\u001b[0;34m(self, func, args)\u001b[0m\n\u001b[1;32m   2409\u001b[0m \u001b[38;5;66;03m# Convert args to object arrays first\u001b[39;00m\n\u001b[1;32m   2410\u001b[0m inputs \u001b[38;5;241m=\u001b[39m [asanyarray(a, dtype\u001b[38;5;241m=\u001b[39m\u001b[38;5;28mobject\u001b[39m) \u001b[38;5;28;01mfor\u001b[39;00m a \u001b[38;5;129;01min\u001b[39;00m args]\n\u001b[0;32m-> 2412\u001b[0m outputs \u001b[38;5;241m=\u001b[39m ufunc(\u001b[38;5;241m*\u001b[39minputs)\n\u001b[1;32m   2414\u001b[0m \u001b[38;5;28;01mif\u001b[39;00m ufunc\u001b[38;5;241m.\u001b[39mnout \u001b[38;5;241m==\u001b[39m \u001b[38;5;241m1\u001b[39m:\n\u001b[1;32m   2415\u001b[0m     res \u001b[38;5;241m=\u001b[39m asanyarray(outputs, dtype\u001b[38;5;241m=\u001b[39motypes[\u001b[38;5;241m0\u001b[39m])\n",
      "File \u001b[0;32m~/Desktop/umityigitbsrn/finite-field-nn/nets/finite_field_net/../../utils.py:52\u001b[0m, in \u001b[0;36mint_truncation.<locals>.<lambda>\u001b[0;34m(x)\u001b[0m\n\u001b[1;32m     49\u001b[0m real_domain_floor \u001b[38;5;241m=\u001b[39m np\u001b[38;5;241m.\u001b[39mfloor(real_domain)\n\u001b[1;32m     51\u001b[0m zero_distributions \u001b[38;5;241m=\u001b[39m real_domain \u001b[38;5;241m-\u001b[39m real_domain_floor\n\u001b[0;32m---> 52\u001b[0m stochastic_fnc \u001b[38;5;241m=\u001b[39m np\u001b[38;5;241m.\u001b[39mvectorize(\u001b[38;5;28;01mlambda\u001b[39;00m x: np\u001b[38;5;241m.\u001b[39mrandom\u001b[38;5;241m.\u001b[39mchoice([\u001b[38;5;241m0\u001b[39m, \u001b[38;5;241m1\u001b[39m], \u001b[38;5;241m1\u001b[39m, p\u001b[38;5;241m=\u001b[39m[\u001b[38;5;241m1\u001b[39m \u001b[38;5;241m-\u001b[39m x, x])[\u001b[38;5;241m0\u001b[39m])\n\u001b[1;32m     53\u001b[0m zero_distributions \u001b[38;5;241m=\u001b[39m stochastic_fnc(zero_distributions)\n\u001b[1;32m     55\u001b[0m truncated_int_domain \u001b[38;5;241m=\u001b[39m (real_domain_floor \u001b[38;5;241m+\u001b[39m zero_distributions)\u001b[38;5;241m.\u001b[39mastype(np\u001b[38;5;241m.\u001b[39mint64)\n",
      "File \u001b[0;32mmtrand.pyx:965\u001b[0m, in \u001b[0;36mnumpy.random.mtrand.RandomState.choice\u001b[0;34m()\u001b[0m\n",
      "File \u001b[0;32m<__array_function__ internals>:200\u001b[0m, in \u001b[0;36mprod\u001b[0;34m(*args, **kwargs)\u001b[0m\n",
      "File \u001b[0;32m~/miniconda3/envs/ff-net/lib/python3.11/site-packages/numpy/core/fromnumeric.py:3076\u001b[0m, in \u001b[0;36mprod\u001b[0;34m(a, axis, dtype, out, keepdims, initial, where)\u001b[0m\n\u001b[1;32m   2955\u001b[0m \u001b[38;5;129m@array_function_dispatch\u001b[39m(_prod_dispatcher)\n\u001b[1;32m   2956\u001b[0m \u001b[38;5;28;01mdef\u001b[39;00m \u001b[38;5;21mprod\u001b[39m(a, axis\u001b[38;5;241m=\u001b[39m\u001b[38;5;28;01mNone\u001b[39;00m, dtype\u001b[38;5;241m=\u001b[39m\u001b[38;5;28;01mNone\u001b[39;00m, out\u001b[38;5;241m=\u001b[39m\u001b[38;5;28;01mNone\u001b[39;00m, keepdims\u001b[38;5;241m=\u001b[39mnp\u001b[38;5;241m.\u001b[39m_NoValue,\n\u001b[1;32m   2957\u001b[0m          initial\u001b[38;5;241m=\u001b[39mnp\u001b[38;5;241m.\u001b[39m_NoValue, where\u001b[38;5;241m=\u001b[39mnp\u001b[38;5;241m.\u001b[39m_NoValue):\n\u001b[1;32m   2958\u001b[0m \u001b[38;5;250m    \u001b[39m\u001b[38;5;124;03m\"\"\"\u001b[39;00m\n\u001b[1;32m   2959\u001b[0m \u001b[38;5;124;03m    Return the product of array elements over a given axis.\u001b[39;00m\n\u001b[1;32m   2960\u001b[0m \n\u001b[0;32m   (...)\u001b[0m\n\u001b[1;32m   3074\u001b[0m \u001b[38;5;124;03m    10\u001b[39;00m\n\u001b[1;32m   3075\u001b[0m \u001b[38;5;124;03m    \"\"\"\u001b[39;00m\n\u001b[0;32m-> 3076\u001b[0m     \u001b[38;5;28;01mreturn\u001b[39;00m _wrapreduction(a, np\u001b[38;5;241m.\u001b[39mmultiply, \u001b[38;5;124m'\u001b[39m\u001b[38;5;124mprod\u001b[39m\u001b[38;5;124m'\u001b[39m, axis, dtype, out,\n\u001b[1;32m   3077\u001b[0m                           keepdims\u001b[38;5;241m=\u001b[39mkeepdims, initial\u001b[38;5;241m=\u001b[39minitial, where\u001b[38;5;241m=\u001b[39mwhere)\n",
      "File \u001b[0;32m~/miniconda3/envs/ff-net/lib/python3.11/site-packages/numpy/core/fromnumeric.py:86\u001b[0m, in \u001b[0;36m_wrapreduction\u001b[0;34m(obj, ufunc, method, axis, dtype, out, **kwargs)\u001b[0m\n\u001b[1;32m     83\u001b[0m         \u001b[38;5;28;01melse\u001b[39;00m:\n\u001b[1;32m     84\u001b[0m             \u001b[38;5;28;01mreturn\u001b[39;00m reduction(axis\u001b[38;5;241m=\u001b[39maxis, out\u001b[38;5;241m=\u001b[39mout, \u001b[38;5;241m*\u001b[39m\u001b[38;5;241m*\u001b[39mpasskwargs)\n\u001b[0;32m---> 86\u001b[0m \u001b[38;5;28;01mreturn\u001b[39;00m ufunc\u001b[38;5;241m.\u001b[39mreduce(obj, axis, dtype, out, \u001b[38;5;241m*\u001b[39m\u001b[38;5;241m*\u001b[39mpasskwargs)\n",
      "\u001b[0;31mKeyboardInterrupt\u001b[0m: "
     ]
    }
   ],
   "source": [
    "for epoch in range(EPOCH):\n",
    "    tot_loss = 0\n",
    "    for train_idx, (train_data_batch, train_label_batch) in enumerate(zip(train_data, train_label)):\n",
    "        # train\n",
    "        preds = model.forward(train_data_batch)\n",
    "\n",
    "        loss = criterion.forward(preds, train_label_batch)\n",
    "        tot_loss += loss\n",
    "        propagated_error = criterion.error_derivative()\n",
    "\n",
    "        model.backprop(propagated_error)\n",
    "        model.optimize(LR)\n",
    "\n",
    "        if (train_idx + 1) % PRINT == 0:\n",
    "            tot_acc = 0\n",
    "            tot_sample = 0\n",
    "            for train_acc_idx, (test_data_batch, test_label_batch) in enumerate(zip(test_data, test_label)):\n",
    "                # train accuracy\n",
    "                preds = model.forward(test_data_batch)\n",
    "                preds = from_galois_to_real_domain(preds, QUANTIZATION_WEIGHT, PRIME)\n",
    "                pred_args = np.argmax(preds, axis=1)\n",
    "\n",
    "                tot_acc += np.count_nonzero(pred_args == test_label_batch)\n",
    "                tot_sample += test_data_batch.shape[0]\n",
    "            accuracy = tot_acc / tot_sample\n",
    "            if train_idx != 0:\n",
    "                tot_loss = tot_loss / PRINT\n",
    "            print('epoch: {}, idx: {}, accuracy: {}, loss: {}'.format(epoch + 1, train_idx + 1, accuracy, tot_loss))\n",
    "            tot_loss = 0"
   ]
  }
 ],
 "metadata": {
  "kernelspec": {
   "display_name": "Python 3",
   "language": "python",
   "name": "python3"
  },
  "language_info": {
   "codemirror_mode": {
    "name": "ipython",
    "version": 3
   },
   "file_extension": ".py",
   "mimetype": "text/x-python",
   "name": "python",
   "nbconvert_exporter": "python",
   "pygments_lexer": "ipython3",
   "version": "3.11.4"
  }
 },
 "nbformat": 4,
 "nbformat_minor": 0
}
