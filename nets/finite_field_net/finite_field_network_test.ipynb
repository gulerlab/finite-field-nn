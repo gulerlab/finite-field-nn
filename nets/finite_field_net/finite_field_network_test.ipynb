{
 "cells": [
  {
   "cell_type": "code",
   "execution_count": 1,
   "metadata": {
    "collapsed": true,
    "ExecuteTime": {
     "end_time": "2023-06-20T08:13:45.030459904Z",
     "start_time": "2023-06-20T08:13:44.359272854Z"
    }
   },
   "outputs": [],
   "source": [
    "import numpy as np\n",
    "\n",
    "from networks import FiniteFieldPiNetNetworkLinear\n",
    "from criterions import FiniteFieldMSELoss\n",
    "from datasets import load_all_data_mnist\n",
    "from utils import create_batch_data, to_real_domain"
   ]
  },
  {
   "cell_type": "code",
   "execution_count": 2,
   "outputs": [],
   "source": [
    "BATCH_SIZE = 128\n",
    "EPOCH = 1\n",
    "LR = 7\n",
    "PRINT = 10\n",
    "MODE = 1\n",
    "PRIME = 2**26 - 5\n",
    "QUANTIZATION_WEIGHT = 8\n",
    "QUANTIZATION_INPUT = 8\n",
    "QUANTIZATION_BATCH_SIZE = 7"
   ],
   "metadata": {
    "collapsed": false,
    "ExecuteTime": {
     "end_time": "2023-06-20T08:13:45.032848994Z",
     "start_time": "2023-06-20T08:13:45.031468952Z"
    }
   }
  },
  {
   "cell_type": "code",
   "execution_count": 3,
   "outputs": [],
   "source": [
    "if MODE == 1:\n",
    "    model = FiniteFieldPiNetNetworkLinear(QUANTIZATION_WEIGHT, PRIME, QUANTIZATION_INPUT)\n",
    "    flatten = True\n",
    "else:\n",
    "    model = None\n",
    "    flatten = True\n",
    "criterion = FiniteFieldMSELoss(PRIME, QUANTIZATION_WEIGHT, QUANTIZATION_BATCH_SIZE)"
   ],
   "metadata": {
    "collapsed": false,
    "ExecuteTime": {
     "end_time": "2023-06-20T08:13:45.506455322Z",
     "start_time": "2023-06-20T08:13:45.496092178Z"
    }
   }
  },
  {
   "cell_type": "code",
   "execution_count": 4,
   "outputs": [],
   "source": [
    "# data fetching\n",
    "load_path = '../../data'\n",
    "train_data, train_label, test_data, test_label = load_all_data_mnist(load_path, QUANTIZATION_INPUT, QUANTIZATION_WEIGHT, PRIME, flatten=flatten)\n",
    "train_data, train_label, test_data, test_label = create_batch_data(train_data, train_label, test_data, test_label, BATCH_SIZE)"
   ],
   "metadata": {
    "collapsed": false,
    "ExecuteTime": {
     "end_time": "2023-06-20T08:13:50.384867329Z",
     "start_time": "2023-06-20T08:13:46.129218210Z"
    }
   }
  },
  {
   "cell_type": "code",
   "execution_count": null,
   "outputs": [
    {
     "name": "stdout",
     "output_type": "stream",
     "text": [
      "idx: 1, loss: 2.482264399528504\n",
      "idx: 2, loss: 2.297526836395264\n",
      "idx: 3, loss: 1.7566620111465454\n",
      "idx: 4, loss: 1.3414357900619507\n",
      "idx: 5, loss: 1.159978985786438\n",
      "idx: 6, loss: 1.1256710290908811\n",
      "idx: 7, loss: 1.0051747560501096\n",
      "idx: 8, loss: 0.9812606573104857\n",
      "idx: 9, loss: 1.0735796689987183\n",
      "idx: 10, loss: 0.9512060880661012\n",
      "epoch: 1, idx: 10, accuracy: 0.499, loss: 1.4174760222434997\n",
      "idx: 11, loss: 1.2107012271881104\n",
      "idx: 12, loss: 1.5241149663925169\n",
      "idx: 13, loss: 0.9501550197601317\n",
      "idx: 14, loss: 0.6984649896621704\n",
      "idx: 15, loss: 0.7994083166122435\n",
      "idx: 16, loss: 0.7833993434906007\n",
      "idx: 17, loss: 0.6476274728775024\n",
      "idx: 18, loss: 0.6904256343841554\n",
      "idx: 19, loss: 0.6776821613311766\n",
      "idx: 20, loss: 0.7115340232849121\n",
      "epoch: 1, idx: 20, accuracy: 0.6501, loss: 0.8693513154983521\n",
      "idx: 21, loss: 0.6352277994155885\n",
      "idx: 22, loss: 0.7486178874969482\n",
      "idx: 23, loss: 0.6487970352172853\n",
      "idx: 24, loss: 0.7018412351608276\n",
      "idx: 25, loss: 0.6386617422103883\n",
      "idx: 26, loss: 0.6010475158691406\n",
      "idx: 27, loss: 0.6138998270034791\n",
      "idx: 28, loss: 0.6331958770751952\n",
      "idx: 29, loss: 0.6375451087951661\n",
      "idx: 30, loss: 0.6642291545867919\n",
      "epoch: 1, idx: 30, accuracy: 0.7164, loss: 0.652306318283081\n",
      "idx: 31, loss: 0.5854072570800781\n",
      "idx: 32, loss: 0.6043508052825928\n",
      "idx: 33, loss: 0.6153703927993776\n",
      "idx: 34, loss: 0.6296133995056152\n",
      "idx: 35, loss: 0.5777103900909424\n",
      "idx: 36, loss: 0.5084871053695679\n",
      "idx: 37, loss: 0.6353924274444581\n",
      "idx: 38, loss: 0.6701993942260742\n",
      "idx: 39, loss: 0.5653709173202516\n",
      "idx: 40, loss: 0.5808128118515015\n",
      "epoch: 1, idx: 40, accuracy: 0.739, loss: 0.5972714900970459\n",
      "idx: 41, loss: 0.5704694986343383\n",
      "idx: 42, loss: 0.573196768760681\n",
      "idx: 43, loss: 0.5455719232559204\n",
      "idx: 44, loss: 0.590402603149414\n",
      "idx: 45, loss: 0.5739508867263795\n",
      "idx: 46, loss: 0.5377801656723024\n",
      "idx: 47, loss: 0.5424624681472778\n",
      "idx: 48, loss: 0.5059900283813478\n",
      "idx: 49, loss: 0.5627284049987794\n",
      "idx: 50, loss: 0.5571779012680055\n",
      "epoch: 1, idx: 50, accuracy: 0.7756, loss: 0.5559730648994445\n",
      "idx: 51, loss: 0.5522185564041138\n",
      "idx: 52, loss: 0.43351054191589355\n",
      "idx: 53, loss: 0.5157366991043091\n",
      "idx: 54, loss: 0.6072854995727538\n",
      "idx: 55, loss: 0.564333200454712\n",
      "idx: 56, loss: 0.5224531888961792\n",
      "idx: 57, loss: 0.6447973251342772\n",
      "idx: 58, loss: 0.5394439697265624\n",
      "idx: 59, loss: 0.5173817873001098\n",
      "idx: 60, loss: 0.5367656946182252\n",
      "epoch: 1, idx: 60, accuracy: 0.8027, loss: 0.5433926463127137\n",
      "idx: 61, loss: 0.5684731006622313\n",
      "idx: 62, loss: 0.5629032850265502\n",
      "idx: 63, loss: 0.5115433931350708\n",
      "idx: 64, loss: 0.4728820323944092\n",
      "idx: 65, loss: 0.566664695739746\n",
      "idx: 66, loss: 0.5209240913391114\n",
      "idx: 67, loss: 0.5441893339157103\n",
      "idx: 68, loss: 0.6065824031829834\n",
      "idx: 69, loss: 0.6728904247283934\n",
      "idx: 70, loss: 0.6218267679214478\n",
      "epoch: 1, idx: 70, accuracy: 0.81, loss: 0.5648879528045654\n",
      "idx: 71, loss: 0.43371903896331787\n",
      "idx: 72, loss: 0.5215398073196411\n",
      "idx: 73, loss: 0.4826955795288086\n",
      "idx: 74, loss: 0.5324792861938475\n",
      "idx: 75, loss: 0.5327684879302979\n",
      "idx: 76, loss: 0.44207215309143066\n",
      "idx: 77, loss: 0.4823063611984253\n",
      "idx: 78, loss: 0.44620561599731445\n",
      "idx: 79, loss: 0.4718508720397949\n",
      "idx: 80, loss: 0.49779319763183594\n",
      "epoch: 1, idx: 80, accuracy: 0.8173, loss: 0.4843430399894714\n",
      "idx: 81, loss: 0.5016134977340698\n",
      "idx: 82, loss: 0.4644156694412231\n",
      "idx: 83, loss: 0.3902491331100464\n",
      "idx: 84, loss: 0.4746354818344116\n",
      "idx: 85, loss: 0.4549452066421508\n",
      "idx: 86, loss: 0.4084478616714478\n",
      "idx: 87, loss: 0.42043995857238775\n",
      "idx: 88, loss: 0.4857780933380127\n",
      "idx: 89, loss: 0.4176218509674072\n",
      "idx: 90, loss: 0.4439542293548584\n",
      "epoch: 1, idx: 90, accuracy: 0.8258, loss: 0.4462100982666016\n",
      "idx: 91, loss: 0.5434315204620361\n",
      "idx: 92, loss: 0.5050619840621948\n",
      "idx: 93, loss: 0.4630836248397827\n",
      "idx: 94, loss: 0.44333207607269287\n",
      "idx: 95, loss: 0.41000664234161377\n",
      "idx: 96, loss: 0.48166954517364496\n",
      "idx: 97, loss: 0.47535753250122065\n",
      "idx: 98, loss: 0.49313807487487793\n",
      "idx: 99, loss: 0.5679788589477539\n",
      "idx: 100, loss: 0.5051693916320801\n",
      "epoch: 1, idx: 100, accuracy: 0.8398, loss: 0.4888229250907898\n",
      "idx: 101, loss: 0.44651234149932867\n",
      "idx: 102, loss: 0.5652928352355957\n",
      "idx: 103, loss: 0.5085479021072388\n",
      "idx: 104, loss: 0.4702619314193726\n",
      "idx: 105, loss: 0.44877564907073975\n",
      "idx: 106, loss: 0.41333198547363287\n",
      "idx: 107, loss: 0.45530915260314936\n",
      "idx: 108, loss: 0.4818426370620728\n",
      "idx: 109, loss: 0.5169144868850709\n",
      "idx: 110, loss: 0.5377792119979858\n"
     ]
    }
   ],
   "source": [
    "for epoch in range(EPOCH):\n",
    "    tot_loss = 0\n",
    "    for train_idx, (train_data_batch, train_label_batch) in enumerate(zip(train_data, train_label)):\n",
    "        # train\n",
    "        preds = model.forward(train_data_batch)\n",
    "\n",
    "        loss = criterion.forward(preds, train_label_batch)\n",
    "        tot_loss += loss\n",
    "        propagated_error = criterion.error_derivative()\n",
    "\n",
    "        model.backprop(propagated_error)\n",
    "        model.optimize(LR)\n",
    "\n",
    "        print('idx: {}, loss: {}'.format(train_idx + 1, loss))\n",
    "\n",
    "        if (train_idx + 1) % PRINT == 0:\n",
    "            tot_acc = 0\n",
    "            tot_sample = 0\n",
    "            for train_acc_idx, (test_data_batch, test_label_batch) in enumerate(zip(test_data, test_label)):\n",
    "                # train accuracy\n",
    "                preds = model.forward(test_data_batch)\n",
    "                real_preds = to_real_domain(preds, QUANTIZATION_WEIGHT, PRIME)\n",
    "                pred_args = np.argmax(real_preds, axis=1)\n",
    "\n",
    "                tot_acc += np.count_nonzero(pred_args == test_label_batch)\n",
    "                tot_sample += test_data_batch.shape[0]\n",
    "            accuracy = tot_acc / tot_sample\n",
    "            if train_idx != 0:\n",
    "                tot_loss = tot_loss / PRINT\n",
    "            print('epoch: {}, idx: {}, accuracy: {}, loss: {}'.format(epoch + 1, train_idx + 1, accuracy, tot_loss))\n",
    "            tot_loss = 0"
   ],
   "metadata": {
    "collapsed": false,
    "is_executing": true,
    "ExecuteTime": {
     "start_time": "2023-06-20T08:13:50.386808266Z"
    }
   }
  }
 ],
 "metadata": {
  "kernelspec": {
   "display_name": "Python 3",
   "language": "python",
   "name": "python3"
  },
  "language_info": {
   "codemirror_mode": {
    "name": "ipython",
    "version": 2
   },
   "file_extension": ".py",
   "mimetype": "text/x-python",
   "name": "python",
   "nbconvert_exporter": "python",
   "pygments_lexer": "ipython2",
   "version": "2.7.6"
  }
 },
 "nbformat": 4,
 "nbformat_minor": 0
}
