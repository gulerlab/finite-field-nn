{
 "cells": [
  {
   "cell_type": "code",
   "execution_count": 1,
   "metadata": {
    "ExecuteTime": {
     "end_time": "2023-06-23T11:38:42.017217095Z",
     "start_time": "2023-06-23T11:38:40.967468871Z"
    },
    "collapsed": true
   },
   "outputs": [],
   "source": [
    "import sys\n",
    "sys.path.append('../..')\n",
    "\n",
    "import numpy as np\n",
    "from galois_datasets import load_all_data_mnist, load_all_data_cifar10, load_all_data_fashion_mnist\n",
    "from galois_utils import create_batch_data, to_finite_field_domain\n",
    "import modules\n",
    "import galois_layers\n",
    "from galois_criterions import GaloisFieldMSELoss\n",
    "from sklearn.datasets import make_classification\n",
    "import galois_activations\n",
    "import galois"
   ]
  },
  {
   "cell_type": "code",
   "execution_count": 2,
   "metadata": {
    "ExecuteTime": {
     "end_time": "2023-06-23T11:38:42.019549983Z",
     "start_time": "2023-06-23T11:38:42.018499848Z"
    },
    "collapsed": false
   },
   "outputs": [],
   "source": [
    "BATCH_SIZE = 16\n",
    "EPOCH = 1\n",
    "PRINT = 1\n",
    "FLATTEN = False\n",
    "# 0, MNIST; 1, FashionMNIST; 2, CIFAR10; 3 RANDOM\n",
    "DATASET_MODE = 2\n",
    "\n",
    "QUANTIZATION_INPUT = 8\n",
    "QUANTIZATION_WEIGHT = 32\n",
    "QUANTIZATION_BATCH_SIZE = 4\n",
    "LR = 7\n",
    "PRIME = 136759815150493740654140208079"
   ]
  },
  {
   "cell_type": "code",
   "execution_count": 3,
   "metadata": {
    "ExecuteTime": {
     "end_time": "2023-06-23T11:38:43.271300923Z",
     "start_time": "2023-06-23T11:38:42.754454712Z"
    },
    "collapsed": false
   },
   "outputs": [],
   "source": [
    "field = galois.GF(PRIME)"
   ]
  },
  {
   "cell_type": "code",
   "execution_count": 4,
   "metadata": {
    "ExecuteTime": {
     "end_time": "2023-06-23T11:38:43.517528143Z",
     "start_time": "2023-06-23T11:38:43.512054166Z"
    },
    "collapsed": false
   },
   "outputs": [
    {
     "name": "stdout",
     "output_type": "stream",
     "text": [
      "Files already downloaded and verified\n",
      "Files already downloaded and verified\n"
     ]
    }
   ],
   "source": [
    "# data fetching\n",
    "load_path = '../../data'\n",
    "if DATASET_MODE == 0:\n",
    "    train_data, train_label, test_data, test_label = load_all_data_mnist(load_path, QUANTIZATION_INPUT, QUANTIZATION_WEIGHT, PRIME, field, flatten=FLATTEN)\n",
    "elif DATASET_MODE == 1:\n",
    "    train_data, train_label, test_data, test_label = load_all_data_fashion_mnist(load_path, QUANTIZATION_INPUT, QUANTIZATION_WEIGHT, PRIME, field, flatten=FLATTEN)\n",
    "elif DATASET_MODE == 2:\n",
    "    train_data, train_label, test_data, test_label = load_all_data_cifar10(load_path, QUANTIZATION_INPUT, QUANTIZATION_WEIGHT, PRIME, field, flatten=FLATTEN)\n",
    "elif DATASET_MODE == 3:\n",
    "    train_data, train_label = make_classification(n_samples=10, n_features=100, n_classes=10, n_clusters_per_class=1, n_informative=10)\n",
    "    train_data = train_data.reshape((-1, 4, 5, 5))\n",
    "    test_data, test_label = train_data, train_label\n",
    "    train_label = np.zeros((10, 10))\n",
    "    for idx, label in enumerate(test_label):\n",
    "        train_label[idx][label] = 1\n",
    "    train_data, train_label, test_data = to_finite_field_domain(train_data, QUANTIZATION_INPUT, PRIME), to_finite_field_domain(train_label, QUANTIZATION_WEIGHT, PRIME), to_finite_field_domain(test_data, QUANTIZATION_INPUT, PRIME)\n",
    "    train_data, train_label, test_data = field(train_data), field(train_label), field(test_data)\n",
    "else:\n",
    "    train_data, train_label, test_data, test_label = None, None, None, None\n",
    "train_data, train_label, test_data, test_label = create_batch_data(train_data, train_label, test_data, test_label, BATCH_SIZE)"
   ]
  },
  {
   "cell_type": "code",
   "execution_count": 6,
   "metadata": {
    "ExecuteTime": {
     "end_time": "2023-06-23T11:38:44.174933932Z",
     "start_time": "2023-06-23T11:38:44.172059964Z"
    },
    "collapsed": false
   },
   "outputs": [],
   "source": [
    "model_arr = [\n",
    "    galois_layers.GaloisFieldPiNetSecondOrderConvLayer(3, 64, (4, 4), QUANTIZATION_WEIGHT, PRIME, field, first_layer=True,\n",
    "                                                quantization_bit_input=QUANTIZATION_INPUT, stride=(2, 2), padding=(1, 1, 1, 1)),\n",
    "    galois_layers.GaloisFieldPiNetSecondOrderConvLayer(64, 256, (4, 4), QUANTIZATION_WEIGHT, PRIME, field, stride=(2, 2), padding=(1, 1, 1, 1)),\n",
    "    galois_activations.GAPTruncation(PRIME, field),\n",
    "    galois_layers.GaloisFieldLinearLayer(256, 10, QUANTIZATION_WEIGHT, PRIME, field)\n",
    "]\n",
    "\n",
    "model = modules.Network(model_arr)\n",
    "criterion = GaloisFieldMSELoss(PRIME, QUANTIZATION_WEIGHT, QUANTIZATION_BATCH_SIZE, field)"
   ]
  },
  {
   "cell_type": "code",
   "execution_count": 7,
   "metadata": {
    "ExecuteTime": {
     "end_time": "2023-06-23T11:41:20.925984317Z",
     "start_time": "2023-06-23T11:38:45.014257135Z"
    },
    "collapsed": false
   },
   "outputs": [
    {
     "name": "stdout",
     "output_type": "stream",
     "text": [
      "epoch: 1, idx: 1, curr loss: 1.1185869487179363\n",
      "epoch: 1, idx: 1, avg loss: 1.1185869487179363\n",
      "epoch: 1, idx: 2, curr loss: 1.0432649704920263\n",
      "epoch: 1, idx: 2, avg loss: 1.0432649704920263\n",
      "epoch: 1, idx: 3, curr loss: 1.0132264232068984\n",
      "epoch: 1, idx: 3, avg loss: 1.0132264232068984\n",
      "epoch: 1, idx: 4, curr loss: 0.9248980861451757\n",
      "epoch: 1, idx: 4, avg loss: 0.9248980861451757\n",
      "epoch: 1, idx: 5, curr loss: 0.9505719734633858\n",
      "epoch: 1, idx: 5, avg loss: 0.9505719734633858\n",
      "epoch: 1, idx: 6, curr loss: 0.9203075411623645\n",
      "epoch: 1, idx: 6, avg loss: 0.9203075411623645\n",
      "epoch: 1, idx: 7, curr loss: 0.9502521579892661\n",
      "epoch: 1, idx: 7, avg loss: 0.9502521579892661\n",
      "epoch: 1, idx: 8, curr loss: 0.8725383448622618\n",
      "epoch: 1, idx: 8, avg loss: 0.8725383448622618\n",
      "epoch: 1, idx: 9, curr loss: 0.9456538836274562\n",
      "epoch: 1, idx: 9, avg loss: 0.9456538836274562\n",
      "epoch: 1, idx: 10, curr loss: 0.986148118492385\n",
      "epoch: 1, idx: 10, avg loss: 0.986148118492385\n",
      "epoch: 1, idx: 11, curr loss: 0.958095495013495\n",
      "epoch: 1, idx: 11, avg loss: 0.958095495013495\n"
     ]
    },
    {
     "ename": "KeyboardInterrupt",
     "evalue": "",
     "output_type": "error",
     "traceback": [
      "\u001b[0;31m---------------------------------------------------------------------------\u001b[0m",
      "\u001b[0;31mKeyboardInterrupt\u001b[0m                         Traceback (most recent call last)",
      "Cell \u001b[0;32mIn[7], line 5\u001b[0m\n\u001b[1;32m      2\u001b[0m tot_loss \u001b[38;5;241m=\u001b[39m \u001b[38;5;241m0\u001b[39m\n\u001b[1;32m      3\u001b[0m \u001b[38;5;28;01mfor\u001b[39;00m train_idx, (train_data_batch, train_label_batch) \u001b[38;5;129;01min\u001b[39;00m \u001b[38;5;28menumerate\u001b[39m(\u001b[38;5;28mzip\u001b[39m(train_data, train_label)):\n\u001b[1;32m      4\u001b[0m     \u001b[38;5;66;03m# train\u001b[39;00m\n\u001b[0;32m----> 5\u001b[0m     preds \u001b[38;5;241m=\u001b[39m model\u001b[38;5;241m.\u001b[39mforward(train_data_batch)\n\u001b[1;32m      7\u001b[0m     loss \u001b[38;5;241m=\u001b[39m criterion\u001b[38;5;241m.\u001b[39mforward(preds, train_label_batch)\n\u001b[1;32m      8\u001b[0m     tot_loss \u001b[38;5;241m+\u001b[39m\u001b[38;5;241m=\u001b[39m loss\n",
      "File \u001b[0;32m~/Desktop/umityigitbsrn/finite-field-nn/nets/galois_net/../../modules.py:48\u001b[0m, in \u001b[0;36mNetwork.forward\u001b[0;34m(self, input_data)\u001b[0m\n\u001b[1;32m     46\u001b[0m curr_data \u001b[38;5;241m=\u001b[39m \u001b[38;5;28mself\u001b[39m\u001b[38;5;241m.\u001b[39m_input_data\n\u001b[1;32m     47\u001b[0m \u001b[38;5;28;01mfor\u001b[39;00m layer \u001b[38;5;129;01min\u001b[39;00m \u001b[38;5;28mself\u001b[39m\u001b[38;5;241m.\u001b[39m_model:\n\u001b[0;32m---> 48\u001b[0m     curr_data \u001b[38;5;241m=\u001b[39m layer\u001b[38;5;241m.\u001b[39mforward(curr_data)\n\u001b[1;32m     49\u001b[0m \u001b[38;5;28;01mreturn\u001b[39;00m curr_data\n",
      "File \u001b[0;32m~/Desktop/umityigitbsrn/finite-field-nn/nets/galois_net/galois_layers.py:334\u001b[0m, in \u001b[0;36mGaloisFieldPiNetSecondOrderConvLayer.forward\u001b[0;34m(self, input_data)\u001b[0m\n\u001b[1;32m    332\u001b[0m \u001b[38;5;28;01mdef\u001b[39;00m \u001b[38;5;21mforward\u001b[39m(\u001b[38;5;28mself\u001b[39m, input_data):\n\u001b[1;32m    333\u001b[0m     \u001b[38;5;28mself\u001b[39m\u001b[38;5;241m.\u001b[39m_input_data \u001b[38;5;241m=\u001b[39m input_data\n\u001b[0;32m--> 334\u001b[0m     first_out \u001b[38;5;241m=\u001b[39m \u001b[38;5;28mself\u001b[39m\u001b[38;5;241m.\u001b[39m__first_conv\u001b[38;5;241m.\u001b[39mforward(input_data)\n\u001b[1;32m    335\u001b[0m     second_out \u001b[38;5;241m=\u001b[39m \u001b[38;5;28mself\u001b[39m\u001b[38;5;241m.\u001b[39m__second_conv\u001b[38;5;241m.\u001b[39mforward(input_data)\n\u001b[1;32m    336\u001b[0m     \u001b[38;5;28mself\u001b[39m\u001b[38;5;241m.\u001b[39m__inner_forward[\u001b[38;5;124m'\u001b[39m\u001b[38;5;124mout_1\u001b[39m\u001b[38;5;124m'\u001b[39m] \u001b[38;5;241m=\u001b[39m first_out\n",
      "File \u001b[0;32m~/Desktop/umityigitbsrn/finite-field-nn/nets/galois_net/galois_layers.py:246\u001b[0m, in \u001b[0;36mGaloisFieldConvLayer.forward\u001b[0;34m(self, input_data)\u001b[0m\n\u001b[1;32m    244\u001b[0m \u001b[38;5;28;01mfor\u001b[39;00m patch \u001b[38;5;129;01min\u001b[39;00m \u001b[38;5;28mself\u001b[39m\u001b[38;5;241m.\u001b[39m__patches:\n\u001b[1;32m    245\u001b[0m     output_height_idx, output_width_idx, patch_data \u001b[38;5;241m=\u001b[39m patch\n\u001b[0;32m--> 246\u001b[0m     unscaled_out \u001b[38;5;241m=\u001b[39m (np\u001b[38;5;241m.\u001b[39mreshape(patch_data, (num_of_samples, \u001b[38;5;241m-\u001b[39m\u001b[38;5;241m1\u001b[39m)) \u001b[38;5;241m@\u001b[39m\n\u001b[1;32m    247\u001b[0m                     np\u001b[38;5;241m.\u001b[39mreshape(\u001b[38;5;28mself\u001b[39m\u001b[38;5;241m.\u001b[39m_weight, (\u001b[38;5;241m-\u001b[39m\u001b[38;5;241m1\u001b[39m, \u001b[38;5;28mself\u001b[39m\u001b[38;5;241m.\u001b[39m_out_channels)))\n\u001b[1;32m    248\u001b[0m     output_data[:, :, output_height_idx, output_width_idx] \u001b[38;5;241m=\u001b[39m unscaled_out\n\u001b[1;32m    249\u001b[0m \u001b[38;5;28;01mif\u001b[39;00m \u001b[38;5;28mself\u001b[39m\u001b[38;5;241m.\u001b[39m_first_layer:\n",
      "File \u001b[0;32m~/miniconda3/envs/ff-net/lib/python3.11/site-packages/galois/_domains/_ufunc.py:682\u001b[0m, in \u001b[0;36mUFuncMixin.__array_ufunc__\u001b[0;34m(self, ufunc, method, *inputs, **kwargs)\u001b[0m\n\u001b[1;32m    679\u001b[0m     \u001b[38;5;28;01mif\u001b[39;00m method \u001b[38;5;129;01min\u001b[39;00m [\u001b[38;5;124m\"\u001b[39m\u001b[38;5;124mreduce\u001b[39m\u001b[38;5;124m\"\u001b[39m]:\n\u001b[1;32m    680\u001b[0m         kwargs[\u001b[38;5;124m\"\u001b[39m\u001b[38;5;124mdtype\u001b[39m\u001b[38;5;124m\"\u001b[39m] \u001b[38;5;241m=\u001b[39m field\u001b[38;5;241m.\u001b[39mdtypes[\u001b[38;5;241m-\u001b[39m\u001b[38;5;241m1\u001b[39m]\n\u001b[0;32m--> 682\u001b[0m     \u001b[38;5;28;01mreturn\u001b[39;00m \u001b[38;5;28mgetattr\u001b[39m(field, field\u001b[38;5;241m.\u001b[39m_OVERRIDDEN_UFUNCS[ufunc])(ufunc, method, inputs, kwargs, meta)\n\u001b[1;32m    684\u001b[0m \u001b[38;5;28;01mif\u001b[39;00m ufunc \u001b[38;5;129;01min\u001b[39;00m field\u001b[38;5;241m.\u001b[39m_UNSUPPORTED_UFUNCS:\n\u001b[1;32m    685\u001b[0m     \u001b[38;5;28;01mraise\u001b[39;00m \u001b[38;5;167;01mNotImplementedError\u001b[39;00m(\n\u001b[1;32m    686\u001b[0m         \u001b[38;5;124mf\u001b[39m\u001b[38;5;124m\"\u001b[39m\u001b[38;5;124mThe NumPy ufunc \u001b[39m\u001b[38;5;132;01m{\u001b[39;00mufunc\u001b[38;5;241m.\u001b[39m\u001b[38;5;18m__name__\u001b[39m\u001b[38;5;132;01m!r}\u001b[39;00m\u001b[38;5;124m is not supported on \u001b[39m\u001b[38;5;132;01m{\u001b[39;00mfield\u001b[38;5;241m.\u001b[39mname\u001b[38;5;132;01m}\u001b[39;00m\u001b[38;5;124m arrays. \u001b[39m\u001b[38;5;124m\"\u001b[39m\n\u001b[1;32m    687\u001b[0m         \u001b[38;5;124m\"\u001b[39m\u001b[38;5;124mIf you believe this ufunc should be supported, \u001b[39m\u001b[38;5;124m\"\u001b[39m\n\u001b[1;32m    688\u001b[0m         \u001b[38;5;124m\"\u001b[39m\u001b[38;5;124mplease submit a GitHub issue at https://github.com/mhostetter/galois/issues.\u001b[39m\u001b[38;5;124m\"\u001b[39m\n\u001b[1;32m    689\u001b[0m     )\n",
      "File \u001b[0;32m~/miniconda3/envs/ff-net/lib/python3.11/site-packages/galois/_domains/_ufunc.py:548\u001b[0m, in \u001b[0;36mmatmul_ufunc.__call__\u001b[0;34m(self, ufunc, method, inputs, kwargs, meta)\u001b[0m\n\u001b[1;32m    546\u001b[0m \u001b[38;5;28;01mdef\u001b[39;00m \u001b[38;5;21m__call__\u001b[39m(\u001b[38;5;28mself\u001b[39m, ufunc, method, inputs, kwargs, meta):  \u001b[38;5;66;03m# pylint: disable=unused-argument\u001b[39;00m\n\u001b[1;32m    547\u001b[0m     \u001b[38;5;28mself\u001b[39m\u001b[38;5;241m.\u001b[39m_verify_method_only_call(ufunc, method)\n\u001b[0;32m--> 548\u001b[0m     \u001b[38;5;28;01mreturn\u001b[39;00m matmul_jit(\u001b[38;5;28mself\u001b[39m\u001b[38;5;241m.\u001b[39mfield)(\u001b[38;5;241m*\u001b[39minputs, \u001b[38;5;241m*\u001b[39m\u001b[38;5;241m*\u001b[39mkwargs)\n",
      "File \u001b[0;32m~/miniconda3/envs/ff-net/lib/python3.11/site-packages/galois/_domains/_linalg.py:190\u001b[0m, in \u001b[0;36mmatmul_jit.__call__\u001b[0;34m(self, A, B, out, **kwargs)\u001b[0m\n\u001b[1;32m    187\u001b[0m dtype \u001b[38;5;241m=\u001b[39m A\u001b[38;5;241m.\u001b[39mdtype\n\u001b[1;32m    189\u001b[0m \u001b[38;5;28;01mif\u001b[39;00m \u001b[38;5;28mself\u001b[39m\u001b[38;5;241m.\u001b[39mfield\u001b[38;5;241m.\u001b[39m_is_prime_field:\n\u001b[0;32m--> 190\u001b[0m     \u001b[38;5;28;01mreturn\u001b[39;00m _lapack_linalg(\u001b[38;5;28mself\u001b[39m\u001b[38;5;241m.\u001b[39mfield, A, B, np\u001b[38;5;241m.\u001b[39mmatmul, out\u001b[38;5;241m=\u001b[39mout)\n\u001b[1;32m    192\u001b[0m prepend, append \u001b[38;5;241m=\u001b[39m \u001b[38;5;28;01mFalse\u001b[39;00m, \u001b[38;5;28;01mFalse\u001b[39;00m\n\u001b[1;32m    193\u001b[0m \u001b[38;5;28;01mif\u001b[39;00m A\u001b[38;5;241m.\u001b[39mndim \u001b[38;5;241m==\u001b[39m \u001b[38;5;241m1\u001b[39m:\n",
      "File \u001b[0;32m~/miniconda3/envs/ff-net/lib/python3.11/site-packages/galois/_domains/_linalg.py:51\u001b[0m, in \u001b[0;36m_lapack_linalg\u001b[0;34m(field, a, b, function, out, n_sum)\u001b[0m\n\u001b[1;32m     49\u001b[0m     c \u001b[38;5;241m=\u001b[39m function(a, b)\n\u001b[1;32m     50\u001b[0m \u001b[38;5;28;01melse\u001b[39;00m:\n\u001b[0;32m---> 51\u001b[0m     c \u001b[38;5;241m=\u001b[39m function(a, b, out\u001b[38;5;241m=\u001b[39mout)\n\u001b[1;32m     52\u001b[0m c \u001b[38;5;241m=\u001b[39m c \u001b[38;5;241m%\u001b[39m field\u001b[38;5;241m.\u001b[39mcharacteristic  \u001b[38;5;66;03m# Reduce the result mod p\u001b[39;00m\n\u001b[1;32m     54\u001b[0m \u001b[38;5;28;01mif\u001b[39;00m np\u001b[38;5;241m.\u001b[39misscalar(c):\n\u001b[1;32m     55\u001b[0m     \u001b[38;5;66;03m# TODO: Sometimes the scalar c is a float?\u001b[39;00m\n",
      "\u001b[0;31mKeyboardInterrupt\u001b[0m: "
     ]
    }
   ],
   "source": [
    "for epoch in range(EPOCH):\n",
    "    tot_loss = 0\n",
    "    for train_idx, (train_data_batch, train_label_batch) in enumerate(zip(train_data, train_label)):\n",
    "        # train\n",
    "        preds = model.forward(train_data_batch)\n",
    "\n",
    "        loss = criterion.forward(preds, train_label_batch)\n",
    "        tot_loss += loss\n",
    "        propagated_error = criterion.error_derivative()\n",
    "\n",
    "        model.backprop(propagated_error)\n",
    "        model.optimize(LR)\n",
    "\n",
    "        print('epoch: {}, idx: {}, curr loss: {}'.format(epoch + 1, train_idx + 1, loss))\n",
    "        if train_idx == 0 or (train_idx + 1) % PRINT == 0:\n",
    "            if train_idx != 0:\n",
    "                tot_loss = tot_loss / PRINT\n",
    "            print('epoch: {}, idx: {}, avg loss: {}'.format(epoch + 1, train_idx + 1, tot_loss))\n",
    "            tot_loss = 0"
   ]
  }
 ],
 "metadata": {
  "kernelspec": {
   "display_name": "Python 3",
   "language": "python",
   "name": "python3"
  },
  "language_info": {
   "codemirror_mode": {
    "name": "ipython",
    "version": 3
   },
   "file_extension": ".py",
   "mimetype": "text/x-python",
   "name": "python",
   "nbconvert_exporter": "python",
   "pygments_lexer": "ipython3",
   "version": "3.11.4"
  }
 },
 "nbformat": 4,
 "nbformat_minor": 0
}
