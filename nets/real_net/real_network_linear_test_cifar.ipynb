{
 "cells": [
  {
   "cell_type": "code",
   "execution_count": 1,
   "metadata": {
    "collapsed": true,
    "ExecuteTime": {
     "end_time": "2023-06-21T09:02:25.822795612Z",
     "start_time": "2023-06-21T09:02:25.179227284Z"
    }
   },
   "outputs": [],
   "source": [
    "import numpy as np\n",
    "\n",
    "from networks import RealNetworkLinearTest, RealNetworkLinearTest_v2, RealLeNet, RealLeNetReLU, RealPiNetNetworkLinear, RealPiNetNetworkLeNet, RealPiNetNetworkLeNetCIFAR10\n",
    "from criterions import RealMSELoss\n",
    "from datasets import load_all_data_mnist, load_all_data_cifar10\n",
    "from utils import create_batch_data"
   ]
  },
  {
   "cell_type": "code",
   "execution_count": 2,
   "outputs": [],
   "source": [
    "BATCH_SIZE = 256\n",
    "EPOCH = 1\n",
    "LR = 0.01\n",
    "PRINT = 10\n",
    "MODE = 7"
   ],
   "metadata": {
    "collapsed": false,
    "ExecuteTime": {
     "end_time": "2023-06-21T09:02:28.179701202Z",
     "start_time": "2023-06-21T09:02:28.177857882Z"
    }
   }
  },
  {
   "cell_type": "code",
   "execution_count": 3,
   "outputs": [],
   "source": [
    "if MODE == 1:\n",
    "    model = RealNetworkLinearTest()\n",
    "    flatten = True\n",
    "elif MODE == 2:\n",
    "    model = RealNetworkLinearTest_v2()\n",
    "    flatten = True\n",
    "elif MODE == 3:\n",
    "    model = RealLeNet()\n",
    "    flatten = False\n",
    "elif MODE == 4:\n",
    "    model = RealLeNetReLU()\n",
    "    flatten = False\n",
    "elif MODE == 5:\n",
    "    model = RealPiNetNetworkLinear()\n",
    "    flatten = True\n",
    "elif MODE == 6:\n",
    "    model = RealPiNetNetworkLeNet()\n",
    "    flatten = False\n",
    "elif MODE == 7:\n",
    "    model = RealPiNetNetworkLeNetCIFAR10()\n",
    "    flatten = False\n",
    "else:\n",
    "    model = None\n",
    "    flatten = True\n",
    "criterion = RealMSELoss()"
   ],
   "metadata": {
    "collapsed": false,
    "ExecuteTime": {
     "end_time": "2023-06-21T09:02:30.674439486Z",
     "start_time": "2023-06-21T09:02:30.659611950Z"
    }
   }
  },
  {
   "cell_type": "code",
   "execution_count": 4,
   "outputs": [
    {
     "name": "stdout",
     "output_type": "stream",
     "text": [
      "Files already downloaded and verified\n",
      "Files already downloaded and verified\n"
     ]
    }
   ],
   "source": [
    "# data fetching\n",
    "load_path = '../../data'\n",
    "train_data, train_label, test_data, test_label = load_all_data_cifar10(load_path, flatten=flatten)\n",
    "train_data, train_label, test_data, test_label = create_batch_data(train_data, train_label, test_data, test_label, BATCH_SIZE)"
   ],
   "metadata": {
    "collapsed": false,
    "ExecuteTime": {
     "end_time": "2023-06-21T09:02:44.018587223Z",
     "start_time": "2023-06-21T09:02:38.660020648Z"
    }
   }
  },
  {
   "cell_type": "code",
   "execution_count": 5,
   "outputs": [
    {
     "name": "stdout",
     "output_type": "stream",
     "text": [
      "epoch: 1, idx: 1, accuracy: 0.1197, loss: 1.0074292760128079\n",
      "epoch: 1, idx: 10, accuracy: 0.2569, loss: 0.8475574027140457\n",
      "epoch: 1, idx: 20, accuracy: 0.304, loss: 0.8766682068939081\n",
      "epoch: 1, idx: 30, accuracy: 0.3336, loss: 0.8529828654769377\n",
      "epoch: 1, idx: 40, accuracy: 0.3483, loss: 0.8442227820121513\n",
      "epoch: 1, idx: 50, accuracy: 0.3646, loss: 0.8339056063685806\n",
      "epoch: 1, idx: 60, accuracy: 0.3676, loss: 0.8272758476321066\n",
      "epoch: 1, idx: 70, accuracy: 0.3843, loss: 0.8198997982422087\n",
      "epoch: 1, idx: 80, accuracy: 0.3903, loss: 0.8074098123845832\n",
      "epoch: 1, idx: 90, accuracy: 0.3953, loss: 0.7953775242135783\n",
      "epoch: 1, idx: 100, accuracy: 0.393, loss: 0.8022220810714075\n",
      "epoch: 1, idx: 110, accuracy: 0.3934, loss: 0.7990804113279016\n",
      "epoch: 1, idx: 120, accuracy: 0.4024, loss: 0.7888773614436331\n",
      "epoch: 1, idx: 130, accuracy: 0.4053, loss: 0.7853544240254382\n",
      "epoch: 1, idx: 140, accuracy: 0.4118, loss: 0.7839769968091165\n",
      "epoch: 1, idx: 150, accuracy: 0.4198, loss: 0.7731402630266205\n",
      "epoch: 1, idx: 160, accuracy: 0.4126, loss: 0.7674342747004749\n",
      "epoch: 1, idx: 170, accuracy: 0.4234, loss: 0.7751795792328962\n",
      "epoch: 1, idx: 180, accuracy: 0.4213, loss: 0.7689379135480918\n",
      "epoch: 1, idx: 190, accuracy: 0.4233, loss: 0.7654596289885303\n"
     ]
    }
   ],
   "source": [
    "for epoch in range(EPOCH):\n",
    "    tot_loss = 0\n",
    "    for train_idx, (train_data_batch, train_label_batch) in enumerate(zip(train_data, train_label)):\n",
    "        # train\n",
    "        preds = model.forward(train_data_batch)\n",
    "\n",
    "        tot_loss += criterion.forward(preds, train_label_batch)\n",
    "        propagated_error = criterion.error_derivative()\n",
    "\n",
    "        model.backprop(propagated_error)\n",
    "        model.optimize(LR)\n",
    "\n",
    "        if train_idx == 0 or (train_idx + 1) % PRINT == 0:\n",
    "            tot_acc = 0\n",
    "            tot_sample = 0\n",
    "            for train_acc_idx, (test_data_batch, test_label_batch) in enumerate(zip(test_data, test_label)):\n",
    "                # train accuracy\n",
    "                preds = model.forward(test_data_batch)\n",
    "                pred_args = np.argmax(preds, axis=1)\n",
    "\n",
    "                tot_acc += np.count_nonzero(pred_args == test_label_batch)\n",
    "                tot_sample += test_data_batch.shape[0]\n",
    "            accuracy = tot_acc / tot_sample\n",
    "            if train_idx != 0:\n",
    "                tot_loss = tot_loss / PRINT\n",
    "            print('epoch: {}, idx: {}, accuracy: {}, loss: {}'.format(epoch + 1, train_idx + 1, accuracy, tot_loss))\n",
    "            tot_loss = 0"
   ],
   "metadata": {
    "collapsed": false,
    "ExecuteTime": {
     "end_time": "2023-06-21T09:15:06.564766934Z",
     "start_time": "2023-06-21T09:02:47.843782979Z"
    }
   }
  }
 ],
 "metadata": {
  "kernelspec": {
   "display_name": "Python 3",
   "language": "python",
   "name": "python3"
  },
  "language_info": {
   "codemirror_mode": {
    "name": "ipython",
    "version": 2
   },
   "file_extension": ".py",
   "mimetype": "text/x-python",
   "name": "python",
   "nbconvert_exporter": "python",
   "pygments_lexer": "ipython2",
   "version": "2.7.6"
  }
 },
 "nbformat": 4,
 "nbformat_minor": 0
}
