{
 "cells": [
  {
   "cell_type": "code",
   "execution_count": 1,
   "metadata": {
    "collapsed": true,
    "ExecuteTime": {
     "end_time": "2023-06-22T08:14:42.715078420Z",
     "start_time": "2023-06-22T08:14:42.063244380Z"
    }
   },
   "outputs": [],
   "source": [
    "import numpy as np\n",
    "\n",
    "from networks import RealNetworkLinearTest, RealNetworkLinearTest_v2, RealLeNet, RealLeNetReLU, RealPiNetNetworkLinear, RealPiNetNetworkLeNet, RealPiNetNetworkLeNetCIFAR10, RealPiNetNetworkDebug, RealPiNetNetworkDebug2\n",
    "from criterions import RealMSELoss\n",
    "from datasets import load_all_data_mnist, load_all_data_cifar10\n",
    "from utils import create_batch_data"
   ]
  },
  {
   "cell_type": "code",
   "execution_count": 2,
   "outputs": [],
   "source": [
    "BATCH_SIZE = 256\n",
    "EPOCH = 1\n",
    "LR = 0.01\n",
    "PRINT = 10\n",
    "MODE = 9"
   ],
   "metadata": {
    "collapsed": false,
    "ExecuteTime": {
     "end_time": "2023-06-22T08:14:43.015304973Z",
     "start_time": "2023-06-22T08:14:43.014521697Z"
    }
   }
  },
  {
   "cell_type": "code",
   "execution_count": 3,
   "outputs": [],
   "source": [
    "if MODE == 1:\n",
    "    model = RealNetworkLinearTest()\n",
    "    flatten = True\n",
    "elif MODE == 2:\n",
    "    model = RealNetworkLinearTest_v2()\n",
    "    flatten = True\n",
    "elif MODE == 3:\n",
    "    model = RealLeNet()\n",
    "    flatten = False\n",
    "elif MODE == 4:\n",
    "    model = RealLeNetReLU()\n",
    "    flatten = False\n",
    "elif MODE == 5:\n",
    "    model = RealPiNetNetworkLinear()\n",
    "    flatten = True\n",
    "elif MODE == 6:\n",
    "    model = RealPiNetNetworkLeNet()\n",
    "    flatten = False\n",
    "elif MODE == 7:\n",
    "    model = RealPiNetNetworkLeNetCIFAR10()\n",
    "    flatten = False\n",
    "elif MODE == 8:\n",
    "    model = RealPiNetNetworkDebug()\n",
    "    flatten = False\n",
    "elif MODE == 9:\n",
    "    model = RealPiNetNetworkDebug2()\n",
    "    flatten = False\n",
    "else:\n",
    "    model = None\n",
    "    flatten = True\n",
    "criterion = RealMSELoss()"
   ],
   "metadata": {
    "collapsed": false,
    "ExecuteTime": {
     "end_time": "2023-06-22T08:14:43.801922569Z",
     "start_time": "2023-06-22T08:14:43.800452610Z"
    }
   }
  },
  {
   "cell_type": "code",
   "execution_count": 4,
   "outputs": [],
   "source": [
    "# data fetching\n",
    "load_path = '../../data'\n",
    "train_data, train_label, test_data, test_label = load_all_data_mnist(load_path, flatten=flatten)\n",
    "train_data, train_label, test_data, test_label = create_batch_data(train_data, train_label, test_data, test_label, BATCH_SIZE)"
   ],
   "metadata": {
    "collapsed": false,
    "ExecuteTime": {
     "end_time": "2023-06-22T08:14:48.552132330Z",
     "start_time": "2023-06-22T08:14:44.582802241Z"
    }
   }
  },
  {
   "cell_type": "code",
   "execution_count": 5,
   "outputs": [
    {
     "name": "stdout",
     "output_type": "stream",
     "text": [
      "epoch: 1, idx: 1, accuracy: 0.0997, loss: 1.335103512548915\n",
      "epoch: 1, idx: 10, accuracy: 0.2058, loss: 0.9002773957076483\n",
      "epoch: 1, idx: 20, accuracy: 0.2905, loss: 0.9088973547690079\n",
      "epoch: 1, idx: 30, accuracy: 0.3776, loss: 0.8448623202694063\n",
      "epoch: 1, idx: 40, accuracy: 0.4516, loss: 0.8110542418504926\n",
      "epoch: 1, idx: 50, accuracy: 0.5203, loss: 0.764509132446741\n",
      "epoch: 1, idx: 60, accuracy: 0.5901, loss: 0.7328697186003105\n",
      "epoch: 1, idx: 70, accuracy: 0.6366, loss: 0.6983514200057244\n",
      "epoch: 1, idx: 80, accuracy: 0.6598, loss: 0.6714331697034353\n",
      "epoch: 1, idx: 90, accuracy: 0.6831, loss: 0.6415187893803089\n",
      "epoch: 1, idx: 100, accuracy: 0.7039, loss: 0.6220696847897756\n",
      "epoch: 1, idx: 110, accuracy: 0.7256, loss: 0.5913654265545718\n"
     ]
    },
    {
     "ename": "KeyboardInterrupt",
     "evalue": "",
     "output_type": "error",
     "traceback": [
      "\u001B[0;31m---------------------------------------------------------------------------\u001B[0m",
      "\u001B[0;31mKeyboardInterrupt\u001B[0m                         Traceback (most recent call last)",
      "Cell \u001B[0;32mIn[5], line 10\u001B[0m\n\u001B[1;32m      7\u001B[0m tot_loss \u001B[38;5;241m+\u001B[39m\u001B[38;5;241m=\u001B[39m criterion\u001B[38;5;241m.\u001B[39mforward(preds, train_label_batch)\n\u001B[1;32m      8\u001B[0m propagated_error \u001B[38;5;241m=\u001B[39m criterion\u001B[38;5;241m.\u001B[39merror_derivative()\n\u001B[0;32m---> 10\u001B[0m \u001B[43mmodel\u001B[49m\u001B[38;5;241;43m.\u001B[39;49m\u001B[43mbackprop\u001B[49m\u001B[43m(\u001B[49m\u001B[43mpropagated_error\u001B[49m\u001B[43m)\u001B[49m\n\u001B[1;32m     11\u001B[0m model\u001B[38;5;241m.\u001B[39moptimize(LR)\n\u001B[1;32m     13\u001B[0m \u001B[38;5;28;01mif\u001B[39;00m train_idx \u001B[38;5;241m==\u001B[39m \u001B[38;5;241m0\u001B[39m \u001B[38;5;129;01mor\u001B[39;00m (train_idx \u001B[38;5;241m+\u001B[39m \u001B[38;5;241m1\u001B[39m) \u001B[38;5;241m%\u001B[39m PRINT \u001B[38;5;241m==\u001B[39m \u001B[38;5;241m0\u001B[39m:\n",
      "File \u001B[0;32m~/Desktop/umityigitbsrn/research/repos/finite-field-nn/nets/real_net/networks.py:282\u001B[0m, in \u001B[0;36mRealPiNetNetworkDebug2.backprop\u001B[0;34m(self, propagated_error)\u001B[0m\n\u001B[1;32m    280\u001B[0m curr_error \u001B[38;5;241m=\u001B[39m \u001B[38;5;28mself\u001B[39m\u001B[38;5;241m.\u001B[39m_propagated_error\n\u001B[1;32m    281\u001B[0m \u001B[38;5;28;01mfor\u001B[39;00m layer \u001B[38;5;129;01min\u001B[39;00m \u001B[38;5;28mreversed\u001B[39m(\u001B[38;5;28mself\u001B[39m\u001B[38;5;241m.\u001B[39m__model):\n\u001B[0;32m--> 282\u001B[0m     \u001B[43mlayer\u001B[49m\u001B[38;5;241;43m.\u001B[39;49m\u001B[43mbackprop\u001B[49m\u001B[43m(\u001B[49m\u001B[43mcurr_error\u001B[49m\u001B[43m)\u001B[49m\n\u001B[1;32m    283\u001B[0m     curr_error \u001B[38;5;241m=\u001B[39m layer\u001B[38;5;241m.\u001B[39mloss()\n",
      "File \u001B[0;32m~/Desktop/umityigitbsrn/research/repos/finite-field-nn/nets/real_net/layers.py:181\u001B[0m, in \u001B[0;36mRealPiNetSecondOrderLinearLayer.backprop\u001B[0;34m(self, propagated_error)\u001B[0m\n\u001B[1;32m    178\u001B[0m \u001B[38;5;28mself\u001B[39m\u001B[38;5;241m.\u001B[39m__inner_prop[\u001B[38;5;124m'\u001B[39m\u001B[38;5;124mprop_1\u001B[39m\u001B[38;5;124m'\u001B[39m] \u001B[38;5;241m=\u001B[39m first_prop\n\u001B[1;32m    179\u001B[0m \u001B[38;5;28mself\u001B[39m\u001B[38;5;241m.\u001B[39m__inner_prop[\u001B[38;5;124m'\u001B[39m\u001B[38;5;124mprop_2\u001B[39m\u001B[38;5;124m'\u001B[39m] \u001B[38;5;241m=\u001B[39m second_prop\n\u001B[0;32m--> 181\u001B[0m \u001B[38;5;28;43mself\u001B[39;49m\u001B[38;5;241;43m.\u001B[39;49m\u001B[43m__first_fc\u001B[49m\u001B[38;5;241;43m.\u001B[39;49m\u001B[43mbackprop\u001B[49m\u001B[43m(\u001B[49m\u001B[43mfirst_prop\u001B[49m\u001B[43m)\u001B[49m\n\u001B[1;32m    182\u001B[0m \u001B[38;5;28mself\u001B[39m\u001B[38;5;241m.\u001B[39m__second_fc\u001B[38;5;241m.\u001B[39mbackprop(second_prop)\n",
      "\u001B[0;31mKeyboardInterrupt\u001B[0m: "
     ]
    }
   ],
   "source": [
    "for epoch in range(EPOCH):\n",
    "    tot_loss = 0\n",
    "    for train_idx, (train_data_batch, train_label_batch) in enumerate(zip(train_data, train_label)):\n",
    "        # train\n",
    "        preds = model.forward(train_data_batch)\n",
    "\n",
    "        tot_loss += criterion.forward(preds, train_label_batch)\n",
    "        propagated_error = criterion.error_derivative()\n",
    "\n",
    "        model.backprop(propagated_error)\n",
    "        model.optimize(LR)\n",
    "\n",
    "        if train_idx == 0 or (train_idx + 1) % PRINT == 0:\n",
    "            tot_acc = 0\n",
    "            tot_sample = 0\n",
    "            for train_acc_idx, (test_data_batch, test_label_batch) in enumerate(zip(test_data, test_label)):\n",
    "                # train accuracy\n",
    "                preds = model.forward(test_data_batch)\n",
    "                pred_args = np.argmax(preds, axis=1)\n",
    "\n",
    "                tot_acc += np.count_nonzero(pred_args == test_label_batch)\n",
    "                tot_sample += test_data_batch.shape[0]\n",
    "            accuracy = tot_acc / tot_sample\n",
    "            if train_idx != 0:\n",
    "                tot_loss = tot_loss / PRINT\n",
    "            print('epoch: {}, idx: {}, accuracy: {}, loss: {}'.format(epoch + 1, train_idx + 1, accuracy, tot_loss))\n",
    "            tot_loss = 0"
   ],
   "metadata": {
    "collapsed": false,
    "ExecuteTime": {
     "end_time": "2023-06-22T08:15:27.330409070Z",
     "start_time": "2023-06-22T08:14:49.704805287Z"
    }
   }
  }
 ],
 "metadata": {
  "kernelspec": {
   "display_name": "Python 3",
   "language": "python",
   "name": "python3"
  },
  "language_info": {
   "codemirror_mode": {
    "name": "ipython",
    "version": 2
   },
   "file_extension": ".py",
   "mimetype": "text/x-python",
   "name": "python",
   "nbconvert_exporter": "python",
   "pygments_lexer": "ipython2",
   "version": "2.7.6"
  }
 },
 "nbformat": 4,
 "nbformat_minor": 0
}
