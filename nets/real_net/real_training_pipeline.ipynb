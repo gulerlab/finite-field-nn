{
 "cells": [
  {
   "cell_type": "code",
   "execution_count": 1,
   "metadata": {
    "ExecuteTime": {
     "end_time": "2023-06-23T11:10:06.763061490Z",
     "start_time": "2023-06-23T11:10:06.111558585Z"
    },
    "collapsed": true
   },
   "outputs": [
    {
     "ename": "ModuleNotFoundError",
     "evalue": "No module named 'utils'",
     "output_type": "error",
     "traceback": [
      "\u001b[0;31m---------------------------------------------------------------------------\u001b[0m",
      "\u001b[0;31mModuleNotFoundError\u001b[0m                       Traceback (most recent call last)",
      "Cell \u001b[0;32mIn[1], line 3\u001b[0m\n\u001b[1;32m      1\u001b[0m \u001b[38;5;28;01mimport\u001b[39;00m \u001b[38;5;21;01mnumpy\u001b[39;00m \u001b[38;5;28;01mas\u001b[39;00m \u001b[38;5;21;01mnp\u001b[39;00m\n\u001b[1;32m      2\u001b[0m \u001b[38;5;28;01mfrom\u001b[39;00m \u001b[38;5;21;01mdatasets\u001b[39;00m \u001b[38;5;28;01mimport\u001b[39;00m load_all_data_mnist, load_all_data_cifar10, load_all_data_fashion_mnist, load_all_data_apply_vgg_cifar10\n\u001b[0;32m----> 3\u001b[0m \u001b[38;5;28;01mfrom\u001b[39;00m \u001b[38;5;21;01mutils\u001b[39;00m \u001b[38;5;28;01mimport\u001b[39;00m create_batch_data\n\u001b[1;32m      4\u001b[0m \u001b[38;5;28;01mimport\u001b[39;00m \u001b[38;5;21;01mmodules\u001b[39;00m\n\u001b[1;32m      5\u001b[0m \u001b[38;5;28;01mimport\u001b[39;00m \u001b[38;5;21;01mactivations\u001b[39;00m\n",
      "\u001b[0;31mModuleNotFoundError\u001b[0m: No module named 'utils'"
     ]
    }
   ],
   "source": [
    "import numpy as np\n",
    "from datasets import load_all_data_mnist, load_all_data_cifar10, load_all_data_fashion_mnist, load_all_data_apply_vgg_cifar10\n",
    "from utils import create_batch_data\n",
    "import modules\n",
    "import activations\n",
    "import layers\n",
    "from criterions import RealMSELoss"
   ]
  },
  {
   "cell_type": "code",
   "execution_count": 2,
   "metadata": {
    "ExecuteTime": {
     "end_time": "2023-06-23T11:10:06.832353413Z",
     "start_time": "2023-06-23T11:10:06.831791575Z"
    },
    "collapsed": false
   },
   "outputs": [],
   "source": [
    "BATCH_SIZE = 256\n",
    "EPOCH = 1\n",
    "LR = 0.01\n",
    "PRINT = 10\n",
    "FLATTEN = False\n",
    "# 0, MNIST; 1, FashionMNIST; 2, CIFAR10; 3, VGG-CIFAR10\n",
    "DATASET_MODE = 2"
   ]
  },
  {
   "cell_type": "code",
   "execution_count": 3,
   "metadata": {
    "ExecuteTime": {
     "end_time": "2023-06-23T11:10:12.828605370Z",
     "start_time": "2023-06-23T11:10:07.499762257Z"
    },
    "collapsed": false
   },
   "outputs": [
    {
     "name": "stdout",
     "output_type": "stream",
     "text": [
      "Files already downloaded and verified\n",
      "Files already downloaded and verified\n"
     ]
    }
   ],
   "source": [
    "# data fetching\n",
    "load_path = '../../data'\n",
    "if DATASET_MODE == 0:\n",
    "    train_data, train_label, test_data, test_label = load_all_data_mnist(load_path, flatten=FLATTEN)\n",
    "elif DATASET_MODE == 1:\n",
    "    train_data, train_label, test_data, test_label = load_all_data_fashion_mnist(load_path, flatten=FLATTEN)\n",
    "elif DATASET_MODE == 2:\n",
    "    train_data, train_label, test_data, test_label = load_all_data_cifar10(load_path, flatten=FLATTEN)\n",
    "elif DATASET_MODE == 3:\n",
    "    train_data, train_label, test_data, test_label = load_all_data_apply_vgg_cifar10(load_path, flatten=FLATTEN)\n",
    "else:\n",
    "    train_data, train_label, test_data, test_label = None, None, None, None\n",
    "train_data, train_label, test_data, test_label = create_batch_data(train_data, train_label, test_data, test_label, BATCH_SIZE)"
   ]
  },
  {
   "cell_type": "code",
   "execution_count": 4,
   "metadata": {
    "ExecuteTime": {
     "end_time": "2023-06-23T11:10:12.836494310Z",
     "start_time": "2023-06-23T11:10:12.829998167Z"
    },
    "collapsed": false
   },
   "outputs": [],
   "source": [
    "model_arr = [\n",
    "    layers.RealPiNetSecondOrderConvLayer(3, 64, (4, 4), stride=(2, 2), padding=(1, 1, 1, 1)),\n",
    "    layers.RealPiNetSecondOrderConvLayer(64, 256, (4, 4), stride=(2, 2), padding=(1, 1, 1, 1)),\n",
    "    layers.GAPTruncation(),\n",
    "    layers.RealLinearLayer(256, 10)\n",
    "]\n",
    "\n",
    "model = modules.Network(model_arr)\n",
    "criterion = RealMSELoss()"
   ]
  },
  {
   "cell_type": "code",
   "execution_count": 5,
   "metadata": {
    "ExecuteTime": {
     "end_time": "2023-06-23T11:17:30.482241705Z",
     "start_time": "2023-06-23T11:10:12.837939900Z"
    },
    "collapsed": false
   },
   "outputs": [
    {
     "name": "stdout",
     "output_type": "stream",
     "text": [
      "epoch: 1, idx: 1, accuracy: 0.0895, loss: 1.0078885631559544\n",
      "epoch: 1, idx: 10, accuracy: 0.0903, loss: 0.8995184890630504\n",
      "epoch: 1, idx: 20, accuracy: 0.102, loss: 0.9847955383652061\n",
      "epoch: 1, idx: 30, accuracy: 0.1013, loss: 0.9633101828112511\n",
      "epoch: 1, idx: 40, accuracy: 0.1036, loss: 0.9388229922630075\n",
      "epoch: 1, idx: 50, accuracy: 0.1288, loss: 0.9154936129841307\n",
      "epoch: 1, idx: 60, accuracy: 0.1684, loss: 0.9022156871460949\n",
      "epoch: 1, idx: 70, accuracy: 0.192, loss: 0.8958614811725724\n",
      "epoch: 1, idx: 80, accuracy: 0.2061, loss: 0.8885328246043894\n",
      "epoch: 1, idx: 90, accuracy: 0.2122, loss: 0.8821011846561426\n",
      "epoch: 1, idx: 100, accuracy: 0.2351, loss: 0.8776488053694468\n",
      "epoch: 1, idx: 110, accuracy: 0.23, loss: 0.8765227317219217\n",
      "epoch: 1, idx: 120, accuracy: 0.2529, loss: 0.8715747493119428\n",
      "epoch: 1, idx: 130, accuracy: 0.2569, loss: 0.8719109400641895\n",
      "epoch: 1, idx: 140, accuracy: 0.263, loss: 0.8649194609111781\n",
      "epoch: 1, idx: 150, accuracy: 0.2726, loss: 0.8615075119855495\n",
      "epoch: 1, idx: 160, accuracy: 0.2708, loss: 0.8571247866276387\n",
      "epoch: 1, idx: 170, accuracy: 0.2866, loss: 0.8567844121530994\n",
      "epoch: 1, idx: 180, accuracy: 0.2974, loss: 0.8513714424873138\n",
      "epoch: 1, idx: 190, accuracy: 0.2891, loss: 0.8472759480579345\n"
     ]
    }
   ],
   "source": [
    "for epoch in range(EPOCH):\n",
    "    tot_loss = 0\n",
    "    for train_idx, (train_data_batch, train_label_batch) in enumerate(zip(train_data, train_label)):\n",
    "        # train\n",
    "        preds = model.forward(train_data_batch)\n",
    "\n",
    "        tot_loss += criterion.forward(preds, train_label_batch)\n",
    "        propagated_error = criterion.error_derivative()\n",
    "\n",
    "        model.backprop(propagated_error)\n",
    "        model.optimize(LR)\n",
    "\n",
    "        if train_idx == 0 or (train_idx + 1) % PRINT == 0:\n",
    "            tot_acc = 0\n",
    "            tot_sample = 0\n",
    "            for train_acc_idx, (test_data_batch, test_label_batch) in enumerate(zip(test_data, test_label)):\n",
    "                # train accuracy\n",
    "                preds = model.forward(test_data_batch)\n",
    "                pred_args = np.argmax(preds, axis=1)\n",
    "\n",
    "                tot_acc += np.count_nonzero(pred_args == test_label_batch)\n",
    "                tot_sample += test_data_batch.shape[0]\n",
    "            accuracy = tot_acc / tot_sample\n",
    "            if train_idx != 0:\n",
    "                tot_loss = tot_loss / PRINT\n",
    "            print('epoch: {}, idx: {}, accuracy: {}, loss: {}'.format(epoch + 1, train_idx + 1, accuracy, tot_loss))\n",
    "            tot_loss = 0"
   ]
  }
 ],
 "metadata": {
  "kernelspec": {
   "display_name": "Python 3",
   "language": "python",
   "name": "python3"
  },
  "language_info": {
   "codemirror_mode": {
    "name": "ipython",
    "version": 3
   },
   "file_extension": ".py",
   "mimetype": "text/x-python",
   "name": "python",
   "nbconvert_exporter": "python",
   "pygments_lexer": "ipython3",
   "version": "3.11.4"
  }
 },
 "nbformat": 4,
 "nbformat_minor": 0
}
