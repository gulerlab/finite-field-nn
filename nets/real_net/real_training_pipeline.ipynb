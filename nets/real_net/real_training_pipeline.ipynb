{
 "cells": [
  {
   "cell_type": "code",
   "execution_count": 6,
   "metadata": {
    "collapsed": true,
    "ExecuteTime": {
     "end_time": "2023-06-22T21:43:27.861793806Z",
     "start_time": "2023-06-22T21:43:27.816819118Z"
    }
   },
   "outputs": [],
   "source": [
    "import numpy as np\n",
    "from datasets import load_all_data_mnist, load_all_data_cifar10, load_all_data_fashion_mnist, load_all_data_apply_vgg_cifar10\n",
    "from utils import create_batch_data\n",
    "import modules\n",
    "import layers\n",
    "from criterions import RealMSELoss"
   ]
  },
  {
   "cell_type": "code",
   "execution_count": 7,
   "outputs": [],
   "source": [
    "BATCH_SIZE = 256\n",
    "EPOCH = 5\n",
    "LR = 0.01\n",
    "PRINT = 10\n",
    "FLATTEN = False\n",
    "# 0, MNIST; 1, FashionMNIST; 2, CIFAR10; 3, VGG-CIFAR10\n",
    "DATASET_MODE = 2"
   ],
   "metadata": {
    "collapsed": false,
    "ExecuteTime": {
     "end_time": "2023-06-22T21:43:28.546791901Z",
     "start_time": "2023-06-22T21:43:28.544923048Z"
    }
   }
  },
  {
   "cell_type": "code",
   "execution_count": 8,
   "outputs": [
    {
     "name": "stdout",
     "output_type": "stream",
     "text": [
      "Files already downloaded and verified\n",
      "Files already downloaded and verified\n"
     ]
    }
   ],
   "source": [
    "# data fetching\n",
    "load_path = '../../data'\n",
    "if DATASET_MODE == 0:\n",
    "    train_data, train_label, test_data, test_label = load_all_data_mnist(load_path, flatten=FLATTEN)\n",
    "elif DATASET_MODE == 1:\n",
    "    train_data, train_label, test_data, test_label = load_all_data_fashion_mnist(load_path, flatten=FLATTEN)\n",
    "elif DATASET_MODE == 2:\n",
    "    train_data, train_label, test_data, test_label = load_all_data_cifar10(load_path, flatten=FLATTEN)\n",
    "elif DATASET_MODE == 3:\n",
    "    train_data, train_label, test_data, test_label = load_all_data_apply_vgg_cifar10(load_path, flatten=FLATTEN)\n",
    "else:\n",
    "    train_data, train_label, test_data, test_label = None, None, None, None\n",
    "train_data, train_label, test_data, test_label = create_batch_data(train_data, train_label, test_data, test_label, BATCH_SIZE)"
   ],
   "metadata": {
    "collapsed": false,
    "ExecuteTime": {
     "end_time": "2023-06-22T21:43:34.239916995Z",
     "start_time": "2023-06-22T21:43:29.154925948Z"
    }
   }
  },
  {
   "cell_type": "code",
   "execution_count": 9,
   "outputs": [],
   "source": [
    "model_arr = [\n",
    "    layers.RealPiNetSecondOrderConvLayer(3, 6, (9, 9)),\n",
    "    modules.Flatten(),\n",
    "    layers.RealPiNetSecondOrderLinearLayer(3456, 128),\n",
    "    layers.RealLinearLayer(128, 10)\n",
    "]\n",
    "\n",
    "model = modules.Network(model_arr)\n",
    "criterion = RealMSELoss()"
   ],
   "metadata": {
    "collapsed": false,
    "ExecuteTime": {
     "end_time": "2023-06-22T21:43:35.461194404Z",
     "start_time": "2023-06-22T21:43:35.428549579Z"
    }
   }
  },
  {
   "cell_type": "code",
   "execution_count": null,
   "outputs": [
    {
     "name": "stdout",
     "output_type": "stream",
     "text": [
      "epoch: 1, idx: 1, accuracy: 0.1505, loss: 1.553851144962415\n",
      "epoch: 1, idx: 10, accuracy: 0.2103, loss: 0.9121908972448518\n",
      "epoch: 1, idx: 20, accuracy: 0.2421, loss: 0.929817139014753\n",
      "epoch: 1, idx: 30, accuracy: 0.2654, loss: 0.8947012438482627\n",
      "epoch: 1, idx: 40, accuracy: 0.2778, loss: 0.8826544528633986\n",
      "epoch: 1, idx: 50, accuracy: 0.2969, loss: 0.8792823297836613\n",
      "epoch: 1, idx: 60, accuracy: 0.3066, loss: 0.8620027676648764\n",
      "epoch: 1, idx: 70, accuracy: 0.3204, loss: 0.8625010331976724\n",
      "epoch: 1, idx: 80, accuracy: 0.3311, loss: 0.848832472630531\n",
      "epoch: 1, idx: 90, accuracy: 0.3349, loss: 0.835046372928866\n",
      "epoch: 1, idx: 100, accuracy: 0.3461, loss: 0.8300451117349861\n",
      "epoch: 1, idx: 110, accuracy: 0.3515, loss: 0.8335340221276688\n",
      "epoch: 1, idx: 120, accuracy: 0.3604, loss: 0.8231468556989101\n",
      "epoch: 1, idx: 130, accuracy: 0.3637, loss: 0.8241137123750935\n",
      "epoch: 1, idx: 140, accuracy: 0.3648, loss: 0.8236029069510481\n",
      "epoch: 1, idx: 150, accuracy: 0.3651, loss: 0.8154964941357179\n",
      "epoch: 1, idx: 160, accuracy: 0.3666, loss: 0.8136982901130461\n",
      "epoch: 1, idx: 170, accuracy: 0.375, loss: 0.8173625983527086\n"
     ]
    }
   ],
   "source": [
    "for epoch in range(EPOCH):\n",
    "    tot_loss = 0\n",
    "    for train_idx, (train_data_batch, train_label_batch) in enumerate(zip(train_data, train_label)):\n",
    "        # train\n",
    "        preds = model.forward(train_data_batch)\n",
    "\n",
    "        tot_loss += criterion.forward(preds, train_label_batch)\n",
    "        propagated_error = criterion.error_derivative()\n",
    "\n",
    "        model.backprop(propagated_error)\n",
    "        model.optimize(LR)\n",
    "\n",
    "        if train_idx == 0 or (train_idx + 1) % PRINT == 0:\n",
    "            tot_acc = 0\n",
    "            tot_sample = 0\n",
    "            for train_acc_idx, (test_data_batch, test_label_batch) in enumerate(zip(test_data, test_label)):\n",
    "                # train accuracy\n",
    "                preds = model.forward(test_data_batch)\n",
    "                pred_args = np.argmax(preds, axis=1)\n",
    "\n",
    "                tot_acc += np.count_nonzero(pred_args == test_label_batch)\n",
    "                tot_sample += test_data_batch.shape[0]\n",
    "            accuracy = tot_acc / tot_sample\n",
    "            if train_idx != 0:\n",
    "                tot_loss = tot_loss / PRINT\n",
    "            print('epoch: {}, idx: {}, accuracy: {}, loss: {}'.format(epoch + 1, train_idx + 1, accuracy, tot_loss))\n",
    "            tot_loss = 0"
   ],
   "metadata": {
    "collapsed": false,
    "is_executing": true,
    "ExecuteTime": {
     "start_time": "2023-06-22T21:43:36.304498944Z"
    }
   }
  }
 ],
 "metadata": {
  "kernelspec": {
   "display_name": "Python 3",
   "language": "python",
   "name": "python3"
  },
  "language_info": {
   "codemirror_mode": {
    "name": "ipython",
    "version": 2
   },
   "file_extension": ".py",
   "mimetype": "text/x-python",
   "name": "python",
   "nbconvert_exporter": "python",
   "pygments_lexer": "ipython2",
   "version": "2.7.6"
  }
 },
 "nbformat": 4,
 "nbformat_minor": 0
}
