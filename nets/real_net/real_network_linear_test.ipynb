{
 "cells": [
  {
   "cell_type": "code",
   "execution_count": 6,
   "metadata": {
    "collapsed": true,
    "ExecuteTime": {
     "end_time": "2023-06-20T23:23:25.111707211Z",
     "start_time": "2023-06-20T23:23:25.068869749Z"
    }
   },
   "outputs": [],
   "source": [
    "import numpy as np\n",
    "\n",
    "from networks import RealNetworkLinearTest, RealNetworkLinearTest_v2, RealLeNet, RealLeNetReLU, RealPiNetNetworkLinear, RealPiNetNetworkLeNet, RealPiNetNetworkLeNetCIFAR10\n",
    "from criterions import RealMSELoss\n",
    "from datasets import load_all_data_mnist, load_all_data_cifar10\n",
    "from utils import create_batch_data"
   ]
  },
  {
   "cell_type": "code",
   "execution_count": 7,
   "outputs": [],
   "source": [
    "BATCH_SIZE = 128\n",
    "EPOCH = 1\n",
    "LR = 1 / 256\n",
    "PRINT = 10\n",
    "MODE = 7"
   ],
   "metadata": {
    "collapsed": false,
    "ExecuteTime": {
     "end_time": "2023-06-20T23:23:25.851795838Z",
     "start_time": "2023-06-20T23:23:25.849290821Z"
    }
   }
  },
  {
   "cell_type": "code",
   "execution_count": 8,
   "outputs": [],
   "source": [
    "if MODE == 1:\n",
    "    model = RealNetworkLinearTest()\n",
    "    flatten = True\n",
    "elif MODE == 2:\n",
    "    model = RealNetworkLinearTest_v2()\n",
    "    flatten = True\n",
    "elif MODE == 3:\n",
    "    model = RealLeNet()\n",
    "    flatten = False\n",
    "elif MODE == 4:\n",
    "    model = RealLeNetReLU()\n",
    "    flatten = False\n",
    "elif MODE == 5:\n",
    "    model = RealPiNetNetworkLinear()\n",
    "    flatten = True\n",
    "elif MODE == 6:\n",
    "    model = RealPiNetNetworkLeNet()\n",
    "    flatten = False\n",
    "elif MODE == 7:\n",
    "    model = RealPiNetNetworkLeNetCIFAR10()\n",
    "    flatten = False\n",
    "else:\n",
    "    model = None\n",
    "    flatten = True\n",
    "criterion = RealMSELoss()"
   ],
   "metadata": {
    "collapsed": false,
    "ExecuteTime": {
     "end_time": "2023-06-20T23:23:26.673093997Z",
     "start_time": "2023-06-20T23:23:26.656298857Z"
    }
   }
  },
  {
   "cell_type": "code",
   "execution_count": 9,
   "outputs": [
    {
     "name": "stdout",
     "output_type": "stream",
     "text": [
      "Files already downloaded and verified\n",
      "Files already downloaded and verified\n"
     ]
    }
   ],
   "source": [
    "# data fetching\n",
    "load_path = '../../data'\n",
    "train_data, train_label, test_data, test_label = load_all_data_cifar10(load_path, flatten=flatten)\n",
    "train_data, train_label, test_data, test_label = create_batch_data(train_data, train_label, test_data, test_label, BATCH_SIZE)"
   ],
   "metadata": {
    "collapsed": false,
    "ExecuteTime": {
     "end_time": "2023-06-20T23:23:32.691080717Z",
     "start_time": "2023-06-20T23:23:27.410305407Z"
    }
   }
  },
  {
   "cell_type": "code",
   "execution_count": 10,
   "outputs": [
    {
     "name": "stdout",
     "output_type": "stream",
     "text": [
      "epoch: 1, idx: 1, accuracy: 0.1192, loss: 1.059382075073404\n",
      "epoch: 1, idx: 10, accuracy: 0.1986, loss: 0.8637434682604328\n",
      "epoch: 1, idx: 20, accuracy: 0.2401, loss: 0.907005111418435\n",
      "epoch: 1, idx: 30, accuracy: 0.2631, loss: 0.8895534251778388\n",
      "epoch: 1, idx: 40, accuracy: 0.2805, loss: 0.8807508411951801\n",
      "epoch: 1, idx: 50, accuracy: 0.2961, loss: 0.8638560134202937\n",
      "epoch: 1, idx: 60, accuracy: 0.3071, loss: 0.8551981889055396\n",
      "epoch: 1, idx: 70, accuracy: 0.3144, loss: 0.850013507891866\n",
      "epoch: 1, idx: 80, accuracy: 0.3215, loss: 0.8473751262647868\n",
      "epoch: 1, idx: 90, accuracy: 0.3285, loss: 0.8422778063139387\n",
      "epoch: 1, idx: 100, accuracy: 0.3342, loss: 0.8339376096032529\n",
      "epoch: 1, idx: 110, accuracy: 0.3418, loss: 0.8312417403437227\n",
      "epoch: 1, idx: 120, accuracy: 0.3436, loss: 0.8323257108262195\n",
      "epoch: 1, idx: 130, accuracy: 0.3433, loss: 0.8304260903535203\n",
      "epoch: 1, idx: 140, accuracy: 0.352, loss: 0.8205108950331299\n",
      "epoch: 1, idx: 150, accuracy: 0.358, loss: 0.8138961803336106\n",
      "epoch: 1, idx: 160, accuracy: 0.3604, loss: 0.8132434387512946\n",
      "epoch: 1, idx: 170, accuracy: 0.3638, loss: 0.8004510927541466\n",
      "epoch: 1, idx: 180, accuracy: 0.3714, loss: 0.8024855133986069\n",
      "epoch: 1, idx: 190, accuracy: 0.3738, loss: 0.7899075737333991\n",
      "epoch: 1, idx: 200, accuracy: 0.3787, loss: 0.7886688198275846\n",
      "epoch: 1, idx: 210, accuracy: 0.3766, loss: 0.788993680476\n",
      "epoch: 1, idx: 220, accuracy: 0.3822, loss: 0.7990635854975869\n",
      "epoch: 1, idx: 230, accuracy: 0.3818, loss: 0.7920281943283339\n",
      "epoch: 1, idx: 240, accuracy: 0.3848, loss: 0.7862443537920483\n",
      "epoch: 1, idx: 250, accuracy: 0.3875, loss: 0.7911474872689596\n",
      "epoch: 1, idx: 260, accuracy: 0.389, loss: 0.7856651109612083\n",
      "epoch: 1, idx: 270, accuracy: 0.396, loss: 0.7921389445557866\n"
     ]
    },
    {
     "ename": "KeyboardInterrupt",
     "evalue": "",
     "output_type": "error",
     "traceback": [
      "\u001B[0;31m---------------------------------------------------------------------------\u001B[0m",
      "\u001B[0;31mKeyboardInterrupt\u001B[0m                         Traceback (most recent call last)",
      "Cell \u001B[0;32mIn[10], line 10\u001B[0m\n\u001B[1;32m      7\u001B[0m tot_loss \u001B[38;5;241m+\u001B[39m\u001B[38;5;241m=\u001B[39m criterion\u001B[38;5;241m.\u001B[39mforward(preds, train_label_batch)\n\u001B[1;32m      8\u001B[0m propagated_error \u001B[38;5;241m=\u001B[39m criterion\u001B[38;5;241m.\u001B[39merror_derivative()\n\u001B[0;32m---> 10\u001B[0m \u001B[43mmodel\u001B[49m\u001B[38;5;241;43m.\u001B[39;49m\u001B[43mbackprop\u001B[49m\u001B[43m(\u001B[49m\u001B[43mpropagated_error\u001B[49m\u001B[43m)\u001B[49m\n\u001B[1;32m     11\u001B[0m model\u001B[38;5;241m.\u001B[39moptimize(LR)\n\u001B[1;32m     13\u001B[0m \u001B[38;5;28;01mif\u001B[39;00m train_idx \u001B[38;5;241m==\u001B[39m \u001B[38;5;241m0\u001B[39m \u001B[38;5;129;01mor\u001B[39;00m (train_idx \u001B[38;5;241m+\u001B[39m \u001B[38;5;241m1\u001B[39m) \u001B[38;5;241m%\u001B[39m PRINT \u001B[38;5;241m==\u001B[39m \u001B[38;5;241m0\u001B[39m:\n",
      "File \u001B[0;32m~/Desktop/umityigitbsrn/research/repos/finite-field-nn/nets/real_net/networks.py:250\u001B[0m, in \u001B[0;36mRealPiNetNetworkLeNetCIFAR10.backprop\u001B[0;34m(self, propagated_error)\u001B[0m\n\u001B[1;32m    248\u001B[0m curr_error \u001B[38;5;241m=\u001B[39m \u001B[38;5;28mself\u001B[39m\u001B[38;5;241m.\u001B[39m_propagated_error\n\u001B[1;32m    249\u001B[0m \u001B[38;5;28;01mfor\u001B[39;00m layer \u001B[38;5;129;01min\u001B[39;00m \u001B[38;5;28mreversed\u001B[39m(\u001B[38;5;28mself\u001B[39m\u001B[38;5;241m.\u001B[39m__model):\n\u001B[0;32m--> 250\u001B[0m     \u001B[43mlayer\u001B[49m\u001B[38;5;241;43m.\u001B[39;49m\u001B[43mbackprop\u001B[49m\u001B[43m(\u001B[49m\u001B[43mcurr_error\u001B[49m\u001B[43m)\u001B[49m\n\u001B[1;32m    251\u001B[0m     curr_error \u001B[38;5;241m=\u001B[39m layer\u001B[38;5;241m.\u001B[39mloss()\n",
      "File \u001B[0;32m~/Desktop/umityigitbsrn/research/repos/finite-field-nn/nets/real_net/layers.py:216\u001B[0m, in \u001B[0;36mRealPiNetSecondOrderConvLayer.backprop\u001B[0;34m(self, propagated_error)\u001B[0m\n\u001B[1;32m    213\u001B[0m \u001B[38;5;28mself\u001B[39m\u001B[38;5;241m.\u001B[39m__inner_prop[\u001B[38;5;124m'\u001B[39m\u001B[38;5;124mprop_1\u001B[39m\u001B[38;5;124m'\u001B[39m] \u001B[38;5;241m=\u001B[39m first_prop\n\u001B[1;32m    214\u001B[0m \u001B[38;5;28mself\u001B[39m\u001B[38;5;241m.\u001B[39m__inner_prop[\u001B[38;5;124m'\u001B[39m\u001B[38;5;124mprop_2\u001B[39m\u001B[38;5;124m'\u001B[39m] \u001B[38;5;241m=\u001B[39m second_prop\n\u001B[0;32m--> 216\u001B[0m \u001B[38;5;28;43mself\u001B[39;49m\u001B[38;5;241;43m.\u001B[39;49m\u001B[43m__first_fc\u001B[49m\u001B[38;5;241;43m.\u001B[39;49m\u001B[43mbackprop\u001B[49m\u001B[43m(\u001B[49m\u001B[43mfirst_prop\u001B[49m\u001B[43m)\u001B[49m\n\u001B[1;32m    217\u001B[0m \u001B[38;5;28mself\u001B[39m\u001B[38;5;241m.\u001B[39m__second_fc\u001B[38;5;241m.\u001B[39mbackprop(second_prop)\n",
      "File \u001B[0;32m~/Desktop/umityigitbsrn/research/repos/finite-field-nn/nets/real_net/layers.py:125\u001B[0m, in \u001B[0;36mRealConvLayer.backprop\u001B[0;34m(self, propagated_error)\u001B[0m\n\u001B[1;32m    121\u001B[0m \u001B[38;5;28;01mfor\u001B[39;00m patch \u001B[38;5;129;01min\u001B[39;00m \u001B[38;5;28mself\u001B[39m\u001B[38;5;241m.\u001B[39m__patches:\n\u001B[1;32m    122\u001B[0m     output_height_idx, output_width_idx, patch_data \u001B[38;5;241m=\u001B[39m patch\n\u001B[1;32m    123\u001B[0m     \u001B[38;5;28mself\u001B[39m\u001B[38;5;241m.\u001B[39m_gradient \u001B[38;5;241m+\u001B[39m\u001B[38;5;241m=\u001B[39m \u001B[43m(\u001B[49m\u001B[43mnp\u001B[49m\u001B[38;5;241;43m.\u001B[39;49m\u001B[43mreshape\u001B[49m\u001B[43m(\u001B[49m\u001B[43mpatch_data\u001B[49m\u001B[43m,\u001B[49m\u001B[43m \u001B[49m\u001B[43m(\u001B[49m\u001B[43mpatch_data\u001B[49m\u001B[38;5;241;43m.\u001B[39;49m\u001B[43mshape\u001B[49m\u001B[43m[\u001B[49m\u001B[38;5;241;43m0\u001B[39;49m\u001B[43m]\u001B[49m\u001B[43m,\u001B[49m\u001B[43m \u001B[49m\u001B[38;5;241;43m-\u001B[39;49m\u001B[38;5;241;43m1\u001B[39;49m\u001B[43m)\u001B[49m\u001B[43m)\u001B[49m\u001B[38;5;241;43m.\u001B[39;49m\u001B[43mT\u001B[49m\n\u001B[1;32m    124\u001B[0m \u001B[43m                       \u001B[49m\u001B[38;5;241;43m@\u001B[39;49m\u001B[43m \u001B[49m\u001B[38;5;28;43mself\u001B[39;49m\u001B[38;5;241;43m.\u001B[39;49m\u001B[43m_propagated_error\u001B[49m\u001B[43m[\u001B[49m\u001B[43m:\u001B[49m\u001B[43m,\u001B[49m\u001B[43m \u001B[49m\u001B[43m:\u001B[49m\u001B[43m,\u001B[49m\u001B[43m \u001B[49m\u001B[43moutput_height_idx\u001B[49m\u001B[43m,\u001B[49m\u001B[43m \u001B[49m\u001B[43moutput_width_idx\u001B[49m\u001B[43m]\u001B[49m\u001B[43m)\u001B[49m\u001B[43m\\\u001B[49m\n\u001B[0;32m--> 125\u001B[0m \u001B[43m        \u001B[49m\u001B[38;5;241;43m.\u001B[39;49m\u001B[43mreshape\u001B[49m\u001B[43m(\u001B[49m\u001B[38;5;28;43mself\u001B[39;49m\u001B[38;5;241;43m.\u001B[39;49m\u001B[43m_weight\u001B[49m\u001B[38;5;241;43m.\u001B[39;49m\u001B[43mshape\u001B[49m\u001B[43m)\u001B[49m\n",
      "\u001B[0;31mKeyboardInterrupt\u001B[0m: "
     ]
    }
   ],
   "source": [
    "for epoch in range(EPOCH):\n",
    "    tot_loss = 0\n",
    "    for train_idx, (train_data_batch, train_label_batch) in enumerate(zip(train_data, train_label)):\n",
    "        # train\n",
    "        preds = model.forward(train_data_batch)\n",
    "\n",
    "        tot_loss += criterion.forward(preds, train_label_batch)\n",
    "        propagated_error = criterion.error_derivative()\n",
    "\n",
    "        model.backprop(propagated_error)\n",
    "        model.optimize(LR)\n",
    "\n",
    "        if train_idx == 0 or (train_idx + 1) % PRINT == 0:\n",
    "            tot_acc = 0\n",
    "            tot_sample = 0\n",
    "            for train_acc_idx, (test_data_batch, test_label_batch) in enumerate(zip(test_data, test_label)):\n",
    "                # train accuracy\n",
    "                preds = model.forward(test_data_batch)\n",
    "                pred_args = np.argmax(preds, axis=1)\n",
    "\n",
    "                tot_acc += np.count_nonzero(pred_args == test_label_batch)\n",
    "                tot_sample += test_data_batch.shape[0]\n",
    "            accuracy = tot_acc / tot_sample\n",
    "            if train_idx != 0:\n",
    "                tot_loss = tot_loss / PRINT\n",
    "            print('epoch: {}, idx: {}, accuracy: {}, loss: {}'.format(epoch + 1, train_idx + 1, accuracy, tot_loss))\n",
    "            tot_loss = 0"
   ],
   "metadata": {
    "collapsed": false,
    "ExecuteTime": {
     "end_time": "2023-06-20T23:34:20.616553250Z",
     "start_time": "2023-06-20T23:23:32.691882049Z"
    }
   }
  }
 ],
 "metadata": {
  "kernelspec": {
   "display_name": "Python 3",
   "language": "python",
   "name": "python3"
  },
  "language_info": {
   "codemirror_mode": {
    "name": "ipython",
    "version": 2
   },
   "file_extension": ".py",
   "mimetype": "text/x-python",
   "name": "python",
   "nbconvert_exporter": "python",
   "pygments_lexer": "ipython2",
   "version": "2.7.6"
  }
 },
 "nbformat": 4,
 "nbformat_minor": 0
}
