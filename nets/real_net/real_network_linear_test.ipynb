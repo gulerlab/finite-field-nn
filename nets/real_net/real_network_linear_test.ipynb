{
 "cells": [
  {
   "cell_type": "code",
   "execution_count": 1,
   "metadata": {
    "collapsed": true,
    "ExecuteTime": {
     "end_time": "2023-06-19T05:15:31.294532792Z",
     "start_time": "2023-06-19T05:15:30.632717266Z"
    }
   },
   "outputs": [],
   "source": [
    "import numpy as np\n",
    "\n",
    "from networks import RealNetworkLinearTest, RealNetworkLinearTest_v2, RealLeNet, RealLeNetReLU\n",
    "from criterions import RealMSELoss\n",
    "from datasets import real_load_all_data_mnist, create_batch_data"
   ]
  },
  {
   "cell_type": "code",
   "execution_count": 2,
   "outputs": [],
   "source": [
    "BATCH_SIZE = 128\n",
    "EPOCH = 1\n",
    "LR = 0.1\n",
    "PRINT = 10\n",
    "MODE = 4"
   ],
   "metadata": {
    "collapsed": false,
    "ExecuteTime": {
     "end_time": "2023-06-19T05:15:31.297501114Z",
     "start_time": "2023-06-19T05:15:31.295825436Z"
    }
   }
  },
  {
   "cell_type": "code",
   "execution_count": 3,
   "outputs": [],
   "source": [
    "# data fetching\n",
    "load_path = '../../data'\n",
    "train_data, train_label, test_data, test_label = real_load_all_data_mnist(load_path, flatten=False)\n",
    "train_data, train_label, test_data, test_label = create_batch_data(train_data, train_label, test_data, test_label, BATCH_SIZE)"
   ],
   "metadata": {
    "collapsed": false,
    "ExecuteTime": {
     "end_time": "2023-06-19T05:15:35.838834807Z",
     "start_time": "2023-06-19T05:15:31.905637269Z"
    }
   }
  },
  {
   "cell_type": "code",
   "execution_count": 4,
   "outputs": [],
   "source": [
    "if MODE == 1:\n",
    "    model = RealNetworkLinearTest()\n",
    "elif MODE == 2:\n",
    "    model = RealNetworkLinearTest_v2()\n",
    "elif MODE == 3:\n",
    "    model = RealLeNet()\n",
    "elif MODE == 4:\n",
    "    model = RealLeNetReLU()\n",
    "else:\n",
    "    model = None\n",
    "criterion = RealMSELoss()"
   ],
   "metadata": {
    "collapsed": false,
    "ExecuteTime": {
     "end_time": "2023-06-19T05:15:35.845067371Z",
     "start_time": "2023-06-19T05:15:35.839898136Z"
    }
   }
  },
  {
   "cell_type": "code",
   "execution_count": 5,
   "outputs": [
    {
     "name": "stdout",
     "output_type": "stream",
     "text": [
      "epoch: 1, idx: 1, loss: 1.001598355036903\n",
      "epoch: 1, idx: 1, accuracy: 0.14895, loss: 0\n",
      "epoch: 1, idx: 10, loss: 0.7942631328887184\n",
      "epoch: 1, idx: 10, accuracy: 0.6212, loss: 0.0\n",
      "epoch: 1, idx: 20, loss: 0.7271700729453302\n",
      "epoch: 1, idx: 20, accuracy: 0.7560333333333333, loss: 0.0\n",
      "epoch: 1, idx: 30, loss: 0.5640655864069177\n",
      "epoch: 1, idx: 30, accuracy: 0.7700166666666667, loss: 0.0\n",
      "epoch: 1, idx: 40, loss: 0.452692307562613\n",
      "epoch: 1, idx: 40, accuracy: 0.7904833333333333, loss: 0.0\n",
      "epoch: 1, idx: 50, loss: 0.3744141319042222\n",
      "epoch: 1, idx: 50, accuracy: 0.8731666666666666, loss: 0.0\n",
      "epoch: 1, idx: 60, loss: 0.31410981510619906\n",
      "epoch: 1, idx: 60, accuracy: 0.8892666666666666, loss: 0.0\n",
      "epoch: 1, idx: 70, loss: 0.25362671952433674\n",
      "epoch: 1, idx: 70, accuracy: 0.90435, loss: 0.0\n",
      "epoch: 1, idx: 80, loss: 0.2323650339021249\n",
      "epoch: 1, idx: 80, accuracy: 0.9241, loss: 0.0\n",
      "epoch: 1, idx: 90, loss: 0.21168667754711273\n",
      "epoch: 1, idx: 90, accuracy: 0.8597666666666667, loss: 0.0\n",
      "epoch: 1, idx: 100, loss: 0.20434788211758725\n"
     ]
    },
    {
     "ename": "KeyboardInterrupt",
     "evalue": "",
     "output_type": "error",
     "traceback": [
      "\u001B[0;31m---------------------------------------------------------------------------\u001B[0m",
      "\u001B[0;31mKeyboardInterrupt\u001B[0m                         Traceback (most recent call last)",
      "Cell \u001B[0;32mIn[5], line 24\u001B[0m\n\u001B[1;32m     21\u001B[0m tot_sample \u001B[38;5;241m=\u001B[39m \u001B[38;5;241m0\u001B[39m\n\u001B[1;32m     22\u001B[0m \u001B[38;5;28;01mfor\u001B[39;00m train_acc_idx, (train_acc_data_batch, train_acc_label_batch) \u001B[38;5;129;01min\u001B[39;00m \u001B[38;5;28menumerate\u001B[39m(\u001B[38;5;28mzip\u001B[39m(train_data, train_label)):\n\u001B[1;32m     23\u001B[0m     \u001B[38;5;66;03m# train accuracy\u001B[39;00m\n\u001B[0;32m---> 24\u001B[0m     preds \u001B[38;5;241m=\u001B[39m \u001B[43mmodel\u001B[49m\u001B[38;5;241;43m.\u001B[39;49m\u001B[43mforward\u001B[49m\u001B[43m(\u001B[49m\u001B[43mtrain_acc_data_batch\u001B[49m\u001B[43m)\u001B[49m\n\u001B[1;32m     26\u001B[0m     pred_args \u001B[38;5;241m=\u001B[39m np\u001B[38;5;241m.\u001B[39margmax(preds, axis\u001B[38;5;241m=\u001B[39m\u001B[38;5;241m1\u001B[39m)\n\u001B[1;32m     27\u001B[0m     train_label_args \u001B[38;5;241m=\u001B[39m np\u001B[38;5;241m.\u001B[39margmax(train_acc_label_batch, axis\u001B[38;5;241m=\u001B[39m\u001B[38;5;241m1\u001B[39m)\n",
      "File \u001B[0;32m~/Desktop/umityigitbsrn/research/repos/finite-field-nn/nets/real_net/networks.py:141\u001B[0m, in \u001B[0;36mRealLeNetReLU.forward\u001B[0;34m(self, input_data)\u001B[0m\n\u001B[1;32m    139\u001B[0m curr_data \u001B[38;5;241m=\u001B[39m \u001B[38;5;28mself\u001B[39m\u001B[38;5;241m.\u001B[39m_input_data\n\u001B[1;32m    140\u001B[0m \u001B[38;5;28;01mfor\u001B[39;00m layer \u001B[38;5;129;01min\u001B[39;00m \u001B[38;5;28mself\u001B[39m\u001B[38;5;241m.\u001B[39m__model:\n\u001B[0;32m--> 141\u001B[0m     curr_data \u001B[38;5;241m=\u001B[39m \u001B[43mlayer\u001B[49m\u001B[38;5;241;43m.\u001B[39;49m\u001B[43mforward\u001B[49m\u001B[43m(\u001B[49m\u001B[43mcurr_data\u001B[49m\u001B[43m)\u001B[49m\n\u001B[1;32m    142\u001B[0m \u001B[38;5;28;01mreturn\u001B[39;00m curr_data\n",
      "\u001B[0;31mKeyboardInterrupt\u001B[0m: "
     ]
    }
   ],
   "source": [
    "for epoch in range(EPOCH):\n",
    "    tot_loss = 0\n",
    "    for train_idx, (train_data_batch, train_label_batch) in enumerate(zip(train_data, train_label)):\n",
    "        # train\n",
    "        preds = model.forward(train_data_batch)\n",
    "\n",
    "        tot_loss += criterion.forward(preds, train_label_batch)\n",
    "        propagated_error = criterion.error_derivative()\n",
    "\n",
    "        model.backprop(propagated_error)\n",
    "        model.optimize(LR)\n",
    "\n",
    "        if train_idx == 0 or (train_idx + 1) % PRINT == 0:\n",
    "            if train_idx != 0:\n",
    "                tot_loss = tot_loss / PRINT\n",
    "            print('epoch: {}, idx: {}, loss: {}'.format(epoch + 1, train_idx + 1, tot_loss))\n",
    "            tot_loss = 0\n",
    "\n",
    "        if train_idx == 0 or (train_idx + 1) % PRINT == 0:\n",
    "            tot_acc = 0\n",
    "            tot_sample = 0\n",
    "            for train_acc_idx, (train_acc_data_batch, train_acc_label_batch) in enumerate(zip(train_data, train_label)):\n",
    "                # train accuracy\n",
    "                preds = model.forward(train_acc_data_batch)\n",
    "\n",
    "                pred_args = np.argmax(preds, axis=1)\n",
    "                train_label_args = np.argmax(train_acc_label_batch, axis=1)\n",
    "                tot_acc += np.count_nonzero(pred_args == train_label_args)\n",
    "                tot_sample += train_acc_data_batch.shape[0]\n",
    "            accuracy = tot_acc / tot_sample\n",
    "            if train_idx != 0:\n",
    "                tot_loss = tot_loss / PRINT\n",
    "            print('epoch: {}, idx: {}, accuracy: {}, loss: {}'.format(epoch + 1, train_idx + 1, accuracy, tot_loss))\n",
    "            tot_loss = 0"
   ],
   "metadata": {
    "collapsed": false,
    "ExecuteTime": {
     "end_time": "2023-06-19T05:20:40.033016332Z",
     "start_time": "2023-06-19T05:15:35.846795829Z"
    }
   }
  }
 ],
 "metadata": {
  "kernelspec": {
   "display_name": "Python 3",
   "language": "python",
   "name": "python3"
  },
  "language_info": {
   "codemirror_mode": {
    "name": "ipython",
    "version": 2
   },
   "file_extension": ".py",
   "mimetype": "text/x-python",
   "name": "python",
   "nbconvert_exporter": "python",
   "pygments_lexer": "ipython2",
   "version": "2.7.6"
  }
 },
 "nbformat": 4,
 "nbformat_minor": 0
}
