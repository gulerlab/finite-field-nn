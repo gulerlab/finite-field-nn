{
 "cells": [
  {
   "cell_type": "code",
   "execution_count": 16,
   "metadata": {
    "collapsed": true,
    "ExecuteTime": {
     "end_time": "2023-06-22T04:02:03.067770160Z",
     "start_time": "2023-06-22T04:02:03.024771813Z"
    }
   },
   "outputs": [
    {
     "ename": "ImportError",
     "evalue": "cannot import name 'RealPiNetNetworkDebug' from 'networks' (/home/umityigitbsrn/Desktop/umityigitbsrn/research/repos/finite-field-nn/nets/real_net/networks.py)",
     "output_type": "error",
     "traceback": [
      "\u001B[0;31m---------------------------------------------------------------------------\u001B[0m",
      "\u001B[0;31mImportError\u001B[0m                               Traceback (most recent call last)",
      "Cell \u001B[0;32mIn[16], line 3\u001B[0m\n\u001B[1;32m      1\u001B[0m \u001B[38;5;28;01mimport\u001B[39;00m \u001B[38;5;21;01mnumpy\u001B[39;00m \u001B[38;5;28;01mas\u001B[39;00m \u001B[38;5;21;01mnp\u001B[39;00m\n\u001B[0;32m----> 3\u001B[0m \u001B[38;5;28;01mfrom\u001B[39;00m \u001B[38;5;21;01mnetworks\u001B[39;00m \u001B[38;5;28;01mimport\u001B[39;00m RealNetworkLinearTest, RealNetworkLinearTest_v2, RealLeNet, RealLeNetReLU, RealPiNetNetworkLinear, RealPiNetNetworkLeNet, RealPiNetNetworkLeNetCIFAR10, RealPiNetNetworkDebug\n\u001B[1;32m      4\u001B[0m \u001B[38;5;28;01mfrom\u001B[39;00m \u001B[38;5;21;01mcriterions\u001B[39;00m \u001B[38;5;28;01mimport\u001B[39;00m RealMSELoss\n\u001B[1;32m      5\u001B[0m \u001B[38;5;28;01mfrom\u001B[39;00m \u001B[38;5;21;01mdatasets\u001B[39;00m \u001B[38;5;28;01mimport\u001B[39;00m load_all_data_mnist, load_all_data_cifar10\n",
      "\u001B[0;31mImportError\u001B[0m: cannot import name 'RealPiNetNetworkDebug' from 'networks' (/home/umityigitbsrn/Desktop/umityigitbsrn/research/repos/finite-field-nn/nets/real_net/networks.py)"
     ]
    }
   ],
   "source": [
    "import numpy as np\n",
    "\n",
    "from networks import RealNetworkLinearTest, RealNetworkLinearTest_v2, RealLeNet, RealLeNetReLU, RealPiNetNetworkLinear, RealPiNetNetworkLeNet, RealPiNetNetworkLeNetCIFAR10, RealPiNetNetworkDebug\n",
    "from criterions import RealMSELoss\n",
    "from datasets import load_all_data_mnist, load_all_data_cifar10\n",
    "from utils import create_batch_data"
   ]
  },
  {
   "cell_type": "code",
   "execution_count": 12,
   "outputs": [],
   "source": [
    "BATCH_SIZE = 64\n",
    "EPOCH = 1\n",
    "LR = 0.01\n",
    "PRINT = 10\n",
    "MODE = 6"
   ],
   "metadata": {
    "collapsed": false,
    "ExecuteTime": {
     "end_time": "2023-06-21T08:46:59.172283621Z",
     "start_time": "2023-06-21T08:46:59.169316718Z"
    }
   }
  },
  {
   "cell_type": "code",
   "execution_count": 13,
   "outputs": [],
   "source": [
    "if MODE == 1:\n",
    "    model = RealNetworkLinearTest()\n",
    "    flatten = True\n",
    "elif MODE == 2:\n",
    "    model = RealNetworkLinearTest_v2()\n",
    "    flatten = True\n",
    "elif MODE == 3:\n",
    "    model = RealLeNet()\n",
    "    flatten = False\n",
    "elif MODE == 4:\n",
    "    model = RealLeNetReLU()\n",
    "    flatten = False\n",
    "elif MODE == 5:\n",
    "    model = RealPiNetNetworkLinear()\n",
    "    flatten = True\n",
    "elif MODE == 6:\n",
    "    model = RealPiNetNetworkLeNet()\n",
    "    flatten = False\n",
    "elif MODE == 7:\n",
    "    model = RealPiNetNetworkDebug()\n",
    "    flatten = False\n",
    "else:\n",
    "    model = None\n",
    "    flatten = True\n",
    "criterion = RealMSELoss()"
   ],
   "metadata": {
    "collapsed": false,
    "ExecuteTime": {
     "end_time": "2023-06-21T08:47:00.013889138Z",
     "start_time": "2023-06-21T08:47:00.002691244Z"
    }
   }
  },
  {
   "cell_type": "code",
   "execution_count": 14,
   "outputs": [],
   "source": [
    "# data fetching\n",
    "load_path = '../../data'\n",
    "train_data, train_label, test_data, test_label = load_all_data_mnist(load_path, flatten=flatten)\n",
    "train_data, train_label, test_data, test_label = create_batch_data(train_data, train_label, test_data, test_label, BATCH_SIZE)"
   ],
   "metadata": {
    "collapsed": false,
    "ExecuteTime": {
     "end_time": "2023-06-21T08:47:04.463203587Z",
     "start_time": "2023-06-21T08:47:00.828087851Z"
    }
   }
  },
  {
   "cell_type": "code",
   "execution_count": 15,
   "outputs": [
    {
     "name": "stdout",
     "output_type": "stream",
     "text": [
      "epoch: 1, idx: 1, accuracy: 0.2429, loss: 1.0891128837154198\n",
      "epoch: 1, idx: 10, accuracy: 0.7604, loss: 0.6324331498107776\n",
      "epoch: 1, idx: 20, accuracy: 0.8435, loss: 0.4854862333238336\n",
      "epoch: 1, idx: 30, accuracy: 0.8804, loss: 0.41727301364142216\n",
      "epoch: 1, idx: 40, accuracy: 0.908, loss: 0.35552646899014545\n",
      "epoch: 1, idx: 50, accuracy: 0.915, loss: 0.33230754945229085\n",
      "epoch: 1, idx: 60, accuracy: 0.9246, loss: 0.30858667849478355\n",
      "epoch: 1, idx: 70, accuracy: 0.9304, loss: 0.2818917373758626\n",
      "epoch: 1, idx: 80, accuracy: 0.9368, loss: 0.2642212172477299\n",
      "epoch: 1, idx: 90, accuracy: 0.9415, loss: 0.24938084026763035\n",
      "epoch: 1, idx: 100, accuracy: 0.9435, loss: 0.2380215043369504\n",
      "epoch: 1, idx: 110, accuracy: 0.9479, loss: 0.22944889341676342\n",
      "epoch: 1, idx: 120, accuracy: 0.9488, loss: 0.2190513192684315\n",
      "epoch: 1, idx: 130, accuracy: 0.952, loss: 0.2128772893368116\n",
      "epoch: 1, idx: 140, accuracy: 0.9502, loss: 0.21057443221670374\n",
      "epoch: 1, idx: 150, accuracy: 0.9555, loss: 0.19710106650382755\n",
      "epoch: 1, idx: 160, accuracy: 0.955, loss: 0.19671595443514425\n",
      "epoch: 1, idx: 170, accuracy: 0.9599, loss: 0.18921239868643877\n",
      "epoch: 1, idx: 180, accuracy: 0.9566, loss: 0.17488575194043404\n",
      "epoch: 1, idx: 190, accuracy: 0.9619, loss: 0.17045611790582144\n",
      "epoch: 1, idx: 200, accuracy: 0.9636, loss: 0.16381381651081237\n",
      "epoch: 1, idx: 210, accuracy: 0.963, loss: 0.1686924636939454\n",
      "epoch: 1, idx: 220, accuracy: 0.9636, loss: 0.16489965680987148\n",
      "epoch: 1, idx: 230, accuracy: 0.9647, loss: 0.16123778849330653\n"
     ]
    }
   ],
   "source": [
    "for epoch in range(EPOCH):\n",
    "    tot_loss = 0\n",
    "    for train_idx, (train_data_batch, train_label_batch) in enumerate(zip(train_data, train_label)):\n",
    "        # train\n",
    "        preds = model.forward(train_data_batch)\n",
    "\n",
    "        tot_loss += criterion.forward(preds, train_label_batch)\n",
    "        propagated_error = criterion.error_derivative()\n",
    "\n",
    "        model.backprop(propagated_error)\n",
    "        model.optimize(LR)\n",
    "\n",
    "        if train_idx == 0 or (train_idx + 1) % PRINT == 0:\n",
    "            tot_acc = 0\n",
    "            tot_sample = 0\n",
    "            for train_acc_idx, (test_data_batch, test_label_batch) in enumerate(zip(test_data, test_label)):\n",
    "                # train accuracy\n",
    "                preds = model.forward(test_data_batch)\n",
    "                pred_args = np.argmax(preds, axis=1)\n",
    "\n",
    "                tot_acc += np.count_nonzero(pred_args == test_label_batch)\n",
    "                tot_sample += test_data_batch.shape[0]\n",
    "            accuracy = tot_acc / tot_sample\n",
    "            if train_idx != 0:\n",
    "                tot_loss = tot_loss / PRINT\n",
    "            print('epoch: {}, idx: {}, accuracy: {}, loss: {}'.format(epoch + 1, train_idx + 1, accuracy, tot_loss))\n",
    "            tot_loss = 0"
   ],
   "metadata": {
    "collapsed": false,
    "ExecuteTime": {
     "end_time": "2023-06-21T08:59:23.827651351Z",
     "start_time": "2023-06-21T08:47:04.465102666Z"
    }
   }
  }
 ],
 "metadata": {
  "kernelspec": {
   "display_name": "Python 3",
   "language": "python",
   "name": "python3"
  },
  "language_info": {
   "codemirror_mode": {
    "name": "ipython",
    "version": 2
   },
   "file_extension": ".py",
   "mimetype": "text/x-python",
   "name": "python",
   "nbconvert_exporter": "python",
   "pygments_lexer": "ipython2",
   "version": "2.7.6"
  }
 },
 "nbformat": 4,
 "nbformat_minor": 0
}
