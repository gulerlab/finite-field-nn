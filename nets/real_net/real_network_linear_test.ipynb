{
 "cells": [
  {
   "cell_type": "code",
   "execution_count": 1,
   "metadata": {
    "collapsed": true,
    "ExecuteTime": {
     "end_time": "2023-06-20T08:25:58.556228932Z",
     "start_time": "2023-06-20T08:25:57.895319961Z"
    }
   },
   "outputs": [],
   "source": [
    "import numpy as np\n",
    "\n",
    "from networks import RealNetworkLinearTest, RealNetworkLinearTest_v2, RealLeNet, RealLeNetReLU, RealPiNetNetworkLinear, RealPiNetNetworkLeNet\n",
    "from criterions import RealMSELoss\n",
    "from datasets import real_load_all_data_mnist\n",
    "from utils import create_batch_data"
   ]
  },
  {
   "cell_type": "code",
   "execution_count": 2,
   "outputs": [],
   "source": [
    "BATCH_SIZE = 128\n",
    "EPOCH = 1\n",
    "LR = 1 / 128\n",
    "PRINT = 10\n",
    "MODE = 5"
   ],
   "metadata": {
    "collapsed": false,
    "ExecuteTime": {
     "end_time": "2023-06-20T08:25:59.999215167Z",
     "start_time": "2023-06-20T08:25:59.998004527Z"
    }
   }
  },
  {
   "cell_type": "code",
   "execution_count": 5,
   "outputs": [],
   "source": [
    "if MODE == 1:\n",
    "    model = RealNetworkLinearTest()\n",
    "    flatten = True\n",
    "elif MODE == 2:\n",
    "    model = RealNetworkLinearTest_v2()\n",
    "    flatten = True\n",
    "elif MODE == 3:\n",
    "    model = RealLeNet()\n",
    "    flatten = False\n",
    "elif MODE == 4:\n",
    "    model = RealLeNetReLU()\n",
    "    flatten = False\n",
    "elif MODE == 5:\n",
    "    model = RealPiNetNetworkLinear()\n",
    "    flatten = True\n",
    "elif MODE == 6:\n",
    "    model = RealPiNetNetworkLeNet()\n",
    "    flatten = False\n",
    "else:\n",
    "    model = None\n",
    "    flatten = True\n",
    "criterion = RealMSELoss()"
   ],
   "metadata": {
    "collapsed": false,
    "ExecuteTime": {
     "end_time": "2023-06-20T08:26:20.993084699Z",
     "start_time": "2023-06-20T08:26:20.991263732Z"
    }
   }
  },
  {
   "cell_type": "code",
   "execution_count": 6,
   "outputs": [],
   "source": [
    "# data fetching\n",
    "load_path = '../../data'\n",
    "train_data, train_label, test_data, test_label = real_load_all_data_mnist(load_path, flatten=flatten)\n",
    "train_data, train_label, test_data, test_label = create_batch_data(train_data, train_label, test_data, test_label, BATCH_SIZE)"
   ],
   "metadata": {
    "collapsed": false,
    "ExecuteTime": {
     "end_time": "2023-06-20T08:26:25.380068256Z",
     "start_time": "2023-06-20T08:26:21.788625455Z"
    }
   }
  },
  {
   "cell_type": "code",
   "execution_count": 7,
   "outputs": [
    {
     "name": "stdout",
     "output_type": "stream",
     "text": [
      "epoch: 1, idx: 1, accuracy: 0.1294, loss: 2.524780791066219\n",
      "epoch: 1, idx: 10, accuracy: 0.5952, loss: 1.2983184804173575\n",
      "epoch: 1, idx: 20, accuracy: 0.7051, loss: 0.7358222856380523\n",
      "epoch: 1, idx: 30, accuracy: 0.754, loss: 0.6131821396954337\n",
      "epoch: 1, idx: 40, accuracy: 0.7823, loss: 0.5680857639890454\n",
      "epoch: 1, idx: 50, accuracy: 0.8053, loss: 0.5407231798260134\n",
      "epoch: 1, idx: 60, accuracy: 0.8317, loss: 0.4927832411795273\n",
      "epoch: 1, idx: 70, accuracy: 0.8449, loss: 0.47530954265152736\n",
      "epoch: 1, idx: 80, accuracy: 0.8546, loss: 0.45881944101233935\n",
      "epoch: 1, idx: 90, accuracy: 0.8611, loss: 0.4384766697553273\n",
      "epoch: 1, idx: 100, accuracy: 0.8646, loss: 0.41628065000002223\n",
      "epoch: 1, idx: 110, accuracy: 0.8755, loss: 0.4060414352600186\n",
      "epoch: 1, idx: 120, accuracy: 0.876, loss: 0.40464670578665984\n",
      "epoch: 1, idx: 130, accuracy: 0.8801, loss: 0.3878516621225053\n",
      "epoch: 1, idx: 140, accuracy: 0.8864, loss: 0.3829524269691756\n",
      "epoch: 1, idx: 150, accuracy: 0.8869, loss: 0.3699757159183495\n",
      "epoch: 1, idx: 160, accuracy: 0.8907, loss: 0.36549130459678325\n",
      "epoch: 1, idx: 170, accuracy: 0.8938, loss: 0.3538382837198961\n",
      "epoch: 1, idx: 180, accuracy: 0.8945, loss: 0.34528707882074566\n",
      "epoch: 1, idx: 190, accuracy: 0.8959, loss: 0.338934821336343\n",
      "epoch: 1, idx: 200, accuracy: 0.9002, loss: 0.3408615151822957\n",
      "epoch: 1, idx: 210, accuracy: 0.8994, loss: 0.32103007057488286\n",
      "epoch: 1, idx: 220, accuracy: 0.9031, loss: 0.33422539525139994\n",
      "epoch: 1, idx: 230, accuracy: 0.9056, loss: 0.3201930703233796\n",
      "epoch: 1, idx: 240, accuracy: 0.9072, loss: 0.3164620309212634\n",
      "epoch: 1, idx: 250, accuracy: 0.9078, loss: 0.31231519907097904\n",
      "epoch: 1, idx: 260, accuracy: 0.9099, loss: 0.31605939989326115\n",
      "epoch: 1, idx: 270, accuracy: 0.9115, loss: 0.31580787571531843\n",
      "epoch: 1, idx: 280, accuracy: 0.9121, loss: 0.3202194974343078\n",
      "epoch: 1, idx: 290, accuracy: 0.9135, loss: 0.31026650882702833\n",
      "epoch: 1, idx: 300, accuracy: 0.9137, loss: 0.31051738218528036\n",
      "epoch: 1, idx: 310, accuracy: 0.9162, loss: 0.30457995182606923\n",
      "epoch: 1, idx: 320, accuracy: 0.9168, loss: 0.3083531798336964\n",
      "epoch: 1, idx: 330, accuracy: 0.9187, loss: 0.29902026425771183\n",
      "epoch: 1, idx: 340, accuracy: 0.9189, loss: 0.28933759201778314\n",
      "epoch: 1, idx: 350, accuracy: 0.92, loss: 0.2978108650059351\n",
      "epoch: 1, idx: 360, accuracy: 0.922, loss: 0.3018761972074472\n",
      "epoch: 1, idx: 370, accuracy: 0.9221, loss: 0.2894091603486496\n",
      "epoch: 1, idx: 380, accuracy: 0.9228, loss: 0.2850672253328513\n",
      "epoch: 1, idx: 390, accuracy: 0.9238, loss: 0.2871595553983709\n",
      "epoch: 1, idx: 400, accuracy: 0.9242, loss: 0.26722046537403865\n",
      "epoch: 1, idx: 410, accuracy: 0.9252, loss: 0.2727520446454462\n",
      "epoch: 1, idx: 420, accuracy: 0.9247, loss: 0.27229310920590566\n",
      "epoch: 1, idx: 430, accuracy: 0.9255, loss: 0.2743966614796066\n",
      "epoch: 1, idx: 440, accuracy: 0.9268, loss: 0.27585806021664777\n",
      "epoch: 1, idx: 450, accuracy: 0.9263, loss: 0.26915192627515744\n",
      "epoch: 1, idx: 460, accuracy: 0.9284, loss: 0.2763179800142573\n"
     ]
    }
   ],
   "source": [
    "for epoch in range(EPOCH):\n",
    "    tot_loss = 0\n",
    "    for train_idx, (train_data_batch, train_label_batch) in enumerate(zip(train_data, train_label)):\n",
    "        # train\n",
    "        preds = model.forward(train_data_batch)\n",
    "\n",
    "        tot_loss += criterion.forward(preds, train_label_batch)\n",
    "        propagated_error = criterion.error_derivative()\n",
    "\n",
    "        model.backprop(propagated_error)\n",
    "        model.optimize(LR)\n",
    "\n",
    "        if train_idx == 0 or (train_idx + 1) % PRINT == 0:\n",
    "            tot_acc = 0\n",
    "            tot_sample = 0\n",
    "            for train_acc_idx, (test_data_batch, test_label_batch) in enumerate(zip(test_data, test_label)):\n",
    "                # train accuracy\n",
    "                preds = model.forward(test_data_batch)\n",
    "                pred_args = np.argmax(preds, axis=1)\n",
    "\n",
    "                tot_acc += np.count_nonzero(pred_args == test_label_batch)\n",
    "                tot_sample += test_data_batch.shape[0]\n",
    "            accuracy = tot_acc / tot_sample\n",
    "            if train_idx != 0:\n",
    "                tot_loss = tot_loss / PRINT\n",
    "            print('epoch: {}, idx: {}, accuracy: {}, loss: {}'.format(epoch + 1, train_idx + 1, accuracy, tot_loss))\n",
    "            tot_loss = 0"
   ],
   "metadata": {
    "collapsed": false,
    "ExecuteTime": {
     "end_time": "2023-06-20T08:26:27.550636398Z",
     "start_time": "2023-06-20T08:26:25.381849314Z"
    }
   }
  }
 ],
 "metadata": {
  "kernelspec": {
   "display_name": "Python 3",
   "language": "python",
   "name": "python3"
  },
  "language_info": {
   "codemirror_mode": {
    "name": "ipython",
    "version": 2
   },
   "file_extension": ".py",
   "mimetype": "text/x-python",
   "name": "python",
   "nbconvert_exporter": "python",
   "pygments_lexer": "ipython2",
   "version": "2.7.6"
  }
 },
 "nbformat": 4,
 "nbformat_minor": 0
}
