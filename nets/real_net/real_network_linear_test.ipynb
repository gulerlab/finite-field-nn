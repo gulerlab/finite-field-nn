{
 "cells": [
  {
   "cell_type": "code",
   "execution_count": 11,
   "metadata": {
    "collapsed": true,
    "ExecuteTime": {
     "end_time": "2023-06-21T08:46:58.287586269Z",
     "start_time": "2023-06-21T08:46:58.245158066Z"
    }
   },
   "outputs": [],
   "source": [
    "import numpy as np\n",
    "\n",
    "from networks import RealNetworkLinearTest, RealNetworkLinearTest_v2, RealLeNet, RealLeNetReLU, RealPiNetNetworkLinear, RealPiNetNetworkLeNet, RealPiNetNetworkLeNetCIFAR10\n",
    "from criterions import RealMSELoss\n",
    "from datasets import load_all_data_mnist, load_all_data_cifar10\n",
    "from utils import create_batch_data"
   ]
  },
  {
   "cell_type": "code",
   "execution_count": 12,
   "outputs": [],
   "source": [
    "BATCH_SIZE = 256\n",
    "EPOCH = 1\n",
    "LR = 0.01\n",
    "PRINT = 10\n",
    "MODE = 6"
   ],
   "metadata": {
    "collapsed": false,
    "ExecuteTime": {
     "end_time": "2023-06-21T08:46:59.172283621Z",
     "start_time": "2023-06-21T08:46:59.169316718Z"
    }
   }
  },
  {
   "cell_type": "code",
   "execution_count": 13,
   "outputs": [],
   "source": [
    "if MODE == 1:\n",
    "    model = RealNetworkLinearTest()\n",
    "    flatten = True\n",
    "elif MODE == 2:\n",
    "    model = RealNetworkLinearTest_v2()\n",
    "    flatten = True\n",
    "elif MODE == 3:\n",
    "    model = RealLeNet()\n",
    "    flatten = False\n",
    "elif MODE == 4:\n",
    "    model = RealLeNetReLU()\n",
    "    flatten = False\n",
    "elif MODE == 5:\n",
    "    model = RealPiNetNetworkLinear()\n",
    "    flatten = True\n",
    "elif MODE == 6:\n",
    "    model = RealPiNetNetworkLeNet()\n",
    "    flatten = False\n",
    "elif MODE == 7:\n",
    "    model = RealPiNetNetworkLeNetCIFAR10()\n",
    "    flatten = False\n",
    "else:\n",
    "    model = None\n",
    "    flatten = True\n",
    "criterion = RealMSELoss()"
   ],
   "metadata": {
    "collapsed": false,
    "ExecuteTime": {
     "end_time": "2023-06-21T08:47:00.013889138Z",
     "start_time": "2023-06-21T08:47:00.002691244Z"
    }
   }
  },
  {
   "cell_type": "code",
   "execution_count": 14,
   "outputs": [],
   "source": [
    "# data fetching\n",
    "load_path = '../../data'\n",
    "train_data, train_label, test_data, test_label = load_all_data_mnist(load_path, flatten=flatten)\n",
    "train_data, train_label, test_data, test_label = create_batch_data(train_data, train_label, test_data, test_label, BATCH_SIZE)"
   ],
   "metadata": {
    "collapsed": false,
    "ExecuteTime": {
     "end_time": "2023-06-21T08:47:04.463203587Z",
     "start_time": "2023-06-21T08:47:00.828087851Z"
    }
   }
  },
  {
   "cell_type": "code",
   "execution_count": null,
   "outputs": [
    {
     "name": "stdout",
     "output_type": "stream",
     "text": [
      "epoch: 1, idx: 1, accuracy: 0.2429, loss: 1.0891128837154198\n",
      "epoch: 1, idx: 10, accuracy: 0.7604, loss: 0.6324331498107776\n",
      "epoch: 1, idx: 20, accuracy: 0.8435, loss: 0.4854862333238336\n",
      "epoch: 1, idx: 30, accuracy: 0.8804, loss: 0.41727301364142216\n",
      "epoch: 1, idx: 40, accuracy: 0.908, loss: 0.35552646899014545\n",
      "epoch: 1, idx: 50, accuracy: 0.915, loss: 0.33230754945229085\n",
      "epoch: 1, idx: 60, accuracy: 0.9246, loss: 0.30858667849478355\n",
      "epoch: 1, idx: 70, accuracy: 0.9304, loss: 0.2818917373758626\n",
      "epoch: 1, idx: 80, accuracy: 0.9368, loss: 0.2642212172477299\n",
      "epoch: 1, idx: 90, accuracy: 0.9415, loss: 0.24938084026763035\n",
      "epoch: 1, idx: 100, accuracy: 0.9435, loss: 0.2380215043369504\n",
      "epoch: 1, idx: 110, accuracy: 0.9479, loss: 0.22944889341676342\n",
      "epoch: 1, idx: 120, accuracy: 0.9488, loss: 0.2190513192684315\n"
     ]
    }
   ],
   "source": [
    "for epoch in range(EPOCH):\n",
    "    tot_loss = 0\n",
    "    for train_idx, (train_data_batch, train_label_batch) in enumerate(zip(train_data, train_label)):\n",
    "        # train\n",
    "        preds = model.forward(train_data_batch)\n",
    "\n",
    "        tot_loss += criterion.forward(preds, train_label_batch)\n",
    "        propagated_error = criterion.error_derivative()\n",
    "\n",
    "        model.backprop(propagated_error)\n",
    "        model.optimize(LR)\n",
    "\n",
    "        if train_idx == 0 or (train_idx + 1) % PRINT == 0:\n",
    "            tot_acc = 0\n",
    "            tot_sample = 0\n",
    "            for train_acc_idx, (test_data_batch, test_label_batch) in enumerate(zip(test_data, test_label)):\n",
    "                # train accuracy\n",
    "                preds = model.forward(test_data_batch)\n",
    "                pred_args = np.argmax(preds, axis=1)\n",
    "\n",
    "                tot_acc += np.count_nonzero(pred_args == test_label_batch)\n",
    "                tot_sample += test_data_batch.shape[0]\n",
    "            accuracy = tot_acc / tot_sample\n",
    "            if train_idx != 0:\n",
    "                tot_loss = tot_loss / PRINT\n",
    "            print('epoch: {}, idx: {}, accuracy: {}, loss: {}'.format(epoch + 1, train_idx + 1, accuracy, tot_loss))\n",
    "            tot_loss = 0"
   ],
   "metadata": {
    "collapsed": false,
    "is_executing": true,
    "ExecuteTime": {
     "start_time": "2023-06-21T08:47:04.465102666Z"
    }
   }
  }
 ],
 "metadata": {
  "kernelspec": {
   "display_name": "Python 3",
   "language": "python",
   "name": "python3"
  },
  "language_info": {
   "codemirror_mode": {
    "name": "ipython",
    "version": 2
   },
   "file_extension": ".py",
   "mimetype": "text/x-python",
   "name": "python",
   "nbconvert_exporter": "python",
   "pygments_lexer": "ipython2",
   "version": "2.7.6"
  }
 },
 "nbformat": 4,
 "nbformat_minor": 0
}
