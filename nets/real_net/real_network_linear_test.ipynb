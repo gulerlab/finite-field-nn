{
 "cells": [
  {
   "cell_type": "code",
   "execution_count": 1,
   "metadata": {
    "collapsed": true,
    "ExecuteTime": {
     "end_time": "2023-06-20T05:46:26.490374964Z",
     "start_time": "2023-06-20T05:46:25.831312239Z"
    }
   },
   "outputs": [],
   "source": [
    "import numpy as np\n",
    "\n",
    "from networks import RealNetworkLinearTest, RealNetworkLinearTest_v2, RealLeNet, RealLeNetReLU, RealPiNetNetworkLinear, RealPiNetNetworkLeNet\n",
    "from criterions import RealMSELoss\n",
    "from datasets import real_load_all_data_mnist, create_batch_data"
   ]
  },
  {
   "cell_type": "code",
   "execution_count": 11,
   "outputs": [],
   "source": [
    "BATCH_SIZE = 128\n",
    "EPOCH = 1\n",
    "LR = 0.01\n",
    "PRINT = 10\n",
    "MODE = 6"
   ],
   "metadata": {
    "collapsed": false,
    "ExecuteTime": {
     "end_time": "2023-06-20T05:50:38.204824612Z",
     "start_time": "2023-06-20T05:50:38.203539118Z"
    }
   }
  },
  {
   "cell_type": "code",
   "execution_count": 12,
   "outputs": [],
   "source": [
    "if MODE == 1:\n",
    "    model = RealNetworkLinearTest()\n",
    "    flatten = True\n",
    "elif MODE == 2:\n",
    "    model = RealNetworkLinearTest_v2()\n",
    "    flatten = True\n",
    "elif MODE == 3:\n",
    "    model = RealLeNet()\n",
    "    flatten = False\n",
    "elif MODE == 4:\n",
    "    model = RealLeNetReLU()\n",
    "    flatten = False\n",
    "elif MODE == 5:\n",
    "    model = RealPiNetNetworkLinear()\n",
    "    flatten = True\n",
    "elif MODE == 6:\n",
    "    model = RealPiNetNetworkLeNet()\n",
    "    flatten = False\n",
    "else:\n",
    "    model = None\n",
    "    flatten = True\n",
    "criterion = RealMSELoss()"
   ],
   "metadata": {
    "collapsed": false,
    "ExecuteTime": {
     "end_time": "2023-06-20T05:50:41.212242268Z",
     "start_time": "2023-06-20T05:50:41.196627924Z"
    }
   }
  },
  {
   "cell_type": "code",
   "execution_count": 9,
   "outputs": [],
   "source": [
    "# data fetching\n",
    "load_path = '../../data'\n",
    "train_data, train_label, test_data, test_label = real_load_all_data_mnist(load_path, flatten=flatten)\n",
    "train_data, train_label, test_data, test_label = create_batch_data(train_data, train_label, test_data, test_label, BATCH_SIZE)"
   ],
   "metadata": {
    "collapsed": false,
    "ExecuteTime": {
     "end_time": "2023-06-20T05:47:05.566442306Z",
     "start_time": "2023-06-20T05:47:01.943159243Z"
    }
   }
  },
  {
   "cell_type": "code",
   "execution_count": null,
   "outputs": [
    {
     "name": "stdout",
     "output_type": "stream",
     "text": [
      "epoch: 1, idx: 1, accuracy: 0.27895, loss: 1.0756082231869442\n",
      "epoch: 1, idx: 10, accuracy: 0.7708666666666667, loss: 0.6359425510179623\n",
      "epoch: 1, idx: 20, accuracy: 0.8378166666666667, loss: 0.49007911808193716\n",
      "epoch: 1, idx: 30, accuracy: 0.87315, loss: 0.40643319607584427\n",
      "epoch: 1, idx: 40, accuracy: 0.89865, loss: 0.35125432327197254\n",
      "epoch: 1, idx: 50, accuracy: 0.9126166666666666, loss: 0.314536116918232\n",
      "epoch: 1, idx: 60, accuracy: 0.9164, loss: 0.29606582703820894\n",
      "epoch: 1, idx: 70, accuracy: 0.9256833333333333, loss: 0.27759765413435594\n",
      "epoch: 1, idx: 80, accuracy: 0.9301833333333334, loss: 0.2582339179408501\n",
      "epoch: 1, idx: 90, accuracy: 0.9351833333333334, loss: 0.2479239948564104\n",
      "epoch: 1, idx: 100, accuracy: 0.9362333333333334, loss: 0.25031898354038923\n",
      "epoch: 1, idx: 110, accuracy: 0.9406833333333333, loss: 0.23313255773219269\n",
      "epoch: 1, idx: 120, accuracy: 0.9455833333333333, loss: 0.21781892880017334\n",
      "epoch: 1, idx: 130, accuracy: 0.94605, loss: 0.2203582229425915\n",
      "epoch: 1, idx: 140, accuracy: 0.9487, loss: 0.20891842521486653\n",
      "epoch: 1, idx: 150, accuracy: 0.9517666666666666, loss: 0.21247273399867916\n",
      "epoch: 1, idx: 160, accuracy: 0.9539833333333333, loss: 0.2010748709731866\n",
      "epoch: 1, idx: 170, accuracy: 0.9554, loss: 0.1863818052808185\n",
      "epoch: 1, idx: 180, accuracy: 0.9557833333333333, loss: 0.1785022041629873\n",
      "epoch: 1, idx: 190, accuracy: 0.9581833333333334, loss: 0.18481475358731622\n",
      "epoch: 1, idx: 200, accuracy: 0.9591333333333333, loss: 0.1791123629975036\n",
      "epoch: 1, idx: 210, accuracy: 0.9596833333333333, loss: 0.17442835367761728\n",
      "epoch: 1, idx: 220, accuracy: 0.96025, loss: 0.1663230141553075\n",
      "epoch: 1, idx: 230, accuracy: 0.96255, loss: 0.17676877506978111\n",
      "epoch: 1, idx: 240, accuracy: 0.9620333333333333, loss: 0.16397981588928398\n",
      "epoch: 1, idx: 250, accuracy: 0.9633166666666667, loss: 0.15729733349531283\n",
      "epoch: 1, idx: 260, accuracy: 0.9641166666666666, loss: 0.16136546642428443\n",
      "epoch: 1, idx: 270, accuracy: 0.9648666666666667, loss: 0.14990393710930028\n",
      "epoch: 1, idx: 280, accuracy: 0.966, loss: 0.1577743144981662\n",
      "epoch: 1, idx: 290, accuracy: 0.9661333333333333, loss: 0.1479766133799723\n",
      "epoch: 1, idx: 300, accuracy: 0.96655, loss: 0.15276069622258312\n",
      "epoch: 1, idx: 310, accuracy: 0.9678, loss: 0.1493784789727175\n",
      "epoch: 1, idx: 320, accuracy: 0.9687166666666667, loss: 0.14059521002366834\n",
      "epoch: 1, idx: 330, accuracy: 0.96915, loss: 0.14678080146532965\n",
      "epoch: 1, idx: 340, accuracy: 0.9698166666666667, loss: 0.1465685401433407\n",
      "epoch: 1, idx: 350, accuracy: 0.9705833333333334, loss: 0.14366859468843557\n",
      "epoch: 1, idx: 360, accuracy: 0.97005, loss: 0.13674397305276903\n",
      "epoch: 1, idx: 370, accuracy: 0.9712833333333334, loss: 0.13577661249119166\n",
      "epoch: 1, idx: 380, accuracy: 0.97095, loss: 0.13255879535786202\n",
      "epoch: 1, idx: 390, accuracy: 0.9709, loss: 0.13317234647048012\n",
      "epoch: 1, idx: 400, accuracy: 0.9719833333333333, loss: 0.13702921312786143\n",
      "epoch: 1, idx: 410, accuracy: 0.9710333333333333, loss: 0.13005966048937243\n",
      "epoch: 1, idx: 420, accuracy: 0.9727833333333333, loss: 0.12780982400537017\n",
      "epoch: 1, idx: 430, accuracy: 0.9729, loss: 0.1250549411691319\n",
      "epoch: 1, idx: 440, accuracy: 0.97405, loss: 0.13185664293939053\n",
      "epoch: 1, idx: 450, accuracy: 0.9735833333333334, loss: 0.1229766086060414\n"
     ]
    }
   ],
   "source": [
    "for epoch in range(EPOCH):\n",
    "    tot_loss = 0\n",
    "    for train_idx, (train_data_batch, train_label_batch) in enumerate(zip(train_data, train_label)):\n",
    "        # train\n",
    "        preds = model.forward(train_data_batch)\n",
    "\n",
    "        tot_loss += criterion.forward(preds, train_label_batch)\n",
    "        propagated_error = criterion.error_derivative()\n",
    "\n",
    "        model.backprop(propagated_error)\n",
    "        model.optimize(LR)\n",
    "\n",
    "        if train_idx == 0 or (train_idx + 1) % PRINT == 0:\n",
    "            tot_acc = 0\n",
    "            tot_sample = 0\n",
    "            for train_acc_idx, (train_acc_data_batch, train_acc_label_batch) in enumerate(zip(train_data, train_label)):\n",
    "                # train accuracy\n",
    "                preds = model.forward(train_acc_data_batch)\n",
    "\n",
    "                pred_args = np.argmax(preds, axis=1)\n",
    "                train_label_args = np.argmax(train_acc_label_batch, axis=1)\n",
    "                tot_acc += np.count_nonzero(pred_args == train_label_args)\n",
    "                tot_sample += train_acc_data_batch.shape[0]\n",
    "            accuracy = tot_acc / tot_sample\n",
    "            if train_idx != 0:\n",
    "                tot_loss = tot_loss / PRINT\n",
    "            print('epoch: {}, idx: {}, accuracy: {}, loss: {}'.format(epoch + 1, train_idx + 1, accuracy, tot_loss))\n",
    "            tot_loss = 0"
   ],
   "metadata": {
    "collapsed": false,
    "is_executing": true,
    "ExecuteTime": {
     "start_time": "2023-06-20T05:50:42.543749459Z"
    }
   }
  }
 ],
 "metadata": {
  "kernelspec": {
   "display_name": "Python 3",
   "language": "python",
   "name": "python3"
  },
  "language_info": {
   "codemirror_mode": {
    "name": "ipython",
    "version": 2
   },
   "file_extension": ".py",
   "mimetype": "text/x-python",
   "name": "python",
   "nbconvert_exporter": "python",
   "pygments_lexer": "ipython2",
   "version": "2.7.6"
  }
 },
 "nbformat": 4,
 "nbformat_minor": 0
}
