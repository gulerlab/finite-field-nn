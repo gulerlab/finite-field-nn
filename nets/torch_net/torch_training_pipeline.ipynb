{
 "cells": [
  {
   "cell_type": "code",
   "execution_count": 1,
   "outputs": [],
   "source": [
    "# TODO: this file is just for debugging after everything works correct clean the repo\n",
    "import torch\n",
    "from torchvision.datasets import MNIST\n",
    "import torchvision.transforms as transforms\n",
    "from torch.utils.data import DataLoader\n",
    "import torch.nn as nn\n",
    "from torch.optim import SGD"
   ],
   "metadata": {
    "collapsed": false,
    "ExecuteTime": {
     "end_time": "2023-06-20T05:37:08.378849279Z",
     "start_time": "2023-06-20T05:37:07.671185311Z"
    }
   }
  },
  {
   "cell_type": "code",
   "execution_count": 2,
   "outputs": [],
   "source": [
    "class PiNetSequential(nn.Module):\n",
    "    def __init__(self, *args, **kwargs):\n",
    "        super().__init__(*args, **kwargs)\n",
    "        self.fc1_1 = nn.Linear(784, 128)\n",
    "        self.fc1_2 = nn.Linear(784, 128)\n",
    "\n",
    "        self.fc2_1 = nn.Linear(128, 64)\n",
    "        self.fc2_2 = nn.Linear(128, 64)\n",
    "\n",
    "        self.fc3 = nn.Linear(64, 10)\n",
    "\n",
    "    def forward(self, input_data):\n",
    "        out_1_1 = self.fc1_1(input_data)\n",
    "        out_1_2 = self.fc1_2(input_data)\n",
    "        out_1 = out_1_1 * out_1_2 + out_1_1\n",
    "        out_2_1 = self.fc2_1(out_1)\n",
    "        out_2_2 = self.fc2_2(out_1)\n",
    "        out_2 = out_2_1 * out_2_2 + out_2_1\n",
    "        out_3 = self.fc3(out_2)\n",
    "        return out_3"
   ],
   "metadata": {
    "collapsed": false,
    "ExecuteTime": {
     "end_time": "2023-06-20T05:37:08.382928583Z",
     "start_time": "2023-06-20T05:37:08.381305884Z"
    }
   }
  },
  {
   "cell_type": "code",
   "execution_count": 3,
   "metadata": {
    "collapsed": true,
    "ExecuteTime": {
     "end_time": "2023-06-20T05:37:34.908560265Z",
     "start_time": "2023-06-20T05:37:09.086691702Z"
    }
   },
   "outputs": [
    {
     "name": "stdout",
     "output_type": "stream",
     "text": [
      "epoch: 0, loss: 1.6517184972763062, acc: 0.1462000012397766\n",
      "epoch: 0, loss: 0.8333964347839355, acc: 0.5586000084877014\n",
      "epoch: 0, loss: 0.6889950037002563, acc: 0.693399965763092\n",
      "epoch: 0, loss: 0.5761732459068298, acc: 0.7583999633789062\n",
      "epoch: 0, loss: 0.5271390080451965, acc: 0.7883999943733215\n",
      "epoch: 0, loss: 0.49322643876075745, acc: 0.8187999725341797\n",
      "epoch: 0, loss: 0.46784907579421997, acc: 0.8305999636650085\n",
      "epoch: 0, loss: 0.4393194615840912, acc: 0.8450999855995178\n",
      "epoch: 0, loss: 0.4344979226589203, acc: 0.8488999605178833\n",
      "epoch: 0, loss: 0.4274926781654358, acc: 0.8669999837875366\n",
      "epoch: 0, loss: 0.39989951252937317, acc: 0.8669999837875366\n",
      "epoch: 0, loss: 0.3819388449192047, acc: 0.8733999729156494\n",
      "epoch: 0, loss: 0.37089622020721436, acc: 0.8764999508857727\n",
      "epoch: 0, loss: 0.36728784441947937, acc: 0.8842999935150146\n",
      "epoch: 0, loss: 0.3459676504135132, acc: 0.8868999481201172\n",
      "epoch: 0, loss: 0.3498058617115021, acc: 0.8924999833106995\n",
      "epoch: 0, loss: 0.35417428612709045, acc: 0.8953999876976013\n",
      "epoch: 0, loss: 0.32561808824539185, acc: 0.8973000049591064\n",
      "epoch: 0, loss: 0.33142587542533875, acc: 0.8982999920845032\n",
      "epoch: 0, loss: 0.32354283332824707, acc: 0.9012999534606934\n",
      "epoch: 0, loss: 0.3133244514465332, acc: 0.903499960899353\n",
      "epoch: 0, loss: 0.3133351504802704, acc: 0.9077000021934509\n",
      "epoch: 0, loss: 0.30015337467193604, acc: 0.9067999720573425\n",
      "epoch: 0, loss: 0.3029823303222656, acc: 0.9091999530792236\n",
      "epoch: 0, loss: 0.30406519770622253, acc: 0.90829998254776\n",
      "epoch: 0, loss: 0.30255281925201416, acc: 0.910099983215332\n",
      "epoch: 0, loss: 0.2953132390975952, acc: 0.9115999937057495\n",
      "epoch: 0, loss: 0.2965654134750366, acc: 0.9139999747276306\n",
      "epoch: 0, loss: 0.28240662813186646, acc: 0.914900004863739\n",
      "epoch: 0, loss: 0.28120070695877075, acc: 0.9152999520301819\n",
      "epoch: 0, loss: 0.29252442717552185, acc: 0.9143999814987183\n",
      "epoch: 0, loss: 0.25866636633872986, acc: 0.9162999987602234\n",
      "epoch: 0, loss: 0.2787705361843109, acc: 0.9158999919891357\n",
      "epoch: 0, loss: 0.256087988615036, acc: 0.9175999760627747\n",
      "epoch: 0, loss: 0.27889207005500793, acc: 0.917199969291687\n",
      "epoch: 0, loss: 0.2654593288898468, acc: 0.9186999797821045\n",
      "epoch: 0, loss: 0.2652028799057007, acc: 0.9185999631881714\n",
      "epoch: 0, loss: 0.2587134540081024, acc: 0.920199990272522\n",
      "epoch: 0, loss: 0.25321027636528015, acc: 0.9212999939918518\n",
      "epoch: 0, loss: 0.2605914771556854, acc: 0.9215999841690063\n",
      "epoch: 0, loss: 0.25197434425354004, acc: 0.9225999712944031\n",
      "epoch: 0, loss: 0.2556265592575073, acc: 0.9218999743461609\n",
      "epoch: 0, loss: 0.24931004643440247, acc: 0.9235000014305115\n",
      "epoch: 0, loss: 0.26492854952812195, acc: 0.9246999621391296\n",
      "epoch: 0, loss: 0.256671279668808, acc: 0.9249999523162842\n",
      "epoch: 0, loss: 0.25880423188209534, acc: 0.9267999529838562\n",
      "epoch: 0, loss: 0.2682003378868103, acc: 0.9271999597549438\n"
     ]
    }
   ],
   "source": [
    "batch_size = 128\n",
    "num_of_epochs = 1\n",
    "device = 'cuda' if torch.cuda.is_available() else 'cpu'\n",
    "\n",
    "# transformations\n",
    "transform = transforms.Compose([\n",
    "    transforms.ToTensor(),\n",
    "    transforms.Normalize((0.1307,), (0.3081,))\n",
    "])\n",
    "\n",
    "target_transform = transforms.Lambda(lambda y: torch.zeros(10, dtype=torch.float)\n",
    "                                     .scatter_(0, torch.tensor(y), 1))\n",
    "\n",
    "# load data\n",
    "train_dataset = MNIST('../../data', train=True, transform=transform, target_transform=target_transform,\n",
    "                      download=True)\n",
    "train_loader = DataLoader(train_dataset, batch_size=batch_size, shuffle=True)\n",
    "\n",
    "test_dataset = MNIST('../../data', train=False, transform=transform, download=True)\n",
    "test_loader = DataLoader(test_dataset, batch_size=batch_size, shuffle=True)\n",
    "\n",
    "last_batch_idx = int(len(train_dataset) / batch_size)\n",
    "if len(train_dataset) % batch_size != 0:\n",
    "    last_batch_idx = last_batch_idx + 1\n",
    "\n",
    "model = PiNetSequential().to(device)\n",
    "optimizer = SGD(model.parameters(), lr=0.1)\n",
    "criterion = nn.MSELoss()\n",
    "running_loss = []\n",
    "running_acc = []\n",
    "running_curr_loss = []\n",
    "for epoch in range(num_of_epochs):\n",
    "    curr_loss = torch.zeros(1).to(device)\n",
    "    for idx, (data, label) in enumerate(train_loader):\n",
    "        model.train()\n",
    "        data = data.reshape(data.size(0), -1).to(device)\n",
    "        label = label.to(device)\n",
    "        optimizer.zero_grad()\n",
    "        out = model(data)\n",
    "        loss = criterion(label, out)\n",
    "        loss.backward()\n",
    "        optimizer.step()\n",
    "        curr_loss += loss * 10\n",
    "        running_curr_loss.append(loss.item() * 10)\n",
    "\n",
    "        with torch.no_grad():\n",
    "            if idx == 0 or (idx + 1) % 10 == 0 or (idx + 1) == last_batch_idx:\n",
    "                curr_acc = 0\n",
    "                model.eval()\n",
    "                if idx == 0:\n",
    "                    running_loss.append(curr_loss.item())\n",
    "                elif (idx + 1) == last_batch_idx:\n",
    "                    running_loss.append((curr_loss / ((idx + 1) % 10)).item())\n",
    "                else:\n",
    "                    running_loss.append((curr_loss / 10).item())\n",
    "                test_total = 0\n",
    "                for test_data, test_label in test_loader:\n",
    "                    test_data = test_data.reshape(test_data.size(0), -1).to(device)\n",
    "                    test_label = test_label.to(device)\n",
    "                    test_out = model(test_data)\n",
    "                    pred_label = torch.argmax(test_out, dim=1)\n",
    "                    # noinspection PyTypeChecker\n",
    "                    curr_acc = curr_acc + torch.count_nonzero(pred_label == test_label)\n",
    "                    test_total = test_total + test_data.size(0)\n",
    "                running_acc.append(curr_acc / test_total)\n",
    "                if idx == 0 or (idx + 1) % 10 == 0:\n",
    "                    print('epoch: {}, loss: {}, acc: {}'.format(epoch, running_loss[-1], running_acc[-1]))\n",
    "                curr_loss = torch.zeros(1).to(device)"
   ]
  }
 ],
 "metadata": {
  "kernelspec": {
   "display_name": "Python 3",
   "language": "python",
   "name": "python3"
  },
  "language_info": {
   "codemirror_mode": {
    "name": "ipython",
    "version": 2
   },
   "file_extension": ".py",
   "mimetype": "text/x-python",
   "name": "python",
   "nbconvert_exporter": "python",
   "pygments_lexer": "ipython2",
   "version": "2.7.6"
  }
 },
 "nbformat": 4,
 "nbformat_minor": 0
}
